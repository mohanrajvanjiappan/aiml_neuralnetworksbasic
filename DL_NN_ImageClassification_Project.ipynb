{
  "nbformat": 4,
  "nbformat_minor": 0,
  "metadata": {
    "colab": {
      "name": "DL_NN_Project.ipynb",
      "provenance": [],
      "collapsed_sections": []
    },
    "kernelspec": {
      "name": "python3",
      "display_name": "Python 3"
    },
    "accelerator": "GPU"
  },
  "cells": [
    {
      "cell_type": "markdown",
      "metadata": {
        "id": "j-Ryfdt_VV1z",
        "colab_type": "text"
      },
      "source": [
        "The given input data file is too huge to load it in github and load here, hence making use of Google drive service to load the file. It asks for \n",
        "authentication each time.\n"
      ]
    },
    {
      "cell_type": "code",
      "metadata": {
        "id": "0RBz6hIoVWZj",
        "colab_type": "code",
        "colab": {
          "base_uri": "https://localhost:8080/",
          "height": 34
        },
        "outputId": "0c4f90dd-f980-49ec-f93d-338b76768e42"
      },
      "source": [
        "from google.colab import drive\n",
        "drive.mount(\"/content/gdrive\")"
      ],
      "execution_count": 113,
      "outputs": [
        {
          "output_type": "stream",
          "text": [
            "Drive already mounted at /content/gdrive; to attempt to forcibly remount, call drive.mount(\"/content/gdrive\", force_remount=True).\n"
          ],
          "name": "stdout"
        }
      ]
    },
    {
      "cell_type": "markdown",
      "metadata": {
        "id": "95obzlhNVeIx",
        "colab_type": "text"
      },
      "source": [
        "import necessary libraries"
      ]
    },
    {
      "cell_type": "code",
      "metadata": {
        "id": "VBKVPFRh4Fz5",
        "colab_type": "code",
        "colab": {}
      },
      "source": [
        "%matplotlib inline\n",
        "import pandas as pd\n",
        "import numpy as np\n",
        "import h5py\n",
        "from sklearn.metrics import confusion_matrix\n",
        "from sklearn.neighbors import KNeighborsClassifier\n",
        "from scipy.stats import zscore\n",
        "from sklearn import metrics\n",
        "from keras.utils import np_utils\n",
        "import matplotlib.pyplot as plt\n",
        "from random import shuffle\n",
        "from keras.models import Sequential\n",
        "from keras.layers.core import Activation\n",
        "from keras.layers.core import Flatten\n",
        "from keras.layers.core import Dense\n",
        "from keras import backend as K"
      ],
      "execution_count": 0,
      "outputs": []
    },
    {
      "cell_type": "markdown",
      "metadata": {
        "id": "r6zE57F8WOOO",
        "colab_type": "text"
      },
      "source": [
        "Once the google drive file is mounted then the corresponding given input file is loaded on Dataframe."
      ]
    },
    {
      "cell_type": "code",
      "metadata": {
        "id": "2L0_thge3qcE",
        "colab_type": "code",
        "outputId": "2548043d-1e54-44ca-b234-d36aa5f65c7d",
        "colab": {
          "base_uri": "https://localhost:8080/",
          "height": 34
        }
      },
      "source": [
        "file = h5py.File('/content/gdrive/My Drive/SVHN_single_grey1.h5','r')\n",
        "#list down the keys from the h5 file\n",
        "list(file.keys())"
      ],
      "execution_count": 115,
      "outputs": [
        {
          "output_type": "execute_result",
          "data": {
            "text/plain": [
              "['X_test', 'X_train', 'X_val', 'y_test', 'y_train', 'y_val']"
            ]
          },
          "metadata": {
            "tags": []
          },
          "execution_count": 115
        }
      ]
    },
    {
      "cell_type": "markdown",
      "metadata": {
        "id": "bUFH1845WZ-k",
        "colab_type": "text"
      },
      "source": [
        "Fetching the values from h5 file"
      ]
    },
    {
      "cell_type": "code",
      "metadata": {
        "id": "OaGufux87lGL",
        "colab_type": "code",
        "colab": {}
      },
      "source": [
        "[X_train, y_train, X_val, y_val, X_test, y_test ]= [file['X_train'], file['y_train'], file['X_val'], file['y_val'], file['X_test'], file['y_test']]"
      ],
      "execution_count": 0,
      "outputs": []
    },
    {
      "cell_type": "code",
      "metadata": {
        "id": "_gwx_bnv6kLT",
        "colab_type": "code",
        "outputId": "8c59dd45-27ac-4577-bc40-d7fa57025896",
        "colab": {
          "base_uri": "https://localhost:8080/",
          "height": 136
        }
      },
      "source": [
        "print(\"###############Checking the Shape of each dataset received ###############\")\n",
        "print('X_Train Shape: ',X_train.shape)\n",
        "print('y_Train Shape: ',y_train.shape)\n",
        "print('X_Validation Shape: ',X_val.shape)\n",
        "print('y_Validation Shape: ',y_val.shape)\n",
        "print('X_Test Shape: ',X_test.shape)\n",
        "print('y_Test Shape: ',y_test.shape)"
      ],
      "execution_count": 117,
      "outputs": [
        {
          "output_type": "stream",
          "text": [
            "###############Checking the Shape of each dataset received ###############\n",
            "X_Train Shape:  (42000, 32, 32)\n",
            "y_Train Shape:  (42000,)\n",
            "X_Validation Shape:  (60000, 32, 32)\n",
            "y_Validation Shape:  (60000,)\n",
            "X_Test Shape:  (18000, 32, 32)\n",
            "y_Test Shape:  (18000,)\n"
          ],
          "name": "stdout"
        }
      ]
    },
    {
      "cell_type": "markdown",
      "metadata": {
        "id": "psRvw1SAWh2_",
        "colab_type": "text"
      },
      "source": [
        "Reshape the input data (flatten the 32x32 image sizes to 1024)"
      ]
    },
    {
      "cell_type": "code",
      "metadata": {
        "id": "CXsGLXS38I4o",
        "colab_type": "code",
        "colab": {}
      },
      "source": [
        "X_train = np.array(X_train).reshape(42000,1024)\n",
        "X_val = np.array(X_val).reshape(60000,1024)\n",
        "X_test = np.array(X_test).reshape(18000,1024)\n",
        "y_train = np.array(y_train)\n",
        "y_val = np.array(y_val)\n",
        "y_test = np.array(y_test)"
      ],
      "execution_count": 0,
      "outputs": []
    },
    {
      "cell_type": "markdown",
      "metadata": {
        "id": "o79wnpCnWnND",
        "colab_type": "text"
      },
      "source": [
        "Implementing Simple K-Nearest Neighbors classifier for Image Classification"
      ]
    },
    {
      "cell_type": "code",
      "metadata": {
        "id": "14x9N5wE7hDs",
        "colab_type": "code",
        "colab": {}
      },
      "source": [
        "model = KNeighborsClassifier(n_neighbors= 3 , weights = 'distance' )"
      ],
      "execution_count": 0,
      "outputs": []
    },
    {
      "cell_type": "markdown",
      "metadata": {
        "id": "7M1IZAFOWqk8",
        "colab_type": "text"
      },
      "source": [
        "Converting to Z-scores to ensure all the input records are standardized"
      ]
    },
    {
      "cell_type": "code",
      "metadata": {
        "id": "o-nxqMfIA6xy",
        "colab_type": "code",
        "colab": {}
      },
      "source": [
        "X_train_z = zscore(X_train)\n",
        "X_val_z = zscore(X_val)\n",
        "X_test_z = zscore(X_test)"
      ],
      "execution_count": 0,
      "outputs": []
    },
    {
      "cell_type": "markdown",
      "metadata": {
        "id": "FFiUsMC3WvI1",
        "colab_type": "text"
      },
      "source": [
        "Fit the model with Training data"
      ]
    },
    {
      "cell_type": "code",
      "metadata": {
        "id": "cHSZ_e3LBhng",
        "colab_type": "code",
        "outputId": "43e47ac7-1908-47b9-d62d-771a292d701d",
        "colab": {
          "base_uri": "https://localhost:8080/",
          "height": 68
        }
      },
      "source": [
        "model.fit(X_train_z,y_train)"
      ],
      "execution_count": 121,
      "outputs": [
        {
          "output_type": "execute_result",
          "data": {
            "text/plain": [
              "KNeighborsClassifier(algorithm='auto', leaf_size=30, metric='minkowski',\n",
              "                     metric_params=None, n_jobs=None, n_neighbors=3, p=2,\n",
              "                     weights='distance')"
            ]
          },
          "metadata": {
            "tags": []
          },
          "execution_count": 121
        }
      ]
    },
    {
      "cell_type": "markdown",
      "metadata": {
        "id": "woaALl1cWyBa",
        "colab_type": "text"
      },
      "source": [
        "With the original size of given Test set the GPU was taking lot of time to predict since the number of attributes are 1024 and 18K test records.\n",
        "K-nearest algorithm has to determine the distances for test data during the prediction time. This is one of the reason it is not perferred for Image Classifications\n",
        "in real time where when the users try to predict something during runtime on Production it will take lot of time. Hence taking the subset for simplification,so that the classification metrics can be derived."
      ]
    },
    {
      "cell_type": "code",
      "metadata": {
        "id": "YqCuRZ1JBnsa",
        "colab_type": "code",
        "outputId": "4e494b6c-7da8-494e-abef-a88f6a35408a",
        "colab": {
          "base_uri": "https://localhost:8080/",
          "height": 51
        }
      },
      "source": [
        "X_test_z_subset = X_test_z[17500:]\n",
        "y_test_subset = y_test[17500:]\n",
        "print(X_test_z_subset.shape)\n",
        "print(y_test_subset.shape)"
      ],
      "execution_count": 122,
      "outputs": [
        {
          "output_type": "stream",
          "text": [
            "(500, 1024)\n",
            "(500,)\n"
          ],
          "name": "stdout"
        }
      ]
    },
    {
      "cell_type": "markdown",
      "metadata": {
        "id": "6O0-dgE4W6PF",
        "colab_type": "text"
      },
      "source": [
        "Predicting the labels for subset of test data"
      ]
    },
    {
      "cell_type": "code",
      "metadata": {
        "id": "1xlLV6qAscM5",
        "colab_type": "code",
        "colab": {}
      },
      "source": [
        "y_predict = model.predict(X_test_z_subset)"
      ],
      "execution_count": 0,
      "outputs": []
    },
    {
      "cell_type": "markdown",
      "metadata": {
        "id": "CCJkzrAeXIn3",
        "colab_type": "text"
      },
      "source": [
        "Deriving the Classification metrics"
      ]
    },
    {
      "cell_type": "code",
      "metadata": {
        "id": "3ODrVebDFYzk",
        "colab_type": "code",
        "colab": {}
      },
      "source": [
        "score = model.score(X_test_z_subset, y_test_subset)\n",
        "precision_Kmean, recall_Kmean,fscore_Kmean,support_Kmean = metrics.precision_recall_fscore_support(y_test_subset, y_predict, average='weighted')"
      ],
      "execution_count": 0,
      "outputs": []
    },
    {
      "cell_type": "code",
      "metadata": {
        "id": "gq00P5CpCRS8",
        "colab_type": "code",
        "outputId": "e8b5fe72-6216-40d0-9b46-260d3de9be25",
        "colab": {
          "base_uri": "https://localhost:8080/",
          "height": 85
        }
      },
      "source": [
        "print(\"Precision:\", precision_Kmean, \"\\nRecall:\", recall_Kmean, \"\\nfScore:\", fscore_Kmean, \"\\nSupport: \" , support_Kmean)"
      ],
      "execution_count": 125,
      "outputs": [
        {
          "output_type": "stream",
          "text": [
            "Precision: 0.46726604551888157 \n",
            "Recall: 0.464 \n",
            "fScore: 0.4629475447667764 \n",
            "Support:  None\n"
          ],
          "name": "stdout"
        }
      ]
    },
    {
      "cell_type": "code",
      "metadata": {
        "id": "0qJZ669pBKPz",
        "colab_type": "code",
        "colab": {
          "base_uri": "https://localhost:8080/",
          "height": 187
        },
        "outputId": "79089822-3f87-4a50-a258-d9b692b345c7"
      },
      "source": [
        "y_predict = model.predict(X_test_z_subset)\n",
        "cm_Kmean = confusion_matrix(y_test_subset, y_predict)\n",
        "print(cm_Kmean)"
      ],
      "execution_count": 126,
      "outputs": [
        {
          "output_type": "stream",
          "text": [
            "[[32  1  1  1  2  2  8  2  4  5]\n",
            " [ 0 34  6  3  7  5  2  0  2  2]\n",
            " [ 4  3 20  3  3  1  2  5  1  5]\n",
            " [ 3  3  2 26  4 11  5  2  5  3]\n",
            " [ 0  4  3  1 19  1  1  0  3  2]\n",
            " [ 3  3  1 10  2 15  5  1 10  2]\n",
            " [ 6  4  1  2  1  1 21  1  4  1]\n",
            " [ 0  7  4  2  0  1  1 21  1  1]\n",
            " [ 0  2  0  3  1  6  8  2 22  5]\n",
            " [13  2  2  1  3  3  4  2  3 22]]\n"
          ],
          "name": "stdout"
        }
      ]
    },
    {
      "cell_type": "markdown",
      "metadata": {
        "id": "9QHChM4PZEka",
        "colab_type": "text"
      },
      "source": [
        "Implementing Fully Connected Linear Neural Network \n",
        "With the code reference from the videos."
      ]
    },
    {
      "cell_type": "markdown",
      "metadata": {
        "id": "cW7OMgnj-41i",
        "colab_type": "text"
      },
      "source": [
        "Fully Connected Layer (Linear Layer)"
      ]
    },
    {
      "cell_type": "code",
      "metadata": {
        "id": "RAdgiizd-41k",
        "colab_type": "code",
        "colab": {}
      },
      "source": [
        "class Linear():\n",
        "    def __init__(self, in_size, out_size):\n",
        "        self.W = np.random.randn(in_size, out_size) * 0.01\n",
        "        self.b = np.zeros((1, out_size))\n",
        "        self.params = [self.W, self.b]\n",
        "        self.gradW = None\n",
        "        self.gradB = None\n",
        "        self.gradInput = None        \n",
        "\n",
        "    def forward(self, X):\n",
        "        self.X = X\n",
        "        self.output = np.dot(X, self.W) + self.b\n",
        "        return self.output\n",
        "\n",
        "    def backward(self, nextgrad):\n",
        "        self.gradW = np.dot(self.X.T, nextgrad)\n",
        "        self.gradB = np.sum(nextgrad, axis=0)\n",
        "        self.gradInput = np.dot(nextgrad, self.W.T)\n",
        "        return self.gradInput, [self.gradW, self.gradB]"
      ],
      "execution_count": 0,
      "outputs": []
    },
    {
      "cell_type": "markdown",
      "metadata": {
        "id": "sNT0G4Oi-41n",
        "colab_type": "text"
      },
      "source": [
        "Rectified Linear Activation Layer (ReLU) which takes the argmax(0,input)\n"
      ]
    },
    {
      "cell_type": "code",
      "metadata": {
        "id": "Ojw4kYCh-41o",
        "colab_type": "code",
        "colab": {}
      },
      "source": [
        "class ReLU():\n",
        "    def __init__(self):\n",
        "        self.params = []\n",
        "        self.gradInput = None\n",
        "\n",
        "    def forward(self, X):\n",
        "        self.output = np.maximum(X, 0)\n",
        "        return self.output\n",
        "\n",
        "    def backward(self, nextgrad):\n",
        "        self.gradInput = nextgrad.copy()\n",
        "        self.gradInput[self.output <=0] = 0\n",
        "        return self.gradInput, []"
      ],
      "execution_count": 0,
      "outputs": []
    },
    {
      "cell_type": "markdown",
      "metadata": {
        "id": "WhxashRd-41r",
        "colab_type": "text"
      },
      "source": [
        "softmax function to derive the proability distribution of given input"
      ]
    },
    {
      "cell_type": "code",
      "metadata": {
        "id": "DsJbwG_w-41s",
        "colab_type": "code",
        "colab": {}
      },
      "source": [
        "def softmax(x):\n",
        "    exp_x = np.exp(x - np.max(x, axis=1, keepdims=True))\n",
        "    return exp_x / np.sum(exp_x, axis=1, keepdims=True)"
      ],
      "execution_count": 0,
      "outputs": []
    },
    {
      "cell_type": "markdown",
      "metadata": {
        "id": "wXztVXZG-41u",
        "colab_type": "text"
      },
      "source": [
        "Cross Entropy Loss"
      ]
    },
    {
      "cell_type": "code",
      "metadata": {
        "id": "sK4FDJov-41v",
        "colab_type": "code",
        "colab": {}
      },
      "source": [
        "class CrossEntropy:\n",
        "    def forward(self, X, y):\n",
        "        self.m = y.shape[0]\n",
        "        self.p = softmax(X)\n",
        "        cross_entropy = -np.log(self.p[range(self.m), y]+1e-16)\n",
        "        loss = np.sum(cross_entropy) / self.m\n",
        "        return loss\n",
        "    \n",
        "    def backward(self, X, y):\n",
        "        y_idx = y.argmax()        \n",
        "        grad = softmax(X)\n",
        "        grad[range(self.m), y] -= 1\n",
        "        grad /= self.m\n",
        "        return grad"
      ],
      "execution_count": 0,
      "outputs": []
    },
    {
      "cell_type": "markdown",
      "metadata": {
        "id": "vMxVCaDV-41y",
        "colab_type": "text"
      },
      "source": [
        "Loading the Image Classficiation dataset"
      ]
    },
    {
      "cell_type": "code",
      "metadata": {
        "id": "6TVhttna-41z",
        "colab_type": "code",
        "colab": {
          "base_uri": "https://localhost:8080/",
          "height": 34
        },
        "outputId": "d2c4d334-95dd-488e-a4e3-938240c0b95a"
      },
      "source": [
        "#normalize inputs from 0-255 to 0-1\n",
        "X_train = X_train / 255.0\n",
        "X_val = X_test / 255.0\n",
        "y_val = y_test\n",
        "y_train = y_train\n",
        "print(X_train.shape)"
      ],
      "execution_count": 131,
      "outputs": [
        {
          "output_type": "stream",
          "text": [
            "(42000, 1024)\n"
          ],
          "name": "stdout"
        }
      ]
    },
    {
      "cell_type": "code",
      "metadata": {
        "id": "FJXTn_YLihXW",
        "colab_type": "code",
        "colab": {
          "base_uri": "https://localhost:8080/",
          "height": 238
        },
        "outputId": "5b79acde-fc2a-420f-8591-d752b08eb3cd"
      },
      "source": [
        "#verify X_train converted as 0-1\n",
        "X_train"
      ],
      "execution_count": 132,
      "outputs": [
        {
          "output_type": "execute_result",
          "data": {
            "text/plain": [
              "array([[0.12968785, 0.11866706, 0.10530196, ..., 0.19477727, 0.19942354,\n",
              "        0.20799099],\n",
              "       [0.34101608, 0.3414451 , 0.34656274, ..., 0.29498273, 0.30054745,\n",
              "        0.31092745],\n",
              "       [0.48284313, 0.49356118, 0.47872823, ..., 0.36837214, 0.41093138,\n",
              "        0.44637334],\n",
              "       ...,\n",
              "       [0.6042902 , 0.61100274, 0.6149663 , ..., 0.52993256, 0.53592   ,\n",
              "        0.5398412 ],\n",
              "       [0.8137075 , 0.8176286 , 0.8353796 , ..., 0.83974785, 0.8319055 ,\n",
              "        0.820142  ],\n",
              "       [0.37285647, 0.37677765, 0.39246237, ..., 0.5414914 , 0.5509529 ,\n",
              "        0.5509529 ]], dtype=float32)"
            ]
          },
          "metadata": {
            "tags": []
          },
          "execution_count": 132
        }
      ]
    },
    {
      "cell_type": "code",
      "metadata": {
        "id": "hOdJ0mLx-413",
        "colab_type": "code",
        "colab": {
          "base_uri": "https://localhost:8080/",
          "height": 95
        },
        "outputId": "ea196a65-543a-44ff-d097-e6ea7737334b"
      },
      "source": [
        "# visualizing the first 10 images in the dataset and their labels\n",
        "plt.figure(figsize=(10, 1))\n",
        "for i in range(10):\n",
        "    plt.subplot(1, 10, i+1)\n",
        "    plt.imshow(X_train[i].reshape(32, 32), cmap=\"gray\")\n",
        "    plt.axis('off')\n",
        "plt.show()\n",
        "print('label for each of the above image: %s' % (y_train[0:10]))"
      ],
      "execution_count": 133,
      "outputs": [
        {
          "output_type": "display_data",
          "data": {
            "image/png": "[encoded data removed]",
            "text/plain": [
              "<Figure size 720x72 with 10 Axes>"
            ]
          },
          "metadata": {
            "tags": []
          }
        },
        {
          "output_type": "stream",
          "text": [
            "label for each of the above image: [2 6 7 4 4 0 3 0 7 3]\n"
          ],
          "name": "stdout"
        }
      ]
    },
    {
      "cell_type": "markdown",
      "metadata": {
        "id": "AY4u7Csw-416",
        "colab_type": "text"
      },
      "source": [
        "Here, we define the container NN class that enables the forward prop and backward propagation of the entire network. Note, how this class enables us to add layers of different types and also correctly pass gradients using the chain rule."
      ]
    },
    {
      "cell_type": "code",
      "metadata": {
        "id": "ELA8nRlQ-416",
        "colab_type": "code",
        "colab": {}
      },
      "source": [
        "class NN():\n",
        "    def __init__(self, lossfunc=CrossEntropy(), mode='train'):\n",
        "        self.params = []\n",
        "        self.layers = []\n",
        "        self.loss_func = lossfunc\n",
        "        self.grads = []\n",
        "        self.mode = mode\n",
        "        \n",
        "    def add_layer(self, layer):\n",
        "        self.layers.append(layer)\n",
        "        self.params.append(layer.params)\n",
        "\n",
        "    def forward(self, X):\n",
        "        for layer in self.layers:\n",
        "            X = layer.forward(X)\n",
        "        return X\n",
        "    \n",
        "    def backward(self, nextgrad):\n",
        "        self.clear_grad_param()\n",
        "        for layer in reversed(self.layers):\n",
        "            nextgrad, grad = layer.backward(nextgrad)\n",
        "            self.grads.append(grad)\n",
        "        return self.grads\n",
        "    \n",
        "    def train_step(self, X, y):\n",
        "        out = self.forward(X)\n",
        "        loss = self.loss_func.forward(out,y)\n",
        "        nextgrad = self.loss_func.backward(out,y)\n",
        "        grads = self.backward(nextgrad)\n",
        "        return loss, grads\n",
        "    \n",
        "    def predict(self, X):\n",
        "        X = self.forward(X)\n",
        "        p = softmax(X)\n",
        "        return np.argmax(p, axis=1)\n",
        "    \n",
        "    def predict_scores(self, X):\n",
        "        X = self.forward(X)\n",
        "        p = softmax(X)\n",
        "        return p\n",
        "    \n",
        "    def clear_grad_param(self):\n",
        "        self.grads = []"
      ],
      "execution_count": 0,
      "outputs": []
    },
    {
      "cell_type": "markdown",
      "metadata": {
        "id": "kiNRGwAF-419",
        "colab_type": "text"
      },
      "source": [
        "Defining the update function (SGD with momentum)"
      ]
    },
    {
      "cell_type": "code",
      "metadata": {
        "id": "f8j_S87p-41-",
        "colab_type": "code",
        "colab": {}
      },
      "source": [
        "def update_params(velocity, params, grads, learning_rate=0.01, mu=0.9):\n",
        "    for v, p, g, in zip(velocity, params, reversed(grads)):\n",
        "        for i in range(len(g)):\n",
        "            v[i] = mu * v[i] - learning_rate * g[i]\n",
        "            p[i] += v[i]"
      ],
      "execution_count": 0,
      "outputs": []
    },
    {
      "cell_type": "markdown",
      "metadata": {
        "id": "Awa3OaYl-42A",
        "colab_type": "text"
      },
      "source": [
        "Defining a function which gives us the minibatches (both the datapoint and the corresponding label)"
      ]
    },
    {
      "cell_type": "code",
      "metadata": {
        "id": "PifuW7YD-42B",
        "colab_type": "code",
        "colab": {}
      },
      "source": [
        "# get minibatches\n",
        "def minibatch(X, y, minibatch_size):\n",
        "    n = X.shape[0]\n",
        "    minibatches = []\n",
        "    permutation = np.random.permutation(X.shape[0])\n",
        "    X = X[permutation]\n",
        "    y = y[permutation]\n",
        "    \n",
        "    for i in range(0, n , minibatch_size):\n",
        "        X_batch = X[i:i + minibatch_size, :]\n",
        "        y_batch = y[i:i + minibatch_size, ]\n",
        "        minibatches.append((X_batch, y_batch))\n",
        "        \n",
        "    return minibatches"
      ],
      "execution_count": 0,
      "outputs": []
    },
    {
      "cell_type": "markdown",
      "metadata": {
        "id": "SomebN6Z-42E",
        "colab_type": "text"
      },
      "source": [
        "The traning loop"
      ]
    },
    {
      "cell_type": "code",
      "metadata": {
        "id": "MTCESQJL-42E",
        "colab_type": "code",
        "colab": {}
      },
      "source": [
        "def train(net, X_train, y_train, minibatch_size, epoch, learning_rate, mu=0.9, X_val=None, y_val=None):\n",
        "    val_loss_epoch = []\n",
        "    minibatches = minibatch(X_train, y_train, minibatch_size)\n",
        "    minibatches_val = minibatch(X_val, y_val, minibatch_size)\n",
        "\n",
        "    \n",
        "    for i in range(epoch):\n",
        "        loss_batch = []\n",
        "        val_loss_batch = []\n",
        "        velocity = []\n",
        "        for param_layer in net.params:\n",
        "            p = [np.zeros_like(param) for param in list(param_layer)]\n",
        "            velocity.append(p)\n",
        "            \n",
        "        # iterate over mini batches\n",
        "        for X_mini, y_mini in minibatches:\n",
        "            loss, grads = net.train_step(X_mini, y_mini)\n",
        "            loss_batch.append(loss)\n",
        "            update_params(velocity, net.params, grads, learning_rate=learning_rate, mu=mu)\n",
        "\n",
        "        for X_mini_val, y_mini_val in minibatches_val:\n",
        "            val_loss, _ = net.train_step(X_mini, y_mini)\n",
        "            val_loss_batch.append(val_loss)\n",
        "        \n",
        "        # accuracy of model at end of epoch after all mini batch updates\n",
        "        m_train = X_train.shape[0]\n",
        "        m_val = X_val.shape[0]\n",
        "        y_train_pred = np.array([], dtype=\"int64\")\n",
        "        y_val_pred = np.array([], dtype=\"int64\")\n",
        "        y_train1 = []\n",
        "        y_vall = []\n",
        "        for i in range(0, m_train, minibatch_size):\n",
        "            X_tr = X_train[i:i + minibatch_size, : ]\n",
        "            y_tr = y_train[i:i + minibatch_size,]\n",
        "            y_train1 = np.append(y_train1, y_tr)\n",
        "            y_train_pred = np.append(y_train_pred, net.predict(X_tr))\n",
        "\n",
        "        for i in range(0, m_val, minibatch_size):\n",
        "            X_va = X_val[i:i + minibatch_size, : ]\n",
        "            y_va = y_val[i:i + minibatch_size,]\n",
        "            y_vall = np.append(y_vall, y_va)\n",
        "            y_val_pred = np.append(y_val_pred, net.predict(X_va))\n",
        "            \n",
        "        train_acc = check_accuracy(y_train1, y_train_pred)\n",
        "        val_acc = check_accuracy(y_vall, y_val_pred)\n",
        "\n",
        "        mean_train_loss = sum(loss_batch) / float(len(loss_batch))\n",
        "        mean_val_loss = sum(val_loss_batch) / float(len(val_loss_batch))\n",
        "        \n",
        "        val_loss_epoch.append(mean_val_loss)\n",
        "        print(\"Loss = {0} | Training Accuracy = {1} | Val Loss = {2} | Val Accuracy = {3}\".format(mean_train_loss, train_acc, mean_val_loss, val_acc))\n",
        "    return net"
      ],
      "execution_count": 0,
      "outputs": []
    },
    {
      "cell_type": "markdown",
      "metadata": {
        "id": "muqV3Soc-42I",
        "colab_type": "text"
      },
      "source": [
        "Accuracy of the model "
      ]
    },
    {
      "cell_type": "code",
      "metadata": {
        "id": "FMh7SL56-42J",
        "colab_type": "code",
        "colab": {}
      },
      "source": [
        "def check_accuracy(y_true, y_pred):\n",
        "    return np.mean(y_pred == y_true)"
      ],
      "execution_count": 0,
      "outputs": []
    },
    {
      "cell_type": "markdown",
      "metadata": {
        "id": "MshhSIx2-42N",
        "colab_type": "text"
      },
      "source": [
        "Defining the parameters required"
      ]
    },
    {
      "cell_type": "code",
      "metadata": {
        "id": "6A44bg3X-42N",
        "colab_type": "code",
        "colab": {}
      },
      "source": [
        "## input size\n",
        "input_dim = X_train.shape[1]\n",
        "\n",
        "## hyperparameters\n",
        "iterations = 10\n",
        "learning_rate = 0.001\n",
        "hidden_nodes = 64\n",
        "output_nodes = 10\n",
        "\n",
        "## define neural net\n",
        "nn = NN()\n",
        "nn.add_layer(Linear(input_dim, hidden_nodes))\n",
        "nn.add_layer(ReLU())\n",
        "nn.add_layer(Linear(hidden_nodes, output_nodes))"
      ],
      "execution_count": 0,
      "outputs": []
    },
    {
      "cell_type": "code",
      "metadata": {
        "id": "jQ-SOSx7Q4k5",
        "colab_type": "code",
        "colab": {
          "base_uri": "https://localhost:8080/",
          "height": 1000
        },
        "outputId": "eb653828-21ce-418c-ec65-70822a90b7ca"
      },
      "source": [
        "#Training the Neural Network with 500 epochs after which the validation accuracy is not increasing much beyond 82%.\n",
        "nn = train(nn, X_train , y_train, minibatch_size=100, epoch=500, learning_rate=learning_rate, X_val=X_val, y_val=y_val)"
      ],
      "execution_count": 140,
      "outputs": [
        {
          "output_type": "stream",
          "text": [
            "Loss = 2.3026254966955904 | Training Accuracy = 0.1034047619047619 | Val Loss = 2.3020450601960682 | Val Accuracy = 0.10466666666666667\n",
            "Loss = 2.302436589669163 | Training Accuracy = 0.10230952380952381 | Val Loss = 2.3019865311164827 | Val Accuracy = 0.09544444444444444\n",
            "Loss = 2.3022479566579466 | Training Accuracy = 0.10219047619047619 | Val Loss = 2.3018960127358667 | Val Accuracy = 0.09522222222222222\n",
            "Loss = 2.3020017949364884 | Training Accuracy = 0.10207142857142858 | Val Loss = 2.301743296911695 | Val Accuracy = 0.09538888888888888\n",
            "Loss = 2.301656754655882 | Training Accuracy = 0.10221428571428572 | Val Loss = 2.3015703968727195 | Val Accuracy = 0.0956111111111111\n",
            "Loss = 2.301155327985102 | Training Accuracy = 0.10335714285714286 | Val Loss = 2.301292994391318 | Val Accuracy = 0.0965\n",
            "Loss = 2.30039443969987 | Training Accuracy = 0.11216666666666666 | Val Loss = 2.3008628145616266 | Val Accuracy = 0.10622222222222222\n",
            "Loss = 2.299224516266344 | Training Accuracy = 0.13747619047619047 | Val Loss = 2.300133130138861 | Val Accuracy = 0.1297222222222222\n",
            "Loss = 2.2974209942178248 | Training Accuracy = 0.17466666666666666 | Val Loss = 2.2989065021153 | Val Accuracy = 0.16872222222222222\n",
            "Loss = 2.294619401633882 | Training Accuracy = 0.20585714285714285 | Val Loss = 2.296951452042091 | Val Accuracy = 0.204\n",
            "Loss = 2.290296204216042 | Training Accuracy = 0.23064285714285715 | Val Loss = 2.293878825617937 | Val Accuracy = 0.22855555555555557\n",
            "Loss = 2.2836475889347043 | Training Accuracy = 0.24738095238095237 | Val Loss = 2.2891496189182554 | Val Accuracy = 0.24266666666666667\n",
            "Loss = 2.27356428416223 | Training Accuracy = 0.25826190476190475 | Val Loss = 2.2819205585275846 | Val Accuracy = 0.2554444444444444\n",
            "Loss = 2.2585946645680157 | Training Accuracy = 0.26645238095238094 | Val Loss = 2.271102584453117 | Val Accuracy = 0.26255555555555554\n",
            "Loss = 2.237130227665957 | Training Accuracy = 0.27554761904761904 | Val Loss = 2.255270277949303 | Val Accuracy = 0.27066666666666667\n",
            "Loss = 2.207757415267711 | Training Accuracy = 0.2864285714285714 | Val Loss = 2.233273517769536 | Val Accuracy = 0.282\n",
            "Loss = 2.1698735279097647 | Training Accuracy = 0.296 | Val Loss = 2.203932184878628 | Val Accuracy = 0.2966111111111111\n",
            "Loss = 2.1242302005944094 | Training Accuracy = 0.3136904761904762 | Val Loss = 2.16700702206451 | Val Accuracy = 0.31255555555555553\n",
            "Loss = 2.072871106745374 | Training Accuracy = 0.3329047619047619 | Val Loss = 2.122634905181371 | Val Accuracy = 0.33211111111111113\n",
            "Loss = 2.0186212586882033 | Training Accuracy = 0.3527619047619048 | Val Loss = 2.073057634451724 | Val Accuracy = 0.35288888888888886\n",
            "Loss = 1.964078403642786 | Training Accuracy = 0.36828571428571427 | Val Loss = 2.0212571689911187 | Val Accuracy = 0.37016666666666664\n",
            "Loss = 1.9111631588199398 | Training Accuracy = 0.3835 | Val Loss = 1.971217047631192 | Val Accuracy = 0.3868888888888889\n",
            "Loss = 1.8609384466535497 | Training Accuracy = 0.4021666666666667 | Val Loss = 1.924316139075808 | Val Accuracy = 0.4026666666666667\n",
            "Loss = 1.813804633452556 | Training Accuracy = 0.42142857142857143 | Val Loss = 1.8819420542124545 | Val Accuracy = 0.42133333333333334\n",
            "Loss = 1.769450845193775 | Training Accuracy = 0.44061904761904763 | Val Loss = 1.8432793883160508 | Val Accuracy = 0.4388888888888889\n",
            "Loss = 1.7274177525620693 | Training Accuracy = 0.4614761904761905 | Val Loss = 1.8088571100994775 | Val Accuracy = 0.46\n",
            "Loss = 1.6873407635843465 | Training Accuracy = 0.47914285714285715 | Val Loss = 1.777431519489164 | Val Accuracy = 0.4802777777777778\n",
            "Loss = 1.6490969956814692 | Training Accuracy = 0.49704761904761907 | Val Loss = 1.7476191042905544 | Val Accuracy = 0.4978888888888889\n",
            "Loss = 1.6126427678316733 | Training Accuracy = 0.5127619047619048 | Val Loss = 1.7209465619604838 | Val Accuracy = 0.5130555555555556\n",
            "Loss = 1.5780381853769947 | Training Accuracy = 0.5279285714285714 | Val Loss = 1.6938462300259924 | Val Accuracy = 0.5297222222222222\n",
            "Loss = 1.5452835299912526 | Training Accuracy = 0.5421190476190476 | Val Loss = 1.6695750119910475 | Val Accuracy = 0.5417222222222222\n",
            "Loss = 1.5143028010855342 | Training Accuracy = 0.5525476190476191 | Val Loss = 1.6462011342275047 | Val Accuracy = 0.5535\n",
            "Loss = 1.4851205360469513 | Training Accuracy = 0.5632142857142857 | Val Loss = 1.624072673284848 | Val Accuracy = 0.5627777777777778\n",
            "Loss = 1.4575388273702692 | Training Accuracy = 0.5727857142857142 | Val Loss = 1.6010022841968004 | Val Accuracy = 0.5699444444444445\n",
            "Loss = 1.4313338734992558 | Training Accuracy = 0.5802142857142857 | Val Loss = 1.5786170082515367 | Val Accuracy = 0.5778333333333333\n",
            "Loss = 1.40652809563305 | Training Accuracy = 0.5886666666666667 | Val Loss = 1.5563812851041865 | Val Accuracy = 0.5878333333333333\n",
            "Loss = 1.3828672525499652 | Training Accuracy = 0.5958809523809524 | Val Loss = 1.5342054734353177 | Val Accuracy = 0.5950555555555556\n",
            "Loss = 1.3604397262198291 | Training Accuracy = 0.6038095238095238 | Val Loss = 1.5109202147279714 | Val Accuracy = 0.6028888888888889\n",
            "Loss = 1.3390702885219188 | Training Accuracy = 0.6105238095238095 | Val Loss = 1.4883074822641902 | Val Accuracy = 0.61\n",
            "Loss = 1.3187043469344542 | Training Accuracy = 0.6170714285714286 | Val Loss = 1.4652667610109458 | Val Accuracy = 0.616\n",
            "Loss = 1.2994545585931627 | Training Accuracy = 0.6235 | Val Loss = 1.44353184889465 | Val Accuracy = 0.6215\n",
            "Loss = 1.2812352303297248 | Training Accuracy = 0.6296428571428572 | Val Loss = 1.4211814058806187 | Val Accuracy = 0.6258888888888889\n",
            "Loss = 1.2639744793552792 | Training Accuracy = 0.6342380952380953 | Val Loss = 1.399622141578142 | Val Accuracy = 0.6312222222222222\n",
            "Loss = 1.2476208600243015 | Training Accuracy = 0.6390714285714286 | Val Loss = 1.3793655162029892 | Val Accuracy = 0.6362777777777778\n",
            "Loss = 1.2320199615711054 | Training Accuracy = 0.6436190476190476 | Val Loss = 1.3609486287273782 | Val Accuracy = 0.6406666666666667\n",
            "Loss = 1.217271276428786 | Training Accuracy = 0.6480952380952381 | Val Loss = 1.3414480911689912 | Val Accuracy = 0.6452777777777777\n",
            "Loss = 1.203036516839459 | Training Accuracy = 0.6522857142857142 | Val Loss = 1.324693315231203 | Val Accuracy = 0.6491666666666667\n",
            "Loss = 1.189575443021362 | Training Accuracy = 0.6558333333333334 | Val Loss = 1.3063153221954946 | Val Accuracy = 0.6536111111111111\n",
            "Loss = 1.1768156283978397 | Training Accuracy = 0.6597857142857143 | Val Loss = 1.291454197014476 | Val Accuracy = 0.6578333333333334\n",
            "Loss = 1.1646277969022782 | Training Accuracy = 0.6630238095238096 | Val Loss = 1.2756419386199715 | Val Accuracy = 0.6611111111111111\n",
            "Loss = 1.15304659277764 | Training Accuracy = 0.6659285714285714 | Val Loss = 1.260881159872688 | Val Accuracy = 0.6634444444444444\n",
            "Loss = 1.1419154186626286 | Training Accuracy = 0.670047619047619 | Val Loss = 1.2493070633253955 | Val Accuracy = 0.6666111111111112\n",
            "Loss = 1.1312595393425129 | Training Accuracy = 0.6730714285714285 | Val Loss = 1.2371034131934098 | Val Accuracy = 0.6695555555555556\n",
            "Loss = 1.1211192042211418 | Training Accuracy = 0.675404761904762 | Val Loss = 1.2272871177430824 | Val Accuracy = 0.6715555555555556\n",
            "Loss = 1.1113661835127986 | Training Accuracy = 0.6773809523809524 | Val Loss = 1.2153796528994572 | Val Accuracy = 0.6746111111111112\n",
            "Loss = 1.101993607433976 | Training Accuracy = 0.6807619047619048 | Val Loss = 1.2043389970228804 | Val Accuracy = 0.6777222222222222\n",
            "Loss = 1.0930703345087156 | Training Accuracy = 0.6832619047619047 | Val Loss = 1.1943529568563565 | Val Accuracy = 0.6786666666666666\n",
            "Loss = 1.0843694632634933 | Training Accuracy = 0.6848571428571428 | Val Loss = 1.184858925291757 | Val Accuracy = 0.6804444444444444\n",
            "Loss = 1.0759862748237017 | Training Accuracy = 0.6872380952380952 | Val Loss = 1.1767847064241936 | Val Accuracy = 0.682\n",
            "Loss = 1.0679888250284681 | Training Accuracy = 0.6893809523809524 | Val Loss = 1.1669314799121933 | Val Accuracy = 0.6828888888888889\n",
            "Loss = 1.060318372469758 | Training Accuracy = 0.6903809523809524 | Val Loss = 1.1581991853407136 | Val Accuracy = 0.6836111111111111\n",
            "Loss = 1.0528855027536215 | Training Accuracy = 0.6917619047619048 | Val Loss = 1.1484925984162524 | Val Accuracy = 0.6857777777777778\n",
            "Loss = 1.0457503898304605 | Training Accuracy = 0.6934047619047619 | Val Loss = 1.1399993687129424 | Val Accuracy = 0.6881666666666667\n",
            "Loss = 1.0387955648544884 | Training Accuracy = 0.6949285714285715 | Val Loss = 1.1307919195210991 | Val Accuracy = 0.6895555555555556\n",
            "Loss = 1.0320490150382673 | Training Accuracy = 0.6964285714285714 | Val Loss = 1.1248737313048398 | Val Accuracy = 0.6909444444444445\n",
            "Loss = 1.0255126494370796 | Training Accuracy = 0.698047619047619 | Val Loss = 1.1185146742743106 | Val Accuracy = 0.6922777777777778\n",
            "Loss = 1.0191972028619012 | Training Accuracy = 0.6995238095238095 | Val Loss = 1.112908413104776 | Val Accuracy = 0.6936666666666667\n",
            "Loss = 1.0131106812578496 | Training Accuracy = 0.7007380952380953 | Val Loss = 1.1079696333484537 | Val Accuracy = 0.6946666666666667\n",
            "Loss = 1.0071784455348671 | Training Accuracy = 0.7019285714285715 | Val Loss = 1.1008247011415528 | Val Accuracy = 0.6962777777777778\n",
            "Loss = 1.0014433157227938 | Training Accuracy = 0.7034285714285714 | Val Loss = 1.0984919058276452 | Val Accuracy = 0.6975555555555556\n",
            "Loss = 0.9959001228465354 | Training Accuracy = 0.705 | Val Loss = 1.0944483490832033 | Val Accuracy = 0.6981111111111111\n",
            "Loss = 0.9903786853538351 | Training Accuracy = 0.7063571428571429 | Val Loss = 1.0868250416429173 | Val Accuracy = 0.6992777777777778\n",
            "Loss = 0.98513246186894 | Training Accuracy = 0.7077380952380953 | Val Loss = 1.0830697965654323 | Val Accuracy = 0.7001666666666667\n",
            "Loss = 0.9800038450742031 | Training Accuracy = 0.7092619047619048 | Val Loss = 1.0774839632685194 | Val Accuracy = 0.7011666666666667\n",
            "Loss = 0.9749275040228382 | Training Accuracy = 0.7108095238095238 | Val Loss = 1.0756321794941066 | Val Accuracy = 0.7009444444444445\n",
            "Loss = 0.9699760738956105 | Training Accuracy = 0.7114047619047619 | Val Loss = 1.069985428778656 | Val Accuracy = 0.7019444444444445\n",
            "Loss = 0.9652011008502339 | Training Accuracy = 0.712952380952381 | Val Loss = 1.0677877478191824 | Val Accuracy = 0.7032222222222222\n",
            "Loss = 0.9606344600837456 | Training Accuracy = 0.7147142857142857 | Val Loss = 1.0620270165611607 | Val Accuracy = 0.7048888888888889\n",
            "Loss = 0.9560821065077865 | Training Accuracy = 0.7154047619047619 | Val Loss = 1.0588016971116214 | Val Accuracy = 0.706\n",
            "Loss = 0.9516995886642159 | Training Accuracy = 0.7164285714285714 | Val Loss = 1.0543439354942545 | Val Accuracy = 0.7073333333333334\n",
            "Loss = 0.9473161411114175 | Training Accuracy = 0.7176190476190476 | Val Loss = 1.050058778169294 | Val Accuracy = 0.7092222222222222\n",
            "Loss = 0.9430671581589052 | Training Accuracy = 0.7193809523809523 | Val Loss = 1.0448524315694028 | Val Accuracy = 0.7108888888888889\n",
            "Loss = 0.9390278029414054 | Training Accuracy = 0.7207857142857143 | Val Loss = 1.0406142398459506 | Val Accuracy = 0.7116666666666667\n",
            "Loss = 0.9348581852281851 | Training Accuracy = 0.7215952380952381 | Val Loss = 1.0371415972768527 | Val Accuracy = 0.7131111111111111\n",
            "Loss = 0.9309017269418283 | Training Accuracy = 0.7228571428571429 | Val Loss = 1.0338823970129172 | Val Accuracy = 0.7141111111111111\n",
            "Loss = 0.9270419924807013 | Training Accuracy = 0.7234285714285714 | Val Loss = 1.032310180760703 | Val Accuracy = 0.7149444444444445\n",
            "Loss = 0.9232710586176014 | Training Accuracy = 0.7244047619047619 | Val Loss = 1.0282715256276445 | Val Accuracy = 0.7159444444444445\n",
            "Loss = 0.9195259154601886 | Training Accuracy = 0.7252380952380952 | Val Loss = 1.0243530011436237 | Val Accuracy = 0.717\n",
            "Loss = 0.915821198037064 | Training Accuracy = 0.7268095238095238 | Val Loss = 1.0213355607836836 | Val Accuracy = 0.7177777777777777\n",
            "Loss = 0.9121646032962506 | Training Accuracy = 0.727452380952381 | Val Loss = 1.0177557540949353 | Val Accuracy = 0.7189444444444445\n",
            "Loss = 0.9084830765118252 | Training Accuracy = 0.7284761904761905 | Val Loss = 1.0143645419881393 | Val Accuracy = 0.7203888888888889\n",
            "Loss = 0.905096427153859 | Training Accuracy = 0.7292142857142857 | Val Loss = 1.0132129284165765 | Val Accuracy = 0.7209444444444445\n",
            "Loss = 0.9016249641829962 | Training Accuracy = 0.7302857142857143 | Val Loss = 1.010390908101876 | Val Accuracy = 0.7217777777777777\n",
            "Loss = 0.8981599078045278 | Training Accuracy = 0.7318809523809524 | Val Loss = 1.0047218992407732 | Val Accuracy = 0.7221111111111111\n",
            "Loss = 0.8947855096147536 | Training Accuracy = 0.732 | Val Loss = 1.0032982077783006 | Val Accuracy = 0.7225\n",
            "Loss = 0.8915343629108358 | Training Accuracy = 0.7330952380952381 | Val Loss = 1.0002824812393933 | Val Accuracy = 0.7234444444444444\n",
            "Loss = 0.8882907071190029 | Training Accuracy = 0.7330476190476191 | Val Loss = 1.0016884084247117 | Val Accuracy = 0.7233333333333334\n",
            "Loss = 0.8849009159175448 | Training Accuracy = 0.7326666666666667 | Val Loss = 0.9980880000398449 | Val Accuracy = 0.7241666666666666\n",
            "Loss = 0.8816483890105744 | Training Accuracy = 0.7336904761904762 | Val Loss = 0.9968831615075361 | Val Accuracy = 0.7246111111111111\n",
            "Loss = 0.8785043938412519 | Training Accuracy = 0.7341666666666666 | Val Loss = 0.9954175265068563 | Val Accuracy = 0.7251666666666666\n",
            "Loss = 0.875362229588734 | Training Accuracy = 0.7357619047619047 | Val Loss = 0.9955777566955633 | Val Accuracy = 0.7247222222222223\n",
            "Loss = 0.8722206272546987 | Training Accuracy = 0.7369523809523809 | Val Loss = 0.9951175335468748 | Val Accuracy = 0.7257222222222223\n",
            "Loss = 0.8690658159659245 | Training Accuracy = 0.7368333333333333 | Val Loss = 0.9945855231381777 | Val Accuracy = 0.7258888888888889\n",
            "Loss = 0.8659453529888179 | Training Accuracy = 0.7380238095238095 | Val Loss = 0.9925288579755797 | Val Accuracy = 0.7270555555555556\n",
            "Loss = 0.8628572099764056 | Training Accuracy = 0.737904761904762 | Val Loss = 0.9922759026833314 | Val Accuracy = 0.7264444444444444\n",
            "Loss = 0.8599040045062729 | Training Accuracy = 0.7391904761904762 | Val Loss = 0.989803685727726 | Val Accuracy = 0.7268333333333333\n",
            "Loss = 0.8569401466146775 | Training Accuracy = 0.7395952380952381 | Val Loss = 0.9865497188203072 | Val Accuracy = 0.7278333333333333\n",
            "Loss = 0.8540194905793488 | Training Accuracy = 0.7408095238095238 | Val Loss = 0.9849787933408798 | Val Accuracy = 0.7289444444444444\n",
            "Loss = 0.8510056949121796 | Training Accuracy = 0.7404285714285714 | Val Loss = 0.9814525676921997 | Val Accuracy = 0.7292777777777778\n",
            "Loss = 0.8481873162981566 | Training Accuracy = 0.7417857142857143 | Val Loss = 0.9773109701073672 | Val Accuracy = 0.7305\n",
            "Loss = 0.845196386649573 | Training Accuracy = 0.742547619047619 | Val Loss = 0.9749564849142612 | Val Accuracy = 0.7311666666666666\n",
            "Loss = 0.842299886362311 | Training Accuracy = 0.744452380952381 | Val Loss = 0.9695057510391123 | Val Accuracy = 0.7321111111111112\n",
            "Loss = 0.8394985857890855 | Training Accuracy = 0.7447142857142857 | Val Loss = 0.9670364255519714 | Val Accuracy = 0.7318888888888889\n",
            "Loss = 0.836787380239868 | Training Accuracy = 0.7459761904761905 | Val Loss = 0.9630814037172217 | Val Accuracy = 0.7339444444444444\n",
            "Loss = 0.8340424135170196 | Training Accuracy = 0.7471666666666666 | Val Loss = 0.9592292376904916 | Val Accuracy = 0.7345555555555555\n",
            "Loss = 0.831066369215541 | Training Accuracy = 0.7485714285714286 | Val Loss = 0.9575335857248313 | Val Accuracy = 0.7352222222222222\n",
            "Loss = 0.8283834759894128 | Training Accuracy = 0.7491190476190476 | Val Loss = 0.9534064344690585 | Val Accuracy = 0.7359444444444444\n",
            "Loss = 0.8257167225754267 | Training Accuracy = 0.7500952380952381 | Val Loss = 0.9491590869242826 | Val Accuracy = 0.7371111111111112\n",
            "Loss = 0.8230316248153026 | Training Accuracy = 0.7508095238095238 | Val Loss = 0.9466318188389559 | Val Accuracy = 0.7378333333333333\n",
            "Loss = 0.8204462591965801 | Training Accuracy = 0.7518809523809524 | Val Loss = 0.943528220643864 | Val Accuracy = 0.7385\n",
            "Loss = 0.8178597238889777 | Training Accuracy = 0.7525 | Val Loss = 0.9420525208076667 | Val Accuracy = 0.7393888888888889\n",
            "Loss = 0.8151453385772454 | Training Accuracy = 0.7533333333333333 | Val Loss = 0.9412329373339604 | Val Accuracy = 0.7399444444444444\n",
            "Loss = 0.8126037718081394 | Training Accuracy = 0.7534285714285714 | Val Loss = 0.9395569312235922 | Val Accuracy = 0.7395555555555555\n",
            "Loss = 0.8100749601375585 | Training Accuracy = 0.7538095238095238 | Val Loss = 0.9382230446155014 | Val Accuracy = 0.7393333333333333\n",
            "Loss = 0.8075754143025065 | Training Accuracy = 0.7545714285714286 | Val Loss = 0.9360119324857401 | Val Accuracy = 0.7411666666666666\n",
            "Loss = 0.8051458788176397 | Training Accuracy = 0.7559047619047619 | Val Loss = 0.931177762106056 | Val Accuracy = 0.7418888888888889\n",
            "Loss = 0.8027615172692055 | Training Accuracy = 0.7566190476190476 | Val Loss = 0.9274993130346721 | Val Accuracy = 0.7433333333333333\n",
            "Loss = 0.8001951437090868 | Training Accuracy = 0.7575238095238095 | Val Loss = 0.9251537482427326 | Val Accuracy = 0.7440555555555556\n",
            "Loss = 0.7978867189814606 | Training Accuracy = 0.7589761904761905 | Val Loss = 0.9225047808343649 | Val Accuracy = 0.7445555555555555\n",
            "Loss = 0.7955085206948415 | Training Accuracy = 0.7591904761904762 | Val Loss = 0.9206659490199234 | Val Accuracy = 0.7446666666666667\n",
            "Loss = 0.7932195863133662 | Training Accuracy = 0.759452380952381 | Val Loss = 0.9173273307585998 | Val Accuracy = 0.7446666666666667\n",
            "Loss = 0.7909781995549163 | Training Accuracy = 0.7601904761904762 | Val Loss = 0.9146460889644465 | Val Accuracy = 0.7451111111111111\n",
            "Loss = 0.7885695580149019 | Training Accuracy = 0.761 | Val Loss = 0.9131581678026349 | Val Accuracy = 0.7449444444444444\n",
            "Loss = 0.7864097596192237 | Training Accuracy = 0.7614285714285715 | Val Loss = 0.9112418307434891 | Val Accuracy = 0.7453333333333333\n",
            "Loss = 0.7840097707380523 | Training Accuracy = 0.7621666666666667 | Val Loss = 0.9104425371999405 | Val Accuracy = 0.7461111111111111\n",
            "Loss = 0.7817555700207574 | Training Accuracy = 0.763095238095238 | Val Loss = 0.9082381798143809 | Val Accuracy = 0.7467777777777778\n",
            "Loss = 0.7795341178763721 | Training Accuracy = 0.7640476190476191 | Val Loss = 0.9061629628273626 | Val Accuracy = 0.7475\n",
            "Loss = 0.7772739639742866 | Training Accuracy = 0.7644047619047619 | Val Loss = 0.9048868570185085 | Val Accuracy = 0.7477777777777778\n",
            "Loss = 0.775094921767286 | Training Accuracy = 0.766 | Val Loss = 0.902468197534507 | Val Accuracy = 0.7482777777777778\n",
            "Loss = 0.7727982323821607 | Training Accuracy = 0.7659047619047619 | Val Loss = 0.9021345640804159 | Val Accuracy = 0.7485555555555555\n",
            "Loss = 0.7707594311902426 | Training Accuracy = 0.7669761904761905 | Val Loss = 0.9011825401871624 | Val Accuracy = 0.7485555555555555\n",
            "Loss = 0.7686010427884749 | Training Accuracy = 0.7679523809523809 | Val Loss = 0.89813817407921 | Val Accuracy = 0.7496666666666667\n",
            "Loss = 0.7665995074274315 | Training Accuracy = 0.7696666666666667 | Val Loss = 0.8965794740640746 | Val Accuracy = 0.7495555555555555\n",
            "Loss = 0.7644479695354421 | Training Accuracy = 0.7697619047619048 | Val Loss = 0.894408967876044 | Val Accuracy = 0.7497222222222222\n",
            "Loss = 0.7624485806083395 | Training Accuracy = 0.7703333333333333 | Val Loss = 0.8940128422671301 | Val Accuracy = 0.7503888888888889\n",
            "Loss = 0.7603626797801142 | Training Accuracy = 0.771547619047619 | Val Loss = 0.8910373824811392 | Val Accuracy = 0.7505\n",
            "Loss = 0.7583096831916062 | Training Accuracy = 0.7718095238095238 | Val Loss = 0.8893883917653226 | Val Accuracy = 0.7512222222222222\n",
            "Loss = 0.7563677001115471 | Training Accuracy = 0.7725 | Val Loss = 0.8884790027341121 | Val Accuracy = 0.7513333333333333\n",
            "Loss = 0.7544377097072248 | Training Accuracy = 0.7729047619047619 | Val Loss = 0.8857683985884257 | Val Accuracy = 0.7525555555555555\n",
            "Loss = 0.752484340817504 | Training Accuracy = 0.7746190476190477 | Val Loss = 0.8827938518674137 | Val Accuracy = 0.7539444444444444\n",
            "Loss = 0.750416434781039 | Training Accuracy = 0.774547619047619 | Val Loss = 0.8823966470859801 | Val Accuracy = 0.7532222222222222\n",
            "Loss = 0.7485475218816486 | Training Accuracy = 0.7756190476190477 | Val Loss = 0.8816822463398828 | Val Accuracy = 0.7544444444444445\n",
            "Loss = 0.7466208098340192 | Training Accuracy = 0.7768809523809523 | Val Loss = 0.8810465285924609 | Val Accuracy = 0.7556111111111111\n",
            "Loss = 0.7447866912908534 | Training Accuracy = 0.7770952380952381 | Val Loss = 0.8807199999452657 | Val Accuracy = 0.7556666666666667\n",
            "Loss = 0.7429718642243078 | Training Accuracy = 0.7772142857142857 | Val Loss = 0.8792503399992002 | Val Accuracy = 0.7548888888888889\n",
            "Loss = 0.7410270160047218 | Training Accuracy = 0.7782142857142857 | Val Loss = 0.8786114322302838 | Val Accuracy = 0.7566666666666667\n",
            "Loss = 0.7390533778563879 | Training Accuracy = 0.7790238095238096 | Val Loss = 0.8778697774340198 | Val Accuracy = 0.7572222222222222\n",
            "Loss = 0.7373621080103885 | Training Accuracy = 0.7793333333333333 | Val Loss = 0.8763944156579272 | Val Accuracy = 0.757\n",
            "Loss = 0.7355112512621563 | Training Accuracy = 0.7800238095238096 | Val Loss = 0.8764516166293281 | Val Accuracy = 0.7572777777777778\n",
            "Loss = 0.7336755298763964 | Training Accuracy = 0.780952380952381 | Val Loss = 0.8730286396452505 | Val Accuracy = 0.7586666666666667\n",
            "Loss = 0.7320291629102129 | Training Accuracy = 0.7810476190476191 | Val Loss = 0.8733819624296666 | Val Accuracy = 0.7587777777777778\n",
            "Loss = 0.7302533465909482 | Training Accuracy = 0.781952380952381 | Val Loss = 0.8691522885054725 | Val Accuracy = 0.7588333333333334\n",
            "Loss = 0.728377112611133 | Training Accuracy = 0.782547619047619 | Val Loss = 0.8703031005371334 | Val Accuracy = 0.7601666666666667\n",
            "Loss = 0.7266619704649648 | Training Accuracy = 0.7825714285714286 | Val Loss = 0.8693715217517681 | Val Accuracy = 0.7605\n",
            "Loss = 0.7249244031866624 | Training Accuracy = 0.7837142857142857 | Val Loss = 0.8671228132025224 | Val Accuracy = 0.7607777777777778\n",
            "Loss = 0.7231267901358908 | Training Accuracy = 0.7841428571428571 | Val Loss = 0.865013522629593 | Val Accuracy = 0.7615555555555555\n",
            "Loss = 0.7214829018294274 | Training Accuracy = 0.7847619047619048 | Val Loss = 0.863152999366986 | Val Accuracy = 0.7627222222222222\n",
            "Loss = 0.7197991032291307 | Training Accuracy = 0.7855 | Val Loss = 0.8615929925774903 | Val Accuracy = 0.7625555555555555\n",
            "Loss = 0.7180317351187044 | Training Accuracy = 0.7855714285714286 | Val Loss = 0.8604501477280334 | Val Accuracy = 0.7624444444444445\n",
            "Loss = 0.7163040879975087 | Training Accuracy = 0.7860952380952381 | Val Loss = 0.8592352776343001 | Val Accuracy = 0.7636111111111111\n",
            "Loss = 0.714651428894327 | Training Accuracy = 0.7864047619047619 | Val Loss = 0.8592300068094433 | Val Accuracy = 0.764\n",
            "Loss = 0.7130444928455196 | Training Accuracy = 0.7873571428571429 | Val Loss = 0.8570569048061997 | Val Accuracy = 0.765\n",
            "Loss = 0.711409840476495 | Training Accuracy = 0.7874047619047619 | Val Loss = 0.856978491875111 | Val Accuracy = 0.7645\n",
            "Loss = 0.709784578595314 | Training Accuracy = 0.7883095238095238 | Val Loss = 0.8556127609433611 | Val Accuracy = 0.7652222222222222\n",
            "Loss = 0.7081904948985865 | Training Accuracy = 0.7887142857142857 | Val Loss = 0.8527878034504587 | Val Accuracy = 0.765\n",
            "Loss = 0.7066075264777208 | Training Accuracy = 0.7893571428571429 | Val Loss = 0.8531252189317794 | Val Accuracy = 0.7657222222222222\n",
            "Loss = 0.7050234147980526 | Training Accuracy = 0.7901904761904762 | Val Loss = 0.8508392038780622 | Val Accuracy = 0.7662777777777777\n",
            "Loss = 0.7033824303758073 | Training Accuracy = 0.7910952380952381 | Val Loss = 0.8497247956425181 | Val Accuracy = 0.7665\n",
            "Loss = 0.7018324393585831 | Training Accuracy = 0.7916428571428571 | Val Loss = 0.8483522109224373 | Val Accuracy = 0.7671111111111111\n",
            "Loss = 0.7002258619443492 | Training Accuracy = 0.7920238095238096 | Val Loss = 0.8456838193360544 | Val Accuracy = 0.7672222222222222\n",
            "Loss = 0.6987782030411055 | Training Accuracy = 0.7924285714285715 | Val Loss = 0.844843120219411 | Val Accuracy = 0.7676111111111111\n",
            "Loss = 0.6972311599931819 | Training Accuracy = 0.7935238095238095 | Val Loss = 0.8417350989225293 | Val Accuracy = 0.7689444444444444\n",
            "Loss = 0.6957179656924571 | Training Accuracy = 0.7941904761904762 | Val Loss = 0.8399867012839471 | Val Accuracy = 0.769\n",
            "Loss = 0.694178057881021 | Training Accuracy = 0.7948095238095239 | Val Loss = 0.838364138658032 | Val Accuracy = 0.7692777777777777\n",
            "Loss = 0.6927339936879132 | Training Accuracy = 0.7951666666666667 | Val Loss = 0.8367224399500349 | Val Accuracy = 0.7696666666666667\n",
            "Loss = 0.6913106745063149 | Training Accuracy = 0.7956190476190477 | Val Loss = 0.8351320048706464 | Val Accuracy = 0.77\n",
            "Loss = 0.6898043540835317 | Training Accuracy = 0.796047619047619 | Val Loss = 0.8321953259806747 | Val Accuracy = 0.7698888888888888\n",
            "Loss = 0.6882945772590371 | Training Accuracy = 0.7965476190476191 | Val Loss = 0.8305176116537325 | Val Accuracy = 0.7703333333333333\n",
            "Loss = 0.686740742069281 | Training Accuracy = 0.7963095238095238 | Val Loss = 0.8294003085001129 | Val Accuracy = 0.7712777777777777\n",
            "Loss = 0.6852813012324281 | Training Accuracy = 0.797404761904762 | Val Loss = 0.8277808754848925 | Val Accuracy = 0.7717777777777778\n",
            "Loss = 0.6837315856941775 | Training Accuracy = 0.7971190476190476 | Val Loss = 0.827657304298813 | Val Accuracy = 0.7712777777777777\n",
            "Loss = 0.6824127570071178 | Training Accuracy = 0.7977380952380952 | Val Loss = 0.8265209764014393 | Val Accuracy = 0.7717222222222222\n",
            "Loss = 0.6808797072967362 | Training Accuracy = 0.799 | Val Loss = 0.8248101354377133 | Val Accuracy = 0.7725\n",
            "Loss = 0.6795560397179702 | Training Accuracy = 0.7987380952380952 | Val Loss = 0.8275639976235455 | Val Accuracy = 0.7725\n",
            "Loss = 0.6781483785664333 | Training Accuracy = 0.7996666666666666 | Val Loss = 0.823798536901916 | Val Accuracy = 0.7723888888888889\n",
            "Loss = 0.6768939453852831 | Training Accuracy = 0.799952380952381 | Val Loss = 0.8220581858609536 | Val Accuracy = 0.7723333333333333\n",
            "Loss = 0.6753743310881103 | Training Accuracy = 0.7999285714285714 | Val Loss = 0.8191267155631763 | Val Accuracy = 0.7732222222222223\n",
            "Loss = 0.674003828319283 | Training Accuracy = 0.8009047619047619 | Val Loss = 0.8191264872550027 | Val Accuracy = 0.7729444444444444\n",
            "Loss = 0.6727013584029158 | Training Accuracy = 0.8008571428571428 | Val Loss = 0.8175978522352499 | Val Accuracy = 0.7736666666666666\n",
            "Loss = 0.6713854549733832 | Training Accuracy = 0.8014523809523809 | Val Loss = 0.8161384393075088 | Val Accuracy = 0.7741666666666667\n",
            "Loss = 0.6700746362285676 | Training Accuracy = 0.8016666666666666 | Val Loss = 0.8139309529895112 | Val Accuracy = 0.7738888888888888\n",
            "Loss = 0.668596689566841 | Training Accuracy = 0.8018333333333333 | Val Loss = 0.8123540810328885 | Val Accuracy = 0.7745555555555556\n",
            "Loss = 0.6673926868828381 | Training Accuracy = 0.8023809523809524 | Val Loss = 0.8095055055601391 | Val Accuracy = 0.776\n",
            "Loss = 0.6659716798158095 | Training Accuracy = 0.8030952380952381 | Val Loss = 0.8091829518294961 | Val Accuracy = 0.7752777777777777\n",
            "Loss = 0.6646367492631002 | Training Accuracy = 0.8036190476190476 | Val Loss = 0.8075949992873485 | Val Accuracy = 0.7767222222222222\n",
            "Loss = 0.6632885192289334 | Training Accuracy = 0.8035238095238095 | Val Loss = 0.8058756539538663 | Val Accuracy = 0.7762777777777777\n",
            "Loss = 0.6619536157793523 | Training Accuracy = 0.804 | Val Loss = 0.8051792183432295 | Val Accuracy = 0.7766111111111111\n",
            "Loss = 0.6605655521589274 | Training Accuracy = 0.8040952380952381 | Val Loss = 0.8031667613985295 | Val Accuracy = 0.7775555555555556\n",
            "Loss = 0.6593111371426633 | Training Accuracy = 0.8046666666666666 | Val Loss = 0.8030751492051037 | Val Accuracy = 0.7774444444444445\n",
            "Loss = 0.6580734881941759 | Training Accuracy = 0.8051190476190476 | Val Loss = 0.8022049142551005 | Val Accuracy = 0.7782777777777777\n",
            "Loss = 0.656750804098203 | Training Accuracy = 0.8049047619047619 | Val Loss = 0.8019812498767624 | Val Accuracy = 0.7780555555555555\n",
            "Loss = 0.6554274074897583 | Training Accuracy = 0.8056904761904762 | Val Loss = 0.8012438030763298 | Val Accuracy = 0.7783888888888889\n",
            "Loss = 0.6541799359256341 | Training Accuracy = 0.805952380952381 | Val Loss = 0.7993695284128282 | Val Accuracy = 0.7780555555555555\n",
            "Loss = 0.6528703734056707 | Training Accuracy = 0.8063571428571429 | Val Loss = 0.7975872378427225 | Val Accuracy = 0.7784444444444445\n",
            "Loss = 0.651639560388312 | Training Accuracy = 0.8067619047619048 | Val Loss = 0.7969821114696622 | Val Accuracy = 0.7785555555555556\n",
            "Loss = 0.6503171487111038 | Training Accuracy = 0.8072619047619047 | Val Loss = 0.7952791322594804 | Val Accuracy = 0.7780555555555555\n",
            "Loss = 0.6490905118448218 | Training Accuracy = 0.8079047619047619 | Val Loss = 0.7938644026093608 | Val Accuracy = 0.7793333333333333\n",
            "Loss = 0.6479937151290676 | Training Accuracy = 0.8082142857142857 | Val Loss = 0.7918273591664023 | Val Accuracy = 0.7792222222222223\n",
            "Loss = 0.6467782887779162 | Training Accuracy = 0.8082857142857143 | Val Loss = 0.7928818991993967 | Val Accuracy = 0.7792222222222223\n",
            "Loss = 0.6454949977343065 | Training Accuracy = 0.8088571428571428 | Val Loss = 0.7924881114602288 | Val Accuracy = 0.7803888888888889\n",
            "Loss = 0.6443302654336819 | Training Accuracy = 0.8089761904761905 | Val Loss = 0.7921049514255313 | Val Accuracy = 0.7808888888888889\n",
            "Loss = 0.6430485460841315 | Training Accuracy = 0.8097857142857143 | Val Loss = 0.7908867664456964 | Val Accuracy = 0.7802222222222223\n",
            "Loss = 0.6418886061038606 | Training Accuracy = 0.810047619047619 | Val Loss = 0.7905566009486935 | Val Accuracy = 0.7810555555555555\n",
            "Loss = 0.6407110377506237 | Training Accuracy = 0.8106428571428571 | Val Loss = 0.7888022161907032 | Val Accuracy = 0.7821111111111111\n",
            "Loss = 0.6396300332378774 | Training Accuracy = 0.8104285714285714 | Val Loss = 0.789111040016567 | Val Accuracy = 0.7807222222222222\n",
            "Loss = 0.6383625219280731 | Training Accuracy = 0.8117619047619048 | Val Loss = 0.7870339419545503 | Val Accuracy = 0.7827777777777778\n",
            "Loss = 0.6371892306198961 | Training Accuracy = 0.8120238095238095 | Val Loss = 0.7846621259221793 | Val Accuracy = 0.7827222222222222\n",
            "Loss = 0.6360525472413355 | Training Accuracy = 0.8114523809523809 | Val Loss = 0.7884484080520495 | Val Accuracy = 0.783\n",
            "Loss = 0.6350057744671652 | Training Accuracy = 0.8113095238095238 | Val Loss = 0.7875007781736378 | Val Accuracy = 0.7826111111111111\n",
            "Loss = 0.633822586925691 | Training Accuracy = 0.8121666666666667 | Val Loss = 0.7870021402549314 | Val Accuracy = 0.7826111111111111\n",
            "Loss = 0.6327764785560555 | Training Accuracy = 0.8128809523809524 | Val Loss = 0.7836729689832808 | Val Accuracy = 0.7831666666666667\n",
            "Loss = 0.631576519941146 | Training Accuracy = 0.8125238095238095 | Val Loss = 0.7858539928678732 | Val Accuracy = 0.7833888888888889\n",
            "Loss = 0.6305330612491857 | Training Accuracy = 0.8125238095238095 | Val Loss = 0.7875321470096888 | Val Accuracy = 0.7831666666666667\n",
            "Loss = 0.629492581274626 | Training Accuracy = 0.8128571428571428 | Val Loss = 0.7864106045611297 | Val Accuracy = 0.7838333333333334\n",
            "Loss = 0.6284460067073776 | Training Accuracy = 0.8135238095238095 | Val Loss = 0.7869516330292059 | Val Accuracy = 0.784\n",
            "Loss = 0.627287613286253 | Training Accuracy = 0.8137380952380953 | Val Loss = 0.7837349012358997 | Val Accuracy = 0.7843888888888889\n",
            "Loss = 0.6261656025500086 | Training Accuracy = 0.8144523809523809 | Val Loss = 0.7819545713583985 | Val Accuracy = 0.7848888888888889\n",
            "Loss = 0.6250114867615155 | Training Accuracy = 0.8147857142857143 | Val Loss = 0.7830288766653579 | Val Accuracy = 0.7848888888888889\n",
            "Loss = 0.6238949608315643 | Training Accuracy = 0.8151666666666667 | Val Loss = 0.7811709192690731 | Val Accuracy = 0.7854444444444444\n",
            "Loss = 0.622927464006563 | Training Accuracy = 0.8157619047619048 | Val Loss = 0.7795302824012539 | Val Accuracy = 0.7856666666666666\n",
            "Loss = 0.6218930942902081 | Training Accuracy = 0.8162619047619047 | Val Loss = 0.7808848761423777 | Val Accuracy = 0.7863333333333333\n",
            "Loss = 0.6208368489584727 | Training Accuracy = 0.8170952380952381 | Val Loss = 0.7766558454375015 | Val Accuracy = 0.7870555555555555\n",
            "Loss = 0.619788842226987 | Training Accuracy = 0.8171904761904762 | Val Loss = 0.7779270039158065 | Val Accuracy = 0.787\n",
            "Loss = 0.6187178922295171 | Training Accuracy = 0.8172857142857143 | Val Loss = 0.7761817677423819 | Val Accuracy = 0.787\n",
            "Loss = 0.6176379080511372 | Training Accuracy = 0.8177619047619048 | Val Loss = 0.7750103913978237 | Val Accuracy = 0.7871666666666667\n",
            "Loss = 0.6165328035083212 | Training Accuracy = 0.8182857142857143 | Val Loss = 0.7757532455021974 | Val Accuracy = 0.7878888888888889\n",
            "Loss = 0.6157149754013959 | Training Accuracy = 0.8187380952380953 | Val Loss = 0.7757410604028069 | Val Accuracy = 0.7873333333333333\n",
            "Loss = 0.6144851877740264 | Training Accuracy = 0.8186904761904762 | Val Loss = 0.7743274684632256 | Val Accuracy = 0.789\n",
            "Loss = 0.6136303496915797 | Training Accuracy = 0.8187619047619048 | Val Loss = 0.7761713211817656 | Val Accuracy = 0.7888333333333334\n",
            "Loss = 0.61255806265556 | Training Accuracy = 0.8196190476190476 | Val Loss = 0.7772185197843012 | Val Accuracy = 0.7887777777777778\n",
            "Loss = 0.6115537824755812 | Training Accuracy = 0.8196190476190476 | Val Loss = 0.7784775501868918 | Val Accuracy = 0.7890555555555555\n",
            "Loss = 0.6105294448651408 | Training Accuracy = 0.8204047619047619 | Val Loss = 0.7778899509200131 | Val Accuracy = 0.7898333333333334\n",
            "Loss = 0.609539141897162 | Training Accuracy = 0.8205238095238095 | Val Loss = 0.7772976486740761 | Val Accuracy = 0.7897222222222222\n",
            "Loss = 0.6086483281808963 | Training Accuracy = 0.8211428571428572 | Val Loss = 0.7774574006636937 | Val Accuracy = 0.7901111111111111\n",
            "Loss = 0.6075690326906715 | Training Accuracy = 0.8216666666666667 | Val Loss = 0.7758034642950965 | Val Accuracy = 0.7906666666666666\n",
            "Loss = 0.606575968591409 | Training Accuracy = 0.8216904761904762 | Val Loss = 0.775843788005349 | Val Accuracy = 0.7906111111111112\n",
            "Loss = 0.605652352893477 | Training Accuracy = 0.8220714285714286 | Val Loss = 0.7757894079706206 | Val Accuracy = 0.7911111111111111\n",
            "Loss = 0.6047072557463623 | Training Accuracy = 0.8223095238095238 | Val Loss = 0.7735463348909537 | Val Accuracy = 0.7920555555555555\n",
            "Loss = 0.6037200507323535 | Training Accuracy = 0.822595238095238 | Val Loss = 0.7775441300408374 | Val Accuracy = 0.7916111111111112\n",
            "Loss = 0.60271375729094 | Training Accuracy = 0.8231904761904761 | Val Loss = 0.7751909749652944 | Val Accuracy = 0.7920555555555555\n",
            "Loss = 0.6019437664413131 | Training Accuracy = 0.8231190476190476 | Val Loss = 0.7770677081197034 | Val Accuracy = 0.7926111111111112\n",
            "Loss = 0.6010065369500112 | Training Accuracy = 0.8237380952380953 | Val Loss = 0.77521249277841 | Val Accuracy = 0.7928333333333333\n",
            "Loss = 0.600028265563146 | Training Accuracy = 0.8235 | Val Loss = 0.7728958093312158 | Val Accuracy = 0.7931111111111111\n",
            "Loss = 0.5991066258814077 | Training Accuracy = 0.8240952380952381 | Val Loss = 0.7703725410015535 | Val Accuracy = 0.7932777777777777\n",
            "Loss = 0.5981498448942058 | Training Accuracy = 0.8246666666666667 | Val Loss = 0.7713507736987716 | Val Accuracy = 0.7937222222222222\n",
            "Loss = 0.5971242301609487 | Training Accuracy = 0.8249285714285715 | Val Loss = 0.7699362054960376 | Val Accuracy = 0.7936666666666666\n",
            "Loss = 0.5963288426991714 | Training Accuracy = 0.8247619047619048 | Val Loss = 0.7670937942312401 | Val Accuracy = 0.7939444444444445\n",
            "Loss = 0.5954090400582944 | Training Accuracy = 0.8253809523809523 | Val Loss = 0.767792242740879 | Val Accuracy = 0.7941111111111111\n",
            "Loss = 0.5945014466975077 | Training Accuracy = 0.8254047619047619 | Val Loss = 0.7674009573894117 | Val Accuracy = 0.7939444444444445\n",
            "Loss = 0.5936605562274445 | Training Accuracy = 0.8257619047619048 | Val Loss = 0.7683342326758791 | Val Accuracy = 0.7947777777777778\n",
            "Loss = 0.5927459769107319 | Training Accuracy = 0.826 | Val Loss = 0.7692270871018719 | Val Accuracy = 0.7947777777777778\n",
            "Loss = 0.5918594689561182 | Training Accuracy = 0.8258333333333333 | Val Loss = 0.7685911124451624 | Val Accuracy = 0.7948333333333333\n",
            "Loss = 0.5910058929230207 | Training Accuracy = 0.8268571428571428 | Val Loss = 0.7674164042699497 | Val Accuracy = 0.7947777777777778\n",
            "Loss = 0.5903379400439334 | Training Accuracy = 0.8272619047619048 | Val Loss = 0.7690962183045098 | Val Accuracy = 0.7951666666666667\n",
            "Loss = 0.5893719516746404 | Training Accuracy = 0.8271190476190476 | Val Loss = 0.7686890001502062 | Val Accuracy = 0.7952777777777778\n",
            "Loss = 0.5884307820010469 | Training Accuracy = 0.8272857142857143 | Val Loss = 0.7670546133083908 | Val Accuracy = 0.7949444444444445\n",
            "Loss = 0.5876716510255293 | Training Accuracy = 0.8272619047619048 | Val Loss = 0.767305525755174 | Val Accuracy = 0.7949444444444445\n",
            "Loss = 0.586798154788825 | Training Accuracy = 0.827595238095238 | Val Loss = 0.7668178577477349 | Val Accuracy = 0.7948888888888889\n",
            "Loss = 0.585959679762256 | Training Accuracy = 0.828047619047619 | Val Loss = 0.7659896462651444 | Val Accuracy = 0.7956111111111112\n",
            "Loss = 0.5850761562562012 | Training Accuracy = 0.8279285714285715 | Val Loss = 0.7653069130359992 | Val Accuracy = 0.7953333333333333\n",
            "Loss = 0.5841904450111289 | Training Accuracy = 0.8284285714285714 | Val Loss = 0.761775059782681 | Val Accuracy = 0.7956666666666666\n",
            "Loss = 0.5834556243071973 | Training Accuracy = 0.8285 | Val Loss = 0.762816563713572 | Val Accuracy = 0.7957222222222222\n",
            "Loss = 0.5825534642145324 | Training Accuracy = 0.8285476190476191 | Val Loss = 0.7625670992059284 | Val Accuracy = 0.7957222222222222\n",
            "Loss = 0.5818544068565397 | Training Accuracy = 0.829047619047619 | Val Loss = 0.7640833781672035 | Val Accuracy = 0.7954444444444444\n",
            "Loss = 0.5811490300949773 | Training Accuracy = 0.8289761904761904 | Val Loss = 0.7618521782979536 | Val Accuracy = 0.796\n",
            "Loss = 0.5803238689845573 | Training Accuracy = 0.8289761904761904 | Val Loss = 0.7627030581374001 | Val Accuracy = 0.7963333333333333\n",
            "Loss = 0.5793865547962235 | Training Accuracy = 0.8300714285714286 | Val Loss = 0.7640666304660924 | Val Accuracy = 0.7965555555555556\n",
            "Loss = 0.5786984681663982 | Training Accuracy = 0.8299761904761904 | Val Loss = 0.7635830438162927 | Val Accuracy = 0.7965\n",
            "Loss = 0.57793152181949 | Training Accuracy = 0.8303809523809523 | Val Loss = 0.7623174455000847 | Val Accuracy = 0.7968888888888889\n",
            "Loss = 0.5771323638434109 | Training Accuracy = 0.8303333333333334 | Val Loss = 0.7636351187518893 | Val Accuracy = 0.7975555555555556\n",
            "Loss = 0.5764738074198085 | Training Accuracy = 0.8306666666666667 | Val Loss = 0.7629848434089398 | Val Accuracy = 0.7978333333333333\n",
            "Loss = 0.5756175318824925 | Training Accuracy = 0.8304761904761905 | Val Loss = 0.7628536368624007 | Val Accuracy = 0.7977777777777778\n",
            "Loss = 0.5749575223284122 | Training Accuracy = 0.8308571428571428 | Val Loss = 0.7606078168147431 | Val Accuracy = 0.7978333333333333\n",
            "Loss = 0.574096456094812 | Training Accuracy = 0.8307142857142857 | Val Loss = 0.7620693689492847 | Val Accuracy = 0.7976111111111112\n",
            "Loss = 0.573355161643284 | Training Accuracy = 0.8308333333333333 | Val Loss = 0.7584200496401114 | Val Accuracy = 0.7974444444444444\n",
            "Loss = 0.5724451948202037 | Training Accuracy = 0.8309761904761904 | Val Loss = 0.7587164188573726 | Val Accuracy = 0.7972222222222223\n",
            "Loss = 0.5717903784500389 | Training Accuracy = 0.8308809523809524 | Val Loss = 0.7613948276612448 | Val Accuracy = 0.7979444444444445\n",
            "Loss = 0.5710345800548872 | Training Accuracy = 0.8314761904761905 | Val Loss = 0.7584795048583688 | Val Accuracy = 0.7975555555555556\n",
            "Loss = 0.5703554202097721 | Training Accuracy = 0.8311666666666667 | Val Loss = 0.7574478982758527 | Val Accuracy = 0.7978333333333333\n",
            "Loss = 0.5695931690107284 | Training Accuracy = 0.8321428571428572 | Val Loss = 0.7583543565465367 | Val Accuracy = 0.7987777777777778\n",
            "Loss = 0.5687673398123274 | Training Accuracy = 0.8316428571428571 | Val Loss = 0.7596540552534601 | Val Accuracy = 0.7986666666666666\n",
            "Loss = 0.5680807501052283 | Training Accuracy = 0.8321904761904761 | Val Loss = 0.7555747472285492 | Val Accuracy = 0.7987222222222222\n",
            "Loss = 0.5673335844225184 | Training Accuracy = 0.8321190476190476 | Val Loss = 0.7597180676611696 | Val Accuracy = 0.7992222222222222\n",
            "Loss = 0.5665872799739401 | Training Accuracy = 0.8324761904761905 | Val Loss = 0.758058150767223 | Val Accuracy = 0.7987777777777778\n",
            "Loss = 0.5657840419622632 | Training Accuracy = 0.8329047619047619 | Val Loss = 0.7567917394873247 | Val Accuracy = 0.7990555555555555\n",
            "Loss = 0.5652002493877208 | Training Accuracy = 0.8329761904761904 | Val Loss = 0.7560875720439634 | Val Accuracy = 0.7998888888888889\n",
            "Loss = 0.5645001089434043 | Training Accuracy = 0.8335476190476191 | Val Loss = 0.7577071757948197 | Val Accuracy = 0.7996111111111112\n",
            "Loss = 0.5638589172816952 | Training Accuracy = 0.8334047619047619 | Val Loss = 0.7558325035820308 | Val Accuracy = 0.7993888888888889\n",
            "Loss = 0.5631524522770259 | Training Accuracy = 0.8339761904761904 | Val Loss = 0.7556544555856292 | Val Accuracy = 0.7998333333333333\n",
            "Loss = 0.5624775385470019 | Training Accuracy = 0.8339761904761904 | Val Loss = 0.7576032774105538 | Val Accuracy = 0.8003888888888889\n",
            "Loss = 0.5617238168118599 | Training Accuracy = 0.8346666666666667 | Val Loss = 0.7560023297554349 | Val Accuracy = 0.8010555555555555\n",
            "Loss = 0.5611086500577749 | Training Accuracy = 0.8348333333333333 | Val Loss = 0.7531564798280114 | Val Accuracy = 0.8013888888888889\n",
            "Loss = 0.5604300516643933 | Training Accuracy = 0.8347142857142857 | Val Loss = 0.7538835617189649 | Val Accuracy = 0.8005555555555556\n",
            "Loss = 0.5597981421373414 | Training Accuracy = 0.8355476190476191 | Val Loss = 0.7548190235175878 | Val Accuracy = 0.8017777777777778\n",
            "Loss = 0.5591363240469512 | Training Accuracy = 0.8352142857142857 | Val Loss = 0.7561709684824892 | Val Accuracy = 0.8017222222222222\n",
            "Loss = 0.5585179781791919 | Training Accuracy = 0.8357857142857142 | Val Loss = 0.7555975994560817 | Val Accuracy = 0.8018888888888889\n",
            "Loss = 0.5577586597302606 | Training Accuracy = 0.8361666666666666 | Val Loss = 0.7559876913847643 | Val Accuracy = 0.8025555555555556\n",
            "Loss = 0.5570935354674199 | Training Accuracy = 0.8365 | Val Loss = 0.7523981538400911 | Val Accuracy = 0.8026666666666666\n",
            "Loss = 0.5564714586769717 | Training Accuracy = 0.836452380952381 | Val Loss = 0.7531600673042645 | Val Accuracy = 0.8027777777777778\n",
            "Loss = 0.5557552532340697 | Training Accuracy = 0.8370952380952381 | Val Loss = 0.7527386055374916 | Val Accuracy = 0.8027222222222222\n",
            "Loss = 0.5550579513570718 | Training Accuracy = 0.8374047619047619 | Val Loss = 0.7510365537557081 | Val Accuracy = 0.8030555555555555\n",
            "Loss = 0.5544613046984718 | Training Accuracy = 0.8374761904761905 | Val Loss = 0.7507272419530453 | Val Accuracy = 0.8028333333333333\n",
            "Loss = 0.5538502325365011 | Training Accuracy = 0.8376190476190476 | Val Loss = 0.7497821892124661 | Val Accuracy = 0.8029444444444445\n",
            "Loss = 0.5531929319915334 | Training Accuracy = 0.8386190476190476 | Val Loss = 0.7484526147346464 | Val Accuracy = 0.8029444444444445\n",
            "Loss = 0.5525605540590783 | Training Accuracy = 0.8381428571428572 | Val Loss = 0.7500616449398296 | Val Accuracy = 0.8031111111111111\n",
            "Loss = 0.5518815385488737 | Training Accuracy = 0.8386904761904762 | Val Loss = 0.7499211175349212 | Val Accuracy = 0.8031111111111111\n",
            "Loss = 0.5512575999141099 | Training Accuracy = 0.8388333333333333 | Val Loss = 0.747935410988832 | Val Accuracy = 0.8033333333333333\n",
            "Loss = 0.5505483596479928 | Training Accuracy = 0.8389047619047619 | Val Loss = 0.7481555314617491 | Val Accuracy = 0.8039444444444445\n",
            "Loss = 0.5498752328733365 | Training Accuracy = 0.8390714285714286 | Val Loss = 0.7454623937148442 | Val Accuracy = 0.8036111111111112\n",
            "Loss = 0.5492188551584093 | Training Accuracy = 0.8394047619047619 | Val Loss = 0.7451880615973036 | Val Accuracy = 0.8042777777777778\n",
            "Loss = 0.5488401023923928 | Training Accuracy = 0.8392142857142857 | Val Loss = 0.7446306178627224 | Val Accuracy = 0.8036666666666666\n",
            "Loss = 0.5482031507646762 | Training Accuracy = 0.8396428571428571 | Val Loss = 0.7430231241661717 | Val Accuracy = 0.8044444444444444\n",
            "Loss = 0.5476308899274621 | Training Accuracy = 0.8399761904761904 | Val Loss = 0.741954023513172 | Val Accuracy = 0.8047222222222222\n",
            "Loss = 0.5470140944590979 | Training Accuracy = 0.8397142857142857 | Val Loss = 0.7439980423471447 | Val Accuracy = 0.8045\n",
            "Loss = 0.546373236704151 | Training Accuracy = 0.8400238095238095 | Val Loss = 0.7445063911492994 | Val Accuracy = 0.8041666666666667\n",
            "Loss = 0.5458608578036953 | Training Accuracy = 0.8403809523809523 | Val Loss = 0.7429695947727839 | Val Accuracy = 0.8050555555555555\n",
            "Loss = 0.5452119258046497 | Training Accuracy = 0.8407142857142857 | Val Loss = 0.7430346932994462 | Val Accuracy = 0.8044444444444444\n",
            "Loss = 0.544538026212252 | Training Accuracy = 0.841452380952381 | Val Loss = 0.7425539642463366 | Val Accuracy = 0.8048888888888889\n",
            "Loss = 0.5440027305941503 | Training Accuracy = 0.8417857142857142 | Val Loss = 0.7422245469519172 | Val Accuracy = 0.8051666666666667\n",
            "Loss = 0.5434405367322047 | Training Accuracy = 0.8420714285714286 | Val Loss = 0.7419602201847899 | Val Accuracy = 0.8056111111111111\n",
            "Loss = 0.5428260860126289 | Training Accuracy = 0.842 | Val Loss = 0.743693448529995 | Val Accuracy = 0.8056111111111111\n",
            "Loss = 0.54220375916418 | Training Accuracy = 0.8422857142857143 | Val Loss = 0.741626371187862 | Val Accuracy = 0.8053333333333333\n",
            "Loss = 0.5415631506611667 | Training Accuracy = 0.8423095238095238 | Val Loss = 0.742665822735063 | Val Accuracy = 0.8052222222222222\n",
            "Loss = 0.5411145302497012 | Training Accuracy = 0.842 | Val Loss = 0.742600047625803 | Val Accuracy = 0.8055555555555556\n",
            "Loss = 0.5405416571828231 | Training Accuracy = 0.8424047619047619 | Val Loss = 0.7425942079517406 | Val Accuracy = 0.8060555555555555\n",
            "Loss = 0.5400095120963413 | Training Accuracy = 0.8424285714285714 | Val Loss = 0.7419096882040478 | Val Accuracy = 0.8056111111111111\n",
            "Loss = 0.5393643876647698 | Training Accuracy = 0.8428333333333333 | Val Loss = 0.7424197028588665 | Val Accuracy = 0.8062777777777778\n",
            "Loss = 0.5388024626449668 | Training Accuracy = 0.8426428571428571 | Val Loss = 0.7410250362487439 | Val Accuracy = 0.8057222222222222\n",
            "Loss = 0.5381569543061956 | Training Accuracy = 0.8432857142857143 | Val Loss = 0.739706423241956 | Val Accuracy = 0.8063333333333333\n",
            "Loss = 0.5375818858906245 | Training Accuracy = 0.8432619047619048 | Val Loss = 0.7411013969330151 | Val Accuracy = 0.8066111111111111\n",
            "Loss = 0.5370937055145913 | Training Accuracy = 0.8434047619047619 | Val Loss = 0.7411434873597501 | Val Accuracy = 0.8068333333333333\n",
            "Loss = 0.5365838563806293 | Training Accuracy = 0.8433571428571428 | Val Loss = 0.7428741168958874 | Val Accuracy = 0.8064444444444444\n",
            "Loss = 0.5358429333319006 | Training Accuracy = 0.8437857142857143 | Val Loss = 0.7402407270477029 | Val Accuracy = 0.8067777777777778\n",
            "Loss = 0.5353996065684254 | Training Accuracy = 0.8439761904761904 | Val Loss = 0.7409686925535085 | Val Accuracy = 0.8064444444444444\n",
            "Loss = 0.534799201426985 | Training Accuracy = 0.8434285714285714 | Val Loss = 0.739868671158366 | Val Accuracy = 0.8067777777777778\n",
            "Loss = 0.534248758774029 | Training Accuracy = 0.8438571428571429 | Val Loss = 0.7389673516189813 | Val Accuracy = 0.8065\n",
            "Loss = 0.5336516427465734 | Training Accuracy = 0.844047619047619 | Val Loss = 0.740451339625412 | Val Accuracy = 0.8065555555555556\n",
            "Loss = 0.5331601882831559 | Training Accuracy = 0.8441666666666666 | Val Loss = 0.7388709221244509 | Val Accuracy = 0.8069444444444445\n",
            "Loss = 0.5326304730418326 | Training Accuracy = 0.8445 | Val Loss = 0.7407392694398252 | Val Accuracy = 0.8068333333333333\n",
            "Loss = 0.5321377641022341 | Training Accuracy = 0.8445714285714285 | Val Loss = 0.7385493620724752 | Val Accuracy = 0.8065555555555556\n",
            "Loss = 0.5314712821886957 | Training Accuracy = 0.845047619047619 | Val Loss = 0.7377564111722819 | Val Accuracy = 0.8065\n",
            "Loss = 0.5310097652752996 | Training Accuracy = 0.8446904761904762 | Val Loss = 0.7383994068805004 | Val Accuracy = 0.807\n",
            "Loss = 0.5302901132929184 | Training Accuracy = 0.8449285714285715 | Val Loss = 0.7389306190056322 | Val Accuracy = 0.8067777777777778\n",
            "Loss = 0.5297927580159479 | Training Accuracy = 0.8450952380952381 | Val Loss = 0.7380006788807795 | Val Accuracy = 0.8067777777777778\n",
            "Loss = 0.5293186364571013 | Training Accuracy = 0.8449761904761904 | Val Loss = 0.7373224968822724 | Val Accuracy = 0.8068333333333333\n",
            "Loss = 0.5288952964831375 | Training Accuracy = 0.8454285714285714 | Val Loss = 0.7359114837035213 | Val Accuracy = 0.8066666666666666\n",
            "Loss = 0.5282664212463118 | Training Accuracy = 0.8454761904761905 | Val Loss = 0.736036611304794 | Val Accuracy = 0.8066111111111111\n",
            "Loss = 0.5277972187880844 | Training Accuracy = 0.8452619047619048 | Val Loss = 0.7375884162361819 | Val Accuracy = 0.8073333333333333\n",
            "Loss = 0.5272895991723767 | Training Accuracy = 0.8450952380952381 | Val Loss = 0.736620880442618 | Val Accuracy = 0.8067222222222222\n",
            "Loss = 0.5266931886571248 | Training Accuracy = 0.8452619047619048 | Val Loss = 0.7366644470754976 | Val Accuracy = 0.8069444444444445\n",
            "Loss = 0.5262019513927986 | Training Accuracy = 0.845047619047619 | Val Loss = 0.7371625422686039 | Val Accuracy = 0.8067222222222222\n",
            "Loss = 0.5256876620861974 | Training Accuracy = 0.8447857142857143 | Val Loss = 0.7386647463113829 | Val Accuracy = 0.8067777777777778\n",
            "Loss = 0.5250596287063729 | Training Accuracy = 0.845547619047619 | Val Loss = 0.7351677604809654 | Val Accuracy = 0.8076111111111111\n",
            "Loss = 0.5246384574988293 | Training Accuracy = 0.8457619047619047 | Val Loss = 0.7341108907848203 | Val Accuracy = 0.8077777777777778\n",
            "Loss = 0.5240867273054319 | Training Accuracy = 0.8458809523809524 | Val Loss = 0.7343102702289304 | Val Accuracy = 0.8073888888888889\n",
            "Loss = 0.5233563386125643 | Training Accuracy = 0.845547619047619 | Val Loss = 0.7339827903883502 | Val Accuracy = 0.8071666666666667\n",
            "Loss = 0.5230452729455337 | Training Accuracy = 0.8456666666666667 | Val Loss = 0.7342586562711552 | Val Accuracy = 0.8073333333333333\n",
            "Loss = 0.5224159739468905 | Training Accuracy = 0.8462142857142857 | Val Loss = 0.7327598271789066 | Val Accuracy = 0.8076666666666666\n",
            "Loss = 0.5221717002956863 | Training Accuracy = 0.8466666666666667 | Val Loss = 0.7343007326154808 | Val Accuracy = 0.8078888888888889\n",
            "Loss = 0.5216584076938515 | Training Accuracy = 0.8469761904761904 | Val Loss = 0.7319580105721278 | Val Accuracy = 0.8077222222222222\n",
            "Loss = 0.5212381403135553 | Training Accuracy = 0.8471190476190477 | Val Loss = 0.7317178007180476 | Val Accuracy = 0.8080555555555555\n",
            "Loss = 0.5205583666993759 | Training Accuracy = 0.847047619047619 | Val Loss = 0.7307773134560127 | Val Accuracy = 0.8077777777777778\n",
            "Loss = 0.5199914991643305 | Training Accuracy = 0.847 | Val Loss = 0.7316242117694254 | Val Accuracy = 0.8081666666666667\n",
            "Loss = 0.519763022957161 | Training Accuracy = 0.8475 | Val Loss = 0.7310086536138134 | Val Accuracy = 0.8083888888888889\n",
            "Loss = 0.5193272524006665 | Training Accuracy = 0.8469761904761904 | Val Loss = 0.7308097619635703 | Val Accuracy = 0.8081666666666667\n",
            "Loss = 0.5185534382502299 | Training Accuracy = 0.8473571428571428 | Val Loss = 0.7302778082960653 | Val Accuracy = 0.8081666666666667\n",
            "Loss = 0.5181081495796697 | Training Accuracy = 0.8469523809523809 | Val Loss = 0.7296722695473468 | Val Accuracy = 0.8081666666666667\n",
            "Loss = 0.5176605155081867 | Training Accuracy = 0.8474285714285714 | Val Loss = 0.7311562427235571 | Val Accuracy = 0.8085555555555556\n",
            "Loss = 0.5172926079772592 | Training Accuracy = 0.8474761904761905 | Val Loss = 0.7313202297625584 | Val Accuracy = 0.8081666666666667\n",
            "Loss = 0.5166504981622981 | Training Accuracy = 0.8480238095238095 | Val Loss = 0.7294557236546535 | Val Accuracy = 0.809\n",
            "Loss = 0.5161906920129393 | Training Accuracy = 0.8478809523809524 | Val Loss = 0.7313612113292567 | Val Accuracy = 0.8086666666666666\n",
            "Loss = 0.5159512515104021 | Training Accuracy = 0.8479523809523809 | Val Loss = 0.7291383913782957 | Val Accuracy = 0.8088888888888889\n",
            "Loss = 0.5153199195299176 | Training Accuracy = 0.8479523809523809 | Val Loss = 0.7299720463907989 | Val Accuracy = 0.8090555555555555\n",
            "Loss = 0.5147829417285372 | Training Accuracy = 0.8482380952380952 | Val Loss = 0.7317511245081961 | Val Accuracy = 0.8083888888888889\n",
            "Loss = 0.5143595979941392 | Training Accuracy = 0.8482142857142857 | Val Loss = 0.7312564899768705 | Val Accuracy = 0.8091111111111111\n",
            "Loss = 0.5138971886621247 | Training Accuracy = 0.8488333333333333 | Val Loss = 0.7314006054412913 | Val Accuracy = 0.8095\n",
            "Loss = 0.5133980446513149 | Training Accuracy = 0.8491190476190477 | Val Loss = 0.7321572379732659 | Val Accuracy = 0.8089444444444445\n",
            "Loss = 0.5128723390724472 | Training Accuracy = 0.8487142857142858 | Val Loss = 0.7297088333750837 | Val Accuracy = 0.8090555555555555\n",
            "Loss = 0.5126164250716506 | Training Accuracy = 0.8490714285714286 | Val Loss = 0.7305169624237482 | Val Accuracy = 0.8091111111111111\n",
            "Loss = 0.512028808577874 | Training Accuracy = 0.8493571428571428 | Val Loss = 0.729295700415502 | Val Accuracy = 0.8093333333333333\n",
            "Loss = 0.5116593038050874 | Training Accuracy = 0.849547619047619 | Val Loss = 0.731536324652919 | Val Accuracy = 0.8095555555555556\n",
            "Loss = 0.5111747365475355 | Training Accuracy = 0.8491428571428571 | Val Loss = 0.7301032763610101 | Val Accuracy = 0.8088333333333333\n",
            "Loss = 0.510598212175658 | Training Accuracy = 0.8495 | Val Loss = 0.7301851677382525 | Val Accuracy = 0.8095\n",
            "Loss = 0.5102780737853982 | Training Accuracy = 0.8496190476190476 | Val Loss = 0.7304489553362319 | Val Accuracy = 0.8092777777777778\n",
            "Loss = 0.5097951174388223 | Training Accuracy = 0.8491904761904762 | Val Loss = 0.7320055798981151 | Val Accuracy = 0.8091666666666667\n",
            "Loss = 0.5095293833176822 | Training Accuracy = 0.8497857142857143 | Val Loss = 0.7301187275167564 | Val Accuracy = 0.8094444444444444\n",
            "Loss = 0.5089951037380817 | Training Accuracy = 0.8497619047619047 | Val Loss = 0.7302084184675154 | Val Accuracy = 0.8095\n",
            "Loss = 0.5085233475906076 | Training Accuracy = 0.8501190476190477 | Val Loss = 0.7306648618830148 | Val Accuracy = 0.8098888888888889\n",
            "Loss = 0.5079709482826195 | Training Accuracy = 0.8501666666666666 | Val Loss = 0.7299669207745286 | Val Accuracy = 0.8096666666666666\n",
            "Loss = 0.5077500822989764 | Training Accuracy = 0.8506190476190476 | Val Loss = 0.7318151080123019 | Val Accuracy = 0.8098333333333333\n",
            "Loss = 0.5072126310139318 | Training Accuracy = 0.8508333333333333 | Val Loss = 0.7299269969296778 | Val Accuracy = 0.8102222222222222\n",
            "Loss = 0.5068573209002682 | Training Accuracy = 0.8509285714285715 | Val Loss = 0.7290889019248542 | Val Accuracy = 0.8103333333333333\n",
            "Loss = 0.5063933065582006 | Training Accuracy = 0.8512619047619048 | Val Loss = 0.7320558421708646 | Val Accuracy = 0.8099444444444445\n",
            "Loss = 0.5059440315586566 | Training Accuracy = 0.8513095238095238 | Val Loss = 0.7308806506339489 | Val Accuracy = 0.8105555555555556\n",
            "Loss = 0.505591051774272 | Training Accuracy = 0.8509761904761904 | Val Loss = 0.7311804012624031 | Val Accuracy = 0.8105\n",
            "Loss = 0.5052031735427834 | Training Accuracy = 0.851547619047619 | Val Loss = 0.7321161481247028 | Val Accuracy = 0.8111666666666667\n",
            "Loss = 0.5046570085051579 | Training Accuracy = 0.8515952380952381 | Val Loss = 0.7324680336432858 | Val Accuracy = 0.8110555555555555\n",
            "Loss = 0.5044599426852023 | Training Accuracy = 0.8516904761904762 | Val Loss = 0.7321703332168104 | Val Accuracy = 0.8108333333333333\n",
            "Loss = 0.5039297054029735 | Training Accuracy = 0.8521428571428571 | Val Loss = 0.7331616216655626 | Val Accuracy = 0.8115555555555556\n",
            "Loss = 0.5036935289105031 | Training Accuracy = 0.8525714285714285 | Val Loss = 0.7312877744248987 | Val Accuracy = 0.8114444444444444\n",
            "Loss = 0.5031726369886522 | Training Accuracy = 0.8527857142857143 | Val Loss = 0.7330709368393837 | Val Accuracy = 0.8115\n",
            "Loss = 0.5027569066307948 | Training Accuracy = 0.8524761904761905 | Val Loss = 0.732689139162982 | Val Accuracy = 0.8117777777777778\n",
            "Loss = 0.5023133499519455 | Training Accuracy = 0.8527857142857143 | Val Loss = 0.7334337594709088 | Val Accuracy = 0.8116111111111111\n",
            "Loss = 0.5019174093964021 | Training Accuracy = 0.8535238095238096 | Val Loss = 0.7284437795285748 | Val Accuracy = 0.8121111111111111\n",
            "Loss = 0.5015162635128783 | Training Accuracy = 0.8537619047619047 | Val Loss = 0.7296460611033232 | Val Accuracy = 0.8123333333333334\n",
            "Loss = 0.5010969173089185 | Training Accuracy = 0.8536428571428571 | Val Loss = 0.7306801885306732 | Val Accuracy = 0.8124444444444444\n",
            "Loss = 0.5008166092533218 | Training Accuracy = 0.8536666666666667 | Val Loss = 0.727569006298395 | Val Accuracy = 0.812\n",
            "Loss = 0.5002500186906248 | Training Accuracy = 0.8535714285714285 | Val Loss = 0.7307134949450671 | Val Accuracy = 0.8123888888888889\n",
            "Loss = 0.4999726365084834 | Training Accuracy = 0.853452380952381 | Val Loss = 0.7302877727657059 | Val Accuracy = 0.8124444444444444\n",
            "Loss = 0.49964361648042216 | Training Accuracy = 0.8533571428571428 | Val Loss = 0.7290138773755102 | Val Accuracy = 0.8121111111111111\n",
            "Loss = 0.49926001852466395 | Training Accuracy = 0.8532142857142857 | Val Loss = 0.7280286647787624 | Val Accuracy = 0.8121111111111111\n",
            "Loss = 0.4988183043316194 | Training Accuracy = 0.8545 | Val Loss = 0.7275317878036407 | Val Accuracy = 0.8128333333333333\n",
            "Loss = 0.49836702586821546 | Training Accuracy = 0.8538571428571429 | Val Loss = 0.7260714094394877 | Val Accuracy = 0.8123333333333334\n",
            "Loss = 0.49818302554482274 | Training Accuracy = 0.8537619047619047 | Val Loss = 0.7288416931505604 | Val Accuracy = 0.8126666666666666\n",
            "Loss = 0.49759299954501396 | Training Accuracy = 0.8542380952380952 | Val Loss = 0.7292370011377585 | Val Accuracy = 0.8127222222222222\n",
            "Loss = 0.4973547843758881 | Training Accuracy = 0.8544761904761905 | Val Loss = 0.7269586819458701 | Val Accuracy = 0.8125\n",
            "Loss = 0.49698140046043104 | Training Accuracy = 0.8543809523809524 | Val Loss = 0.7274551533533458 | Val Accuracy = 0.8126666666666666\n",
            "Loss = 0.49664181427437964 | Training Accuracy = 0.8544285714285714 | Val Loss = 0.7271242292475256 | Val Accuracy = 0.8126666666666666\n",
            "Loss = 0.4961375208853606 | Training Accuracy = 0.8548095238095238 | Val Loss = 0.7284460546383296 | Val Accuracy = 0.8126666666666666\n",
            "Loss = 0.49578258057172825 | Training Accuracy = 0.8552619047619048 | Val Loss = 0.7270977687547487 | Val Accuracy = 0.8130555555555555\n",
            "Loss = 0.49539207508237165 | Training Accuracy = 0.8549285714285715 | Val Loss = 0.7260380925958969 | Val Accuracy = 0.8132222222222222\n",
            "Loss = 0.49505980266127475 | Training Accuracy = 0.8550952380952381 | Val Loss = 0.7271746093599639 | Val Accuracy = 0.8129444444444445\n",
            "Loss = 0.4947700544856213 | Training Accuracy = 0.8554047619047619 | Val Loss = 0.7273336766475885 | Val Accuracy = 0.8131111111111111\n",
            "Loss = 0.49429067217712847 | Training Accuracy = 0.8557619047619047 | Val Loss = 0.7246885106253307 | Val Accuracy = 0.8131666666666667\n",
            "Loss = 0.4938961771151209 | Training Accuracy = 0.8558333333333333 | Val Loss = 0.7255745786104627 | Val Accuracy = 0.8131666666666667\n",
            "Loss = 0.49364789912476353 | Training Accuracy = 0.8560714285714286 | Val Loss = 0.7240017960938482 | Val Accuracy = 0.813\n",
            "Loss = 0.4932059471818744 | Training Accuracy = 0.8562857142857143 | Val Loss = 0.7230534108001611 | Val Accuracy = 0.8133333333333334\n",
            "Loss = 0.4927184470102926 | Training Accuracy = 0.8563333333333333 | Val Loss = 0.7235152736404867 | Val Accuracy = 0.8132777777777778\n",
            "Loss = 0.4924379014845636 | Training Accuracy = 0.8561428571428571 | Val Loss = 0.7252052622129253 | Val Accuracy = 0.8133333333333334\n",
            "Loss = 0.4920591800524001 | Training Accuracy = 0.8569285714285715 | Val Loss = 0.7224102019189074 | Val Accuracy = 0.8137222222222222\n",
            "Loss = 0.49173637722959096 | Training Accuracy = 0.8571428571428571 | Val Loss = 0.7217924454390926 | Val Accuracy = 0.8136666666666666\n",
            "Loss = 0.49137872417005996 | Training Accuracy = 0.8573571428571428 | Val Loss = 0.7218132719363295 | Val Accuracy = 0.8138333333333333\n",
            "Loss = 0.4910395985302087 | Training Accuracy = 0.8571190476190477 | Val Loss = 0.722364071679533 | Val Accuracy = 0.8138888888888889\n",
            "Loss = 0.4907347986229414 | Training Accuracy = 0.857452380952381 | Val Loss = 0.7226105747979116 | Val Accuracy = 0.8138333333333333\n",
            "Loss = 0.49035579436508203 | Training Accuracy = 0.8574285714285714 | Val Loss = 0.7205453969216541 | Val Accuracy = 0.8138888888888889\n",
            "Loss = 0.49015484980288626 | Training Accuracy = 0.8578809523809524 | Val Loss = 0.721254661313612 | Val Accuracy = 0.8137777777777778\n",
            "Loss = 0.48937606605932726 | Training Accuracy = 0.857904761904762 | Val Loss = 0.7214956943806775 | Val Accuracy = 0.8138888888888889\n",
            "Loss = 0.48904236733754947 | Training Accuracy = 0.8579285714285714 | Val Loss = 0.7226890811207621 | Val Accuracy = 0.8141666666666667\n",
            "Loss = 0.4887086326113808 | Training Accuracy = 0.8581666666666666 | Val Loss = 0.7233405063261275 | Val Accuracy = 0.8141111111111111\n",
            "Loss = 0.4882043477852064 | Training Accuracy = 0.8581904761904762 | Val Loss = 0.7234010541967961 | Val Accuracy = 0.814\n",
            "Loss = 0.48802938388242817 | Training Accuracy = 0.8581666666666666 | Val Loss = 0.7224842298459068 | Val Accuracy = 0.8143888888888889\n",
            "Loss = 0.4877098297396677 | Training Accuracy = 0.8584285714285714 | Val Loss = 0.7222106859374443 | Val Accuracy = 0.8141111111111111\n",
            "Loss = 0.487269831540653 | Training Accuracy = 0.8586904761904762 | Val Loss = 0.723173286162904 | Val Accuracy = 0.814\n",
            "Loss = 0.4868419396625667 | Training Accuracy = 0.8585952380952381 | Val Loss = 0.7221988446011661 | Val Accuracy = 0.8141666666666667\n",
            "Loss = 0.48674334147818576 | Training Accuracy = 0.8586904761904762 | Val Loss = 0.7224949830386891 | Val Accuracy = 0.814\n",
            "Loss = 0.4861010999712474 | Training Accuracy = 0.8585714285714285 | Val Loss = 0.7223882782222654 | Val Accuracy = 0.8140555555555555\n",
            "Loss = 0.48600095464277504 | Training Accuracy = 0.8592857142857143 | Val Loss = 0.7229003071786793 | Val Accuracy = 0.8144444444444444\n",
            "Loss = 0.4855482723949375 | Training Accuracy = 0.8588809523809524 | Val Loss = 0.724153327228177 | Val Accuracy = 0.8139444444444445\n",
            "Loss = 0.48538554410251455 | Training Accuracy = 0.8586428571428572 | Val Loss = 0.7232563302937188 | Val Accuracy = 0.8142222222222222\n",
            "Loss = 0.4849708511401461 | Training Accuracy = 0.8585714285714285 | Val Loss = 0.7227732103082484 | Val Accuracy = 0.814\n",
            "Loss = 0.4847403292743089 | Training Accuracy = 0.8590476190476191 | Val Loss = 0.7211350537168509 | Val Accuracy = 0.8141666666666667\n",
            "Loss = 0.48439749754950917 | Training Accuracy = 0.8588571428571429 | Val Loss = 0.7206687996559974 | Val Accuracy = 0.8146666666666667\n",
            "Loss = 0.48392508434960524 | Training Accuracy = 0.859 | Val Loss = 0.7213988319521468 | Val Accuracy = 0.8146666666666667\n",
            "Loss = 0.4836694571103759 | Training Accuracy = 0.8594047619047619 | Val Loss = 0.7222158306280135 | Val Accuracy = 0.8149444444444445\n",
            "Loss = 0.48324363990044056 | Training Accuracy = 0.8596904761904762 | Val Loss = 0.7199062707025837 | Val Accuracy = 0.8151666666666667\n",
            "Loss = 0.4828057174635838 | Training Accuracy = 0.8601190476190477 | Val Loss = 0.720279418197382 | Val Accuracy = 0.8152222222222222\n",
            "Loss = 0.4826303864718969 | Training Accuracy = 0.8599523809523809 | Val Loss = 0.7209836507729961 | Val Accuracy = 0.8152777777777778\n",
            "Loss = 0.48218775823384646 | Training Accuracy = 0.8599761904761904 | Val Loss = 0.718706105507266 | Val Accuracy = 0.8152777777777778\n",
            "Loss = 0.4818787326790894 | Training Accuracy = 0.8602142857142857 | Val Loss = 0.7211030039364917 | Val Accuracy = 0.8155\n",
            "Loss = 0.48161875947823846 | Training Accuracy = 0.8604285714285714 | Val Loss = 0.7205281922432966 | Val Accuracy = 0.8161111111111111\n",
            "Loss = 0.4812035865681899 | Training Accuracy = 0.8603095238095239 | Val Loss = 0.7206055478332597 | Val Accuracy = 0.8155555555555556\n",
            "Loss = 0.48077980388892133 | Training Accuracy = 0.8602857142857143 | Val Loss = 0.7185072197764242 | Val Accuracy = 0.8157777777777778\n",
            "Loss = 0.48071630298008317 | Training Accuracy = 0.8604285714285714 | Val Loss = 0.7204257838446066 | Val Accuracy = 0.8152777777777778\n",
            "Loss = 0.4803148935833653 | Training Accuracy = 0.860547619047619 | Val Loss = 0.7195261762786948 | Val Accuracy = 0.8156111111111111\n",
            "Loss = 0.47998577514506324 | Training Accuracy = 0.8608333333333333 | Val Loss = 0.7187736474469809 | Val Accuracy = 0.8157222222222222\n",
            "Loss = 0.4797320031581005 | Training Accuracy = 0.8607142857142858 | Val Loss = 0.7207843424243957 | Val Accuracy = 0.8153888888888889\n",
            "Loss = 0.47928688924623686 | Training Accuracy = 0.8607619047619047 | Val Loss = 0.7167109835822913 | Val Accuracy = 0.8157777777777778\n",
            "Loss = 0.4790410030957823 | Training Accuracy = 0.8609523809523809 | Val Loss = 0.717799282224721 | Val Accuracy = 0.8155\n",
            "Loss = 0.4785868666675118 | Training Accuracy = 0.8611666666666666 | Val Loss = 0.7203086657283001 | Val Accuracy = 0.8155\n",
            "Loss = 0.4782495004772298 | Training Accuracy = 0.861 | Val Loss = 0.7191999732911408 | Val Accuracy = 0.8156111111111111\n",
            "Loss = 0.47806599586852006 | Training Accuracy = 0.8614047619047619 | Val Loss = 0.7167443343328762 | Val Accuracy = 0.8154444444444444\n",
            "Loss = 0.47768664296575664 | Training Accuracy = 0.8613095238095239 | Val Loss = 0.7190959293209279 | Val Accuracy = 0.816\n",
            "Loss = 0.47757645367774243 | Training Accuracy = 0.8610952380952381 | Val Loss = 0.7177474683412867 | Val Accuracy = 0.8155\n",
            "Loss = 0.47712504928852634 | Training Accuracy = 0.861904761904762 | Val Loss = 0.7181943472849778 | Val Accuracy = 0.8161111111111111\n",
            "Loss = 0.47699588275501187 | Training Accuracy = 0.8620714285714286 | Val Loss = 0.7194115275811857 | Val Accuracy = 0.8161111111111111\n",
            "Loss = 0.47658667920461295 | Training Accuracy = 0.8618571428571429 | Val Loss = 0.7189001945826874 | Val Accuracy = 0.8158888888888889\n",
            "Loss = 0.4761760328536323 | Training Accuracy = 0.8622142857142857 | Val Loss = 0.7200484794951346 | Val Accuracy = 0.8158888888888889\n",
            "Loss = 0.47595387405082007 | Training Accuracy = 0.8623333333333333 | Val Loss = 0.7207463396812385 | Val Accuracy = 0.8161666666666667\n",
            "Loss = 0.47546196824900894 | Training Accuracy = 0.8622857142857143 | Val Loss = 0.7180199427509956 | Val Accuracy = 0.8162777777777778\n",
            "Loss = 0.47515885630808447 | Training Accuracy = 0.8623333333333333 | Val Loss = 0.7182578072106768 | Val Accuracy = 0.8163333333333334\n"
          ],
          "name": "stdout"
        }
      ]
    },
    {
      "cell_type": "markdown",
      "metadata": {
        "id": "NChIKrrH-42T",
        "colab_type": "text"
      },
      "source": [
        "Take a single image and showing its prediction"
      ]
    },
    {
      "cell_type": "code",
      "metadata": {
        "id": "CpayLiuD-42V",
        "colab_type": "code",
        "colab": {
          "base_uri": "https://localhost:8080/",
          "height": 283
        },
        "outputId": "84f9b37c-dfec-4967-d59d-7dca05a358a9"
      },
      "source": [
        "n = 31\n",
        "plt.imshow(X_val[n].reshape(32,32), cmap='gray')"
      ],
      "execution_count": 141,
      "outputs": [
        {
          "output_type": "execute_result",
          "data": {
            "text/plain": [
              "<matplotlib.image.AxesImage at 0x7f807a4edf60>"
            ]
          },
          "metadata": {
            "tags": []
          },
          "execution_count": 141
        },
        {
          "output_type": "display_data",
          "data": {
            "image/png": "[encoded data removed]",
            "text/plain": [
              "<Figure size 432x288 with 1 Axes>"
            ]
          },
          "metadata": {
            "tags": []
          }
        }
      ]
    },
    {
      "cell_type": "code",
      "metadata": {
        "id": "Th7ynyUH-42a",
        "colab_type": "code",
        "colab": {
          "base_uri": "https://localhost:8080/",
          "height": 85
        },
        "outputId": "3f65f9ae-31f7-45c6-c2eb-144342f04f5a"
      },
      "source": [
        "# Predict Scores for each class\n",
        "prediction = nn.predict_scores(X_val[n])[0]\n",
        "print(\"Scores\", prediction)\n",
        "np.argmax(prediction)"
      ],
      "execution_count": 142,
      "outputs": [
        {
          "output_type": "stream",
          "text": [
            "Scores [7.07082104e-13 2.62429654e-10 2.18365240e-08 1.37343015e-03\n",
            " 1.03378310e-09 3.06276835e-05 4.48641240e-05 4.97750329e-11\n",
            " 9.98550968e-01 8.71691058e-08]\n"
          ],
          "name": "stdout"
        },
        {
          "output_type": "execute_result",
          "data": {
            "text/plain": [
              "8"
            ]
          },
          "metadata": {
            "tags": []
          },
          "execution_count": 142
        }
      ]
    },
    {
      "cell_type": "code",
      "metadata": {
        "id": "6wn7E4zZ-42l",
        "colab_type": "code",
        "colab": {
          "base_uri": "https://localhost:8080/",
          "height": 51
        },
        "outputId": "a296f5f9-a2d8-450e-b488-8dafbfbe14a3"
      },
      "source": [
        "predict_class = nn.predict(X_val[n])[0]\n",
        "print(\"Predicted Class:\",predict_class)\n",
        "print(\"Original Class:\", y_val[n])"
      ],
      "execution_count": 143,
      "outputs": [
        {
          "output_type": "stream",
          "text": [
            "Predicted Class: 8\n",
            "Original Class: 8\n"
          ],
          "name": "stdout"
        }
      ]
    },
    {
      "cell_type": "code",
      "metadata": {
        "id": "oT0tzdZLuIGU",
        "colab_type": "code",
        "colab": {
          "base_uri": "https://localhost:8080/",
          "height": 204
        },
        "outputId": "e78834b4-1214-48d8-d18c-bd8757b614c6"
      },
      "source": [
        "y_predict = nn.predict(X_val)\n",
        "cm_NN = confusion_matrix(y_val, y_predict)\n",
        "print(\"Confusion Matrix:\\n\", cm_NN)"
      ],
      "execution_count": 144,
      "outputs": [
        {
          "output_type": "stream",
          "text": [
            "Confusion Matrix:\n",
            " [[1502   33   16   18   15   11   52   45   26   96]\n",
            " [  22 1519   28   39   54   20   25   68   20   33]\n",
            " [   8   26 1514   38   25   19    9   75   25   64]\n",
            " [  19   34   38 1248   15  185   27   58   46   49]\n",
            " [  22   53   31   24 1509   35   54   12   13   59]\n",
            " [  11   21   20   68    9 1486   61   17   25   50]\n",
            " [  33   27   16   25   29   80 1518   12   67   25]\n",
            " [  18   66   48   17    7   22   16 1560    6   48]\n",
            " [  26   45   25   45   16   70  141   15 1342   87]\n",
            " [  42   29   27   36   20   66   22   37   29 1496]]\n"
          ],
          "name": "stdout"
        }
      ]
    },
    {
      "cell_type": "code",
      "metadata": {
        "id": "m3D9OqbOuLAj",
        "colab_type": "code",
        "colab": {
          "base_uri": "https://localhost:8080/",
          "height": 85
        },
        "outputId": "23caf6a2-41d3-47a1-9d98-9d7f3d0c9163"
      },
      "source": [
        "precision_NN, recall_NN,fscore_NN,support_NN = metrics.precision_recall_fscore_support(y_val, y_predict, average='weighted')\n",
        "print(\"Precision:\", precision_NN, \"\\nRecall:\", recall_NN, \"\\nfScore:\", fscore_NN, \"\\nSupport: \" , support_NN)"
      ],
      "execution_count": 145,
      "outputs": [
        {
          "output_type": "stream",
          "text": [
            "Precision: 0.8192233207566396 \n",
            "Recall: 0.8163333333333334 \n",
            "fScore: 0.8164957714639031 \n",
            "Support:  None\n"
          ],
          "name": "stdout"
        }
      ]
    },
    {
      "cell_type": "markdown",
      "metadata": {
        "id": "snwEQdqx2aPu",
        "colab_type": "text"
      },
      "source": [
        "Based on this exercise it is understood that, with typical machine learning algorithms like K-nearest neighbour it takes lot of time during the test phase which is not good for such models to put in Production.\n",
        "Whereas the Neural Networks take good amount of time during training to learn the weights, bias etc. However for the test data the prediction is very fast."
      ]
    },
    {
      "cell_type": "markdown",
      "metadata": {
        "id": "8yBdTgP_7iYn",
        "colab_type": "text"
      },
      "source": [
        "#Implementing the above using Keras\n"
      ]
    },
    {
      "cell_type": "code",
      "metadata": {
        "id": "Nuq9kdC19Dp4",
        "colab_type": "code",
        "colab": {}
      },
      "source": [
        "model = Sequential()\n",
        "model.add(Dense(64, input_dim=1024, kernel_initializer='normal', activation='relu'))\n",
        "model.add(Dense(64, activation='relu'))\n",
        "model.add(Dense(10, activation=\"softmax\"))\n",
        "model.compile(loss='sparse_categorical_crossentropy', optimizer='adam',metrics =['accuracy'])"
      ],
      "execution_count": 0,
      "outputs": []
    },
    {
      "cell_type": "code",
      "metadata": {
        "id": "BaLgbZGO9uBl",
        "colab_type": "code",
        "outputId": "b81bcb7b-8d4d-4332-a2ad-da6228ca4fbe",
        "colab": {
          "base_uri": "https://localhost:8080/",
          "height": 1000
        }
      },
      "source": [
        "model.fit(np.array(X_train),np.array(y_train), epochs=500, batch_size = 200)\n"
      ],
      "execution_count": 147,
      "outputs": [
        {
          "output_type": "stream",
          "text": [
            "Epoch 1/500\n",
            "42000/42000 [==============================] - 1s 24us/step - loss: 2.2403 - acc: 0.1721\n",
            "Epoch 2/500\n",
            "42000/42000 [==============================] - 1s 17us/step - loss: 1.7511 - acc: 0.4218\n",
            "Epoch 3/500\n",
            "42000/42000 [==============================] - 1s 17us/step - loss: 1.4422 - acc: 0.5384\n",
            "Epoch 4/500\n",
            "42000/42000 [==============================] - 1s 17us/step - loss: 1.3134 - acc: 0.5848\n",
            "Epoch 5/500\n",
            "42000/42000 [==============================] - 1s 18us/step - loss: 1.2332 - acc: 0.6145\n",
            "Epoch 6/500\n",
            "42000/42000 [==============================] - 1s 18us/step - loss: 1.1696 - acc: 0.6391\n",
            "Epoch 7/500\n",
            "42000/42000 [==============================] - 1s 18us/step - loss: 1.1186 - acc: 0.6567\n",
            "Epoch 8/500\n",
            "42000/42000 [==============================] - 1s 18us/step - loss: 1.0761 - acc: 0.6718\n",
            "Epoch 9/500\n",
            "42000/42000 [==============================] - 1s 19us/step - loss: 1.0438 - acc: 0.6819\n",
            "Epoch 10/500\n",
            "42000/42000 [==============================] - 1s 18us/step - loss: 1.0206 - acc: 0.6878\n",
            "Epoch 11/500\n",
            "42000/42000 [==============================] - 1s 18us/step - loss: 1.0019 - acc: 0.6948\n",
            "Epoch 12/500\n",
            "42000/42000 [==============================] - 1s 19us/step - loss: 0.9779 - acc: 0.7005\n",
            "Epoch 13/500\n",
            "42000/42000 [==============================] - 1s 19us/step - loss: 0.9565 - acc: 0.7104\n",
            "Epoch 14/500\n",
            "42000/42000 [==============================] - 1s 19us/step - loss: 0.9469 - acc: 0.7098\n",
            "Epoch 15/500\n",
            "42000/42000 [==============================] - 1s 18us/step - loss: 0.9330 - acc: 0.7156\n",
            "Epoch 16/500\n",
            "42000/42000 [==============================] - 1s 19us/step - loss: 0.9240 - acc: 0.7180\n",
            "Epoch 17/500\n",
            "42000/42000 [==============================] - 1s 18us/step - loss: 0.9147 - acc: 0.7194\n",
            "Epoch 18/500\n",
            "42000/42000 [==============================] - 1s 18us/step - loss: 0.8969 - acc: 0.7270\n",
            "Epoch 19/500\n",
            "42000/42000 [==============================] - 1s 17us/step - loss: 0.8897 - acc: 0.7276\n",
            "Epoch 20/500\n",
            "42000/42000 [==============================] - 1s 18us/step - loss: 0.8871 - acc: 0.7302\n",
            "Epoch 21/500\n",
            "42000/42000 [==============================] - 1s 17us/step - loss: 0.8729 - acc: 0.7333\n",
            "Epoch 22/500\n",
            "42000/42000 [==============================] - 1s 17us/step - loss: 0.8666 - acc: 0.7365\n",
            "Epoch 23/500\n",
            "42000/42000 [==============================] - 1s 17us/step - loss: 0.8542 - acc: 0.7412\n",
            "Epoch 24/500\n",
            "42000/42000 [==============================] - 1s 18us/step - loss: 0.8450 - acc: 0.7444\n",
            "Epoch 25/500\n",
            "42000/42000 [==============================] - 1s 19us/step - loss: 0.8444 - acc: 0.7436\n",
            "Epoch 26/500\n",
            "42000/42000 [==============================] - 1s 19us/step - loss: 0.8366 - acc: 0.7461\n",
            "Epoch 27/500\n",
            "42000/42000 [==============================] - 1s 18us/step - loss: 0.8275 - acc: 0.7486\n",
            "Epoch 28/500\n",
            "42000/42000 [==============================] - 1s 18us/step - loss: 0.8178 - acc: 0.7513\n",
            "Epoch 29/500\n",
            "42000/42000 [==============================] - 1s 17us/step - loss: 0.8126 - acc: 0.7541\n",
            "Epoch 30/500\n",
            "42000/42000 [==============================] - 1s 19us/step - loss: 0.8056 - acc: 0.7580\n",
            "Epoch 31/500\n",
            "42000/42000 [==============================] - 1s 18us/step - loss: 0.7992 - acc: 0.7596\n",
            "Epoch 32/500\n",
            "42000/42000 [==============================] - 1s 18us/step - loss: 0.7949 - acc: 0.7614\n",
            "Epoch 33/500\n",
            "42000/42000 [==============================] - 1s 18us/step - loss: 0.7906 - acc: 0.7622\n",
            "Epoch 34/500\n",
            "42000/42000 [==============================] - 1s 18us/step - loss: 0.7792 - acc: 0.7652\n",
            "Epoch 35/500\n",
            "42000/42000 [==============================] - 1s 18us/step - loss: 0.7745 - acc: 0.7659\n",
            "Epoch 36/500\n",
            "42000/42000 [==============================] - 1s 18us/step - loss: 0.7680 - acc: 0.7693\n",
            "Epoch 37/500\n",
            "42000/42000 [==============================] - 1s 18us/step - loss: 0.7651 - acc: 0.7697\n",
            "Epoch 38/500\n",
            "42000/42000 [==============================] - 1s 19us/step - loss: 0.7633 - acc: 0.7718\n",
            "Epoch 39/500\n",
            "42000/42000 [==============================] - 1s 17us/step - loss: 0.7544 - acc: 0.7741\n",
            "Epoch 40/500\n",
            "42000/42000 [==============================] - 1s 18us/step - loss: 0.7540 - acc: 0.7742\n",
            "Epoch 41/500\n",
            "42000/42000 [==============================] - 1s 17us/step - loss: 0.7446 - acc: 0.7762\n",
            "Epoch 42/500\n",
            "42000/42000 [==============================] - 1s 18us/step - loss: 0.7421 - acc: 0.7771\n",
            "Epoch 43/500\n",
            "42000/42000 [==============================] - 1s 18us/step - loss: 0.7372 - acc: 0.7788\n",
            "Epoch 44/500\n",
            "42000/42000 [==============================] - 1s 18us/step - loss: 0.7308 - acc: 0.7810\n",
            "Epoch 45/500\n",
            "42000/42000 [==============================] - 1s 17us/step - loss: 0.7288 - acc: 0.7806\n",
            "Epoch 46/500\n",
            "42000/42000 [==============================] - 1s 18us/step - loss: 0.7305 - acc: 0.7810\n",
            "Epoch 47/500\n",
            "42000/42000 [==============================] - 1s 18us/step - loss: 0.7173 - acc: 0.7858\n",
            "Epoch 48/500\n",
            "42000/42000 [==============================] - 1s 17us/step - loss: 0.7133 - acc: 0.7860\n",
            "Epoch 49/500\n",
            "42000/42000 [==============================] - 1s 17us/step - loss: 0.7076 - acc: 0.7875\n",
            "Epoch 50/500\n",
            "42000/42000 [==============================] - 1s 18us/step - loss: 0.7072 - acc: 0.7889\n",
            "Epoch 51/500\n",
            "42000/42000 [==============================] - 1s 17us/step - loss: 0.7030 - acc: 0.7891\n",
            "Epoch 52/500\n",
            "42000/42000 [==============================] - 1s 19us/step - loss: 0.7048 - acc: 0.7919\n",
            "Epoch 53/500\n",
            "42000/42000 [==============================] - 1s 17us/step - loss: 0.6930 - acc: 0.7926\n",
            "Epoch 54/500\n",
            "42000/42000 [==============================] - 1s 18us/step - loss: 0.6882 - acc: 0.7950\n",
            "Epoch 55/500\n",
            "42000/42000 [==============================] - 1s 18us/step - loss: 0.6898 - acc: 0.7960\n",
            "Epoch 56/500\n",
            "42000/42000 [==============================] - 1s 18us/step - loss: 0.6814 - acc: 0.7963\n",
            "Epoch 57/500\n",
            "42000/42000 [==============================] - 1s 17us/step - loss: 0.6837 - acc: 0.7978\n",
            "Epoch 58/500\n",
            "42000/42000 [==============================] - 1s 18us/step - loss: 0.6782 - acc: 0.7981\n",
            "Epoch 59/500\n",
            "42000/42000 [==============================] - 1s 18us/step - loss: 0.6735 - acc: 0.7999\n",
            "Epoch 60/500\n",
            "42000/42000 [==============================] - 1s 17us/step - loss: 0.6723 - acc: 0.7996\n",
            "Epoch 61/500\n",
            "42000/42000 [==============================] - 1s 18us/step - loss: 0.6669 - acc: 0.8019\n",
            "Epoch 62/500\n",
            "42000/42000 [==============================] - 1s 18us/step - loss: 0.6627 - acc: 0.8035\n",
            "Epoch 63/500\n",
            "42000/42000 [==============================] - 1s 19us/step - loss: 0.6625 - acc: 0.8035\n",
            "Epoch 64/500\n",
            "42000/42000 [==============================] - 1s 17us/step - loss: 0.6557 - acc: 0.8055\n",
            "Epoch 65/500\n",
            "42000/42000 [==============================] - 1s 17us/step - loss: 0.6607 - acc: 0.8029\n",
            "Epoch 66/500\n",
            "42000/42000 [==============================] - 1s 18us/step - loss: 0.6562 - acc: 0.8049\n",
            "Epoch 67/500\n",
            "42000/42000 [==============================] - 1s 17us/step - loss: 0.6508 - acc: 0.8076\n",
            "Epoch 68/500\n",
            "42000/42000 [==============================] - 1s 17us/step - loss: 0.6528 - acc: 0.8055\n",
            "Epoch 69/500\n",
            "42000/42000 [==============================] - 1s 17us/step - loss: 0.6488 - acc: 0.8076\n",
            "Epoch 70/500\n",
            "42000/42000 [==============================] - 1s 19us/step - loss: 0.6418 - acc: 0.8097\n",
            "Epoch 71/500\n",
            "42000/42000 [==============================] - 1s 17us/step - loss: 0.6454 - acc: 0.8096\n",
            "Epoch 72/500\n",
            "42000/42000 [==============================] - 1s 17us/step - loss: 0.6446 - acc: 0.8076\n",
            "Epoch 73/500\n",
            "42000/42000 [==============================] - 1s 18us/step - loss: 0.6385 - acc: 0.8096\n",
            "Epoch 74/500\n",
            "42000/42000 [==============================] - 1s 18us/step - loss: 0.6343 - acc: 0.8117\n",
            "Epoch 75/500\n",
            "42000/42000 [==============================] - 1s 18us/step - loss: 0.6314 - acc: 0.8125\n",
            "Epoch 76/500\n",
            "42000/42000 [==============================] - 1s 17us/step - loss: 0.6417 - acc: 0.8093\n",
            "Epoch 77/500\n",
            "42000/42000 [==============================] - 1s 19us/step - loss: 0.6303 - acc: 0.8122\n",
            "Epoch 78/500\n",
            "42000/42000 [==============================] - 1s 17us/step - loss: 0.6309 - acc: 0.8125\n",
            "Epoch 79/500\n",
            "42000/42000 [==============================] - 1s 17us/step - loss: 0.6284 - acc: 0.8127\n",
            "Epoch 80/500\n",
            "42000/42000 [==============================] - 1s 17us/step - loss: 0.6236 - acc: 0.8158\n",
            "Epoch 81/500\n",
            "42000/42000 [==============================] - 1s 18us/step - loss: 0.6237 - acc: 0.8147\n",
            "Epoch 82/500\n",
            "42000/42000 [==============================] - 1s 17us/step - loss: 0.6190 - acc: 0.8154\n",
            "Epoch 83/500\n",
            "42000/42000 [==============================] - 1s 17us/step - loss: 0.6244 - acc: 0.8144\n",
            "Epoch 84/500\n",
            "42000/42000 [==============================] - 1s 18us/step - loss: 0.6215 - acc: 0.8147\n",
            "Epoch 85/500\n",
            "42000/42000 [==============================] - 1s 17us/step - loss: 0.6167 - acc: 0.8180\n",
            "Epoch 86/500\n",
            "42000/42000 [==============================] - 1s 18us/step - loss: 0.6182 - acc: 0.8172\n",
            "Epoch 87/500\n",
            "42000/42000 [==============================] - 1s 18us/step - loss: 0.6147 - acc: 0.8166\n",
            "Epoch 88/500\n",
            "42000/42000 [==============================] - 1s 17us/step - loss: 0.6183 - acc: 0.8177\n",
            "Epoch 89/500\n",
            "42000/42000 [==============================] - 1s 17us/step - loss: 0.6195 - acc: 0.8155\n",
            "Epoch 90/500\n",
            "42000/42000 [==============================] - 1s 18us/step - loss: 0.6096 - acc: 0.8191\n",
            "Epoch 91/500\n",
            "42000/42000 [==============================] - 1s 18us/step - loss: 0.6097 - acc: 0.8177\n",
            "Epoch 92/500\n",
            "42000/42000 [==============================] - 1s 18us/step - loss: 0.6139 - acc: 0.8189\n",
            "Epoch 93/500\n",
            "42000/42000 [==============================] - 1s 18us/step - loss: 0.6083 - acc: 0.8193\n",
            "Epoch 94/500\n",
            "42000/42000 [==============================] - 1s 18us/step - loss: 0.6076 - acc: 0.8197\n",
            "Epoch 95/500\n",
            "42000/42000 [==============================] - 1s 18us/step - loss: 0.6026 - acc: 0.8218\n",
            "Epoch 96/500\n",
            "42000/42000 [==============================] - 1s 18us/step - loss: 0.6030 - acc: 0.8209\n",
            "Epoch 97/500\n",
            "42000/42000 [==============================] - 1s 19us/step - loss: 0.6088 - acc: 0.8180\n",
            "Epoch 98/500\n",
            "42000/42000 [==============================] - 1s 19us/step - loss: 0.6043 - acc: 0.8207\n",
            "Epoch 99/500\n",
            "42000/42000 [==============================] - 1s 19us/step - loss: 0.6042 - acc: 0.8206\n",
            "Epoch 100/500\n",
            "42000/42000 [==============================] - 1s 18us/step - loss: 0.6006 - acc: 0.8228\n",
            "Epoch 101/500\n",
            "42000/42000 [==============================] - 1s 18us/step - loss: 0.5904 - acc: 0.8260\n",
            "Epoch 102/500\n",
            "42000/42000 [==============================] - 1s 18us/step - loss: 0.5978 - acc: 0.8215\n",
            "Epoch 103/500\n",
            "42000/42000 [==============================] - 1s 18us/step - loss: 0.6002 - acc: 0.8214\n",
            "Epoch 104/500\n",
            "42000/42000 [==============================] - 1s 18us/step - loss: 0.5918 - acc: 0.8246\n",
            "Epoch 105/500\n",
            "42000/42000 [==============================] - 1s 18us/step - loss: 0.5914 - acc: 0.8234\n",
            "Epoch 106/500\n",
            "42000/42000 [==============================] - 1s 18us/step - loss: 0.5917 - acc: 0.8237\n",
            "Epoch 107/500\n",
            "42000/42000 [==============================] - 1s 18us/step - loss: 0.5952 - acc: 0.8226\n",
            "Epoch 108/500\n",
            "42000/42000 [==============================] - 1s 17us/step - loss: 0.5908 - acc: 0.8259\n",
            "Epoch 109/500\n",
            "42000/42000 [==============================] - 1s 18us/step - loss: 0.5864 - acc: 0.8252\n",
            "Epoch 110/500\n",
            "42000/42000 [==============================] - 1s 18us/step - loss: 0.5907 - acc: 0.8240\n",
            "Epoch 111/500\n",
            "42000/42000 [==============================] - 1s 18us/step - loss: 0.5924 - acc: 0.8249\n",
            "Epoch 112/500\n",
            "42000/42000 [==============================] - 1s 17us/step - loss: 0.5834 - acc: 0.8253\n",
            "Epoch 113/500\n",
            "42000/42000 [==============================] - 1s 17us/step - loss: 0.5913 - acc: 0.8223\n",
            "Epoch 114/500\n",
            "42000/42000 [==============================] - 1s 18us/step - loss: 0.5831 - acc: 0.8281\n",
            "Epoch 115/500\n",
            "42000/42000 [==============================] - 1s 18us/step - loss: 0.5855 - acc: 0.8248\n",
            "Epoch 116/500\n",
            "42000/42000 [==============================] - 1s 19us/step - loss: 0.5838 - acc: 0.8278\n",
            "Epoch 117/500\n",
            "42000/42000 [==============================] - 1s 19us/step - loss: 0.5812 - acc: 0.8269\n",
            "Epoch 118/500\n",
            "42000/42000 [==============================] - 1s 18us/step - loss: 0.5818 - acc: 0.8287\n",
            "Epoch 119/500\n",
            "42000/42000 [==============================] - 1s 18us/step - loss: 0.5836 - acc: 0.8260\n",
            "Epoch 120/500\n",
            "42000/42000 [==============================] - 1s 19us/step - loss: 0.5871 - acc: 0.8265\n",
            "Epoch 121/500\n",
            "42000/42000 [==============================] - 1s 18us/step - loss: 0.5833 - acc: 0.8265\n",
            "Epoch 122/500\n",
            "42000/42000 [==============================] - 1s 17us/step - loss: 0.5817 - acc: 0.8270\n",
            "Epoch 123/500\n",
            "42000/42000 [==============================] - 1s 17us/step - loss: 0.5834 - acc: 0.8257\n",
            "Epoch 124/500\n",
            "42000/42000 [==============================] - 1s 19us/step - loss: 0.5748 - acc: 0.8299\n",
            "Epoch 125/500\n",
            "42000/42000 [==============================] - 1s 18us/step - loss: 0.5771 - acc: 0.8287\n",
            "Epoch 126/500\n",
            "42000/42000 [==============================] - 1s 19us/step - loss: 0.5734 - acc: 0.8290\n",
            "Epoch 127/500\n",
            "42000/42000 [==============================] - 1s 17us/step - loss: 0.5678 - acc: 0.8315\n",
            "Epoch 128/500\n",
            "42000/42000 [==============================] - 1s 18us/step - loss: 0.5799 - acc: 0.8262\n",
            "Epoch 129/500\n",
            "42000/42000 [==============================] - 1s 18us/step - loss: 0.5745 - acc: 0.8286\n",
            "Epoch 130/500\n",
            "42000/42000 [==============================] - 1s 19us/step - loss: 0.5723 - acc: 0.8291\n",
            "Epoch 131/500\n",
            "42000/42000 [==============================] - 1s 17us/step - loss: 0.5724 - acc: 0.8287\n",
            "Epoch 132/500\n",
            "42000/42000 [==============================] - 1s 18us/step - loss: 0.5706 - acc: 0.8301\n",
            "Epoch 133/500\n",
            "42000/42000 [==============================] - 1s 17us/step - loss: 0.5740 - acc: 0.8294\n",
            "Epoch 134/500\n",
            "42000/42000 [==============================] - 1s 18us/step - loss: 0.5719 - acc: 0.8292\n",
            "Epoch 135/500\n",
            "42000/42000 [==============================] - 1s 19us/step - loss: 0.5725 - acc: 0.8289\n",
            "Epoch 136/500\n",
            "42000/42000 [==============================] - 1s 18us/step - loss: 0.5725 - acc: 0.8291\n",
            "Epoch 137/500\n",
            "42000/42000 [==============================] - 1s 17us/step - loss: 0.5692 - acc: 0.8307\n",
            "Epoch 138/500\n",
            "42000/42000 [==============================] - 1s 18us/step - loss: 0.5701 - acc: 0.8290\n",
            "Epoch 139/500\n",
            "42000/42000 [==============================] - 1s 19us/step - loss: 0.5648 - acc: 0.8312\n",
            "Epoch 140/500\n",
            "42000/42000 [==============================] - 1s 18us/step - loss: 0.5644 - acc: 0.8318\n",
            "Epoch 141/500\n",
            "42000/42000 [==============================] - 1s 18us/step - loss: 0.5693 - acc: 0.8313\n",
            "Epoch 142/500\n",
            "42000/42000 [==============================] - 1s 17us/step - loss: 0.5639 - acc: 0.8328\n",
            "Epoch 143/500\n",
            "42000/42000 [==============================] - 1s 18us/step - loss: 0.5622 - acc: 0.8320\n",
            "Epoch 144/500\n",
            "42000/42000 [==============================] - 1s 18us/step - loss: 0.5595 - acc: 0.8338\n",
            "Epoch 145/500\n",
            "42000/42000 [==============================] - 1s 18us/step - loss: 0.5648 - acc: 0.8317\n",
            "Epoch 146/500\n",
            "42000/42000 [==============================] - 1s 19us/step - loss: 0.5595 - acc: 0.8342\n",
            "Epoch 147/500\n",
            "42000/42000 [==============================] - 1s 17us/step - loss: 0.5669 - acc: 0.8304\n",
            "Epoch 148/500\n",
            "42000/42000 [==============================] - 1s 18us/step - loss: 0.5635 - acc: 0.8326\n",
            "Epoch 149/500\n",
            "42000/42000 [==============================] - 1s 18us/step - loss: 0.5608 - acc: 0.8325\n",
            "Epoch 150/500\n",
            "42000/42000 [==============================] - 1s 18us/step - loss: 0.5565 - acc: 0.8339\n",
            "Epoch 151/500\n",
            "42000/42000 [==============================] - 1s 18us/step - loss: 0.5584 - acc: 0.8337\n",
            "Epoch 152/500\n",
            "42000/42000 [==============================] - 1s 18us/step - loss: 0.5581 - acc: 0.8346\n",
            "Epoch 153/500\n",
            "42000/42000 [==============================] - 1s 18us/step - loss: 0.5547 - acc: 0.8360\n",
            "Epoch 154/500\n",
            "42000/42000 [==============================] - 1s 19us/step - loss: 0.5624 - acc: 0.8317\n",
            "Epoch 155/500\n",
            "42000/42000 [==============================] - 1s 18us/step - loss: 0.5531 - acc: 0.8362\n",
            "Epoch 156/500\n",
            "42000/42000 [==============================] - 1s 17us/step - loss: 0.5574 - acc: 0.8340\n",
            "Epoch 157/500\n",
            "42000/42000 [==============================] - 1s 18us/step - loss: 0.5553 - acc: 0.8342\n",
            "Epoch 158/500\n",
            "42000/42000 [==============================] - 1s 18us/step - loss: 0.5567 - acc: 0.8330\n",
            "Epoch 159/500\n",
            "42000/42000 [==============================] - 1s 17us/step - loss: 0.5575 - acc: 0.8325\n",
            "Epoch 160/500\n",
            "42000/42000 [==============================] - 1s 18us/step - loss: 0.5525 - acc: 0.8348\n",
            "Epoch 161/500\n",
            "42000/42000 [==============================] - 1s 18us/step - loss: 0.5558 - acc: 0.8349\n",
            "Epoch 162/500\n",
            "42000/42000 [==============================] - 1s 17us/step - loss: 0.5476 - acc: 0.8353\n",
            "Epoch 163/500\n",
            "42000/42000 [==============================] - 1s 18us/step - loss: 0.5544 - acc: 0.8346\n",
            "Epoch 164/500\n",
            "42000/42000 [==============================] - 1s 19us/step - loss: 0.5516 - acc: 0.8344\n",
            "Epoch 165/500\n",
            "42000/42000 [==============================] - 1s 18us/step - loss: 0.5538 - acc: 0.8347\n",
            "Epoch 166/500\n",
            "42000/42000 [==============================] - 1s 18us/step - loss: 0.5521 - acc: 0.8343\n",
            "Epoch 167/500\n",
            "42000/42000 [==============================] - 1s 18us/step - loss: 0.5493 - acc: 0.8341\n",
            "Epoch 168/500\n",
            "42000/42000 [==============================] - 1s 18us/step - loss: 0.5449 - acc: 0.8389\n",
            "Epoch 169/500\n",
            "42000/42000 [==============================] - 1s 18us/step - loss: 0.5510 - acc: 0.8359\n",
            "Epoch 170/500\n",
            "42000/42000 [==============================] - 1s 17us/step - loss: 0.5490 - acc: 0.8360\n",
            "Epoch 171/500\n",
            "42000/42000 [==============================] - 1s 18us/step - loss: 0.5422 - acc: 0.8387\n",
            "Epoch 172/500\n",
            "42000/42000 [==============================] - 1s 18us/step - loss: 0.5501 - acc: 0.8362\n",
            "Epoch 173/500\n",
            "42000/42000 [==============================] - 1s 17us/step - loss: 0.5505 - acc: 0.8353\n",
            "Epoch 174/500\n",
            "42000/42000 [==============================] - 1s 17us/step - loss: 0.5424 - acc: 0.8379\n",
            "Epoch 175/500\n",
            "42000/42000 [==============================] - 1s 17us/step - loss: 0.5492 - acc: 0.8358\n",
            "Epoch 176/500\n",
            "42000/42000 [==============================] - 1s 19us/step - loss: 0.5435 - acc: 0.8371\n",
            "Epoch 177/500\n",
            "42000/42000 [==============================] - 1s 19us/step - loss: 0.5508 - acc: 0.8357\n",
            "Epoch 178/500\n",
            "42000/42000 [==============================] - 1s 18us/step - loss: 0.5425 - acc: 0.8393\n",
            "Epoch 179/500\n",
            "42000/42000 [==============================] - 1s 18us/step - loss: 0.5429 - acc: 0.8393\n",
            "Epoch 180/500\n",
            "42000/42000 [==============================] - 1s 19us/step - loss: 0.5423 - acc: 0.8364\n",
            "Epoch 181/500\n",
            "42000/42000 [==============================] - 1s 17us/step - loss: 0.5437 - acc: 0.8371\n",
            "Epoch 182/500\n",
            "42000/42000 [==============================] - 1s 19us/step - loss: 0.5420 - acc: 0.8397\n",
            "Epoch 183/500\n",
            "42000/42000 [==============================] - 1s 18us/step - loss: 0.5477 - acc: 0.8358\n",
            "Epoch 184/500\n",
            "42000/42000 [==============================] - 1s 18us/step - loss: 0.5474 - acc: 0.8368\n",
            "Epoch 185/500\n",
            "42000/42000 [==============================] - 1s 18us/step - loss: 0.5370 - acc: 0.8407\n",
            "Epoch 186/500\n",
            "42000/42000 [==============================] - 1s 19us/step - loss: 0.5380 - acc: 0.8390\n",
            "Epoch 187/500\n",
            "42000/42000 [==============================] - 1s 18us/step - loss: 0.5356 - acc: 0.8389\n",
            "Epoch 188/500\n",
            "42000/42000 [==============================] - 1s 18us/step - loss: 0.5350 - acc: 0.8417\n",
            "Epoch 189/500\n",
            "42000/42000 [==============================] - 1s 18us/step - loss: 0.5369 - acc: 0.8397\n",
            "Epoch 190/500\n",
            "42000/42000 [==============================] - 1s 18us/step - loss: 0.5416 - acc: 0.8398\n",
            "Epoch 191/500\n",
            "42000/42000 [==============================] - 1s 19us/step - loss: 0.5385 - acc: 0.8392\n",
            "Epoch 192/500\n",
            "42000/42000 [==============================] - 1s 18us/step - loss: 0.5362 - acc: 0.8393\n",
            "Epoch 193/500\n",
            "42000/42000 [==============================] - 1s 17us/step - loss: 0.5419 - acc: 0.8373\n",
            "Epoch 194/500\n",
            "42000/42000 [==============================] - 1s 19us/step - loss: 0.5429 - acc: 0.8355\n",
            "Epoch 195/500\n",
            "42000/42000 [==============================] - 1s 18us/step - loss: 0.5388 - acc: 0.8379\n",
            "Epoch 196/500\n",
            "42000/42000 [==============================] - 1s 18us/step - loss: 0.5355 - acc: 0.8418\n",
            "Epoch 197/500\n",
            "42000/42000 [==============================] - 1s 19us/step - loss: 0.5390 - acc: 0.8395\n",
            "Epoch 198/500\n",
            "42000/42000 [==============================] - 1s 18us/step - loss: 0.5347 - acc: 0.8391\n",
            "Epoch 199/500\n",
            "42000/42000 [==============================] - 1s 18us/step - loss: 0.5331 - acc: 0.8400\n",
            "Epoch 200/500\n",
            "42000/42000 [==============================] - 1s 18us/step - loss: 0.5363 - acc: 0.8403\n",
            "Epoch 201/500\n",
            "42000/42000 [==============================] - 1s 18us/step - loss: 0.5289 - acc: 0.8423\n",
            "Epoch 202/500\n",
            "42000/42000 [==============================] - 1s 18us/step - loss: 0.5298 - acc: 0.8419\n",
            "Epoch 203/500\n",
            "42000/42000 [==============================] - 1s 18us/step - loss: 0.5314 - acc: 0.8407\n",
            "Epoch 204/500\n",
            "42000/42000 [==============================] - 1s 18us/step - loss: 0.5306 - acc: 0.8410\n",
            "Epoch 205/500\n",
            "42000/42000 [==============================] - 1s 19us/step - loss: 0.5328 - acc: 0.8411\n",
            "Epoch 206/500\n",
            "42000/42000 [==============================] - 1s 18us/step - loss: 0.5331 - acc: 0.8409\n",
            "Epoch 207/500\n",
            "42000/42000 [==============================] - 1s 19us/step - loss: 0.5343 - acc: 0.8408\n",
            "Epoch 208/500\n",
            "42000/42000 [==============================] - 1s 18us/step - loss: 0.5294 - acc: 0.8407\n",
            "Epoch 209/500\n",
            "42000/42000 [==============================] - 1s 18us/step - loss: 0.5341 - acc: 0.8393\n",
            "Epoch 210/500\n",
            "42000/42000 [==============================] - 1s 18us/step - loss: 0.5315 - acc: 0.8411\n",
            "Epoch 211/500\n",
            "42000/42000 [==============================] - 1s 18us/step - loss: 0.5346 - acc: 0.8405\n",
            "Epoch 212/500\n",
            "42000/42000 [==============================] - 1s 18us/step - loss: 0.5326 - acc: 0.8406\n",
            "Epoch 213/500\n",
            "42000/42000 [==============================] - 1s 17us/step - loss: 0.5281 - acc: 0.8418\n",
            "Epoch 214/500\n",
            "42000/42000 [==============================] - 1s 18us/step - loss: 0.5278 - acc: 0.8411\n",
            "Epoch 215/500\n",
            "42000/42000 [==============================] - 1s 18us/step - loss: 0.5288 - acc: 0.8416\n",
            "Epoch 216/500\n",
            "42000/42000 [==============================] - 1s 18us/step - loss: 0.5366 - acc: 0.8378\n",
            "Epoch 217/500\n",
            "42000/42000 [==============================] - 1s 18us/step - loss: 0.5296 - acc: 0.8407\n",
            "Epoch 218/500\n",
            "42000/42000 [==============================] - 1s 18us/step - loss: 0.5312 - acc: 0.8416\n",
            "Epoch 219/500\n",
            "42000/42000 [==============================] - 1s 17us/step - loss: 0.5268 - acc: 0.8421\n",
            "Epoch 220/500\n",
            "42000/42000 [==============================] - 1s 17us/step - loss: 0.5303 - acc: 0.8416\n",
            "Epoch 221/500\n",
            "42000/42000 [==============================] - 1s 17us/step - loss: 0.5264 - acc: 0.8435\n",
            "Epoch 222/500\n",
            "42000/42000 [==============================] - 1s 17us/step - loss: 0.5278 - acc: 0.8402\n",
            "Epoch 223/500\n",
            "42000/42000 [==============================] - 1s 18us/step - loss: 0.5276 - acc: 0.8424\n",
            "Epoch 224/500\n",
            "42000/42000 [==============================] - 1s 18us/step - loss: 0.5287 - acc: 0.8413\n",
            "Epoch 225/500\n",
            "42000/42000 [==============================] - 1s 17us/step - loss: 0.5240 - acc: 0.8435\n",
            "Epoch 226/500\n",
            "42000/42000 [==============================] - 1s 18us/step - loss: 0.5294 - acc: 0.8417\n",
            "Epoch 227/500\n",
            "42000/42000 [==============================] - 1s 18us/step - loss: 0.5204 - acc: 0.8453\n",
            "Epoch 228/500\n",
            "42000/42000 [==============================] - 1s 18us/step - loss: 0.5234 - acc: 0.8436\n",
            "Epoch 229/500\n",
            "42000/42000 [==============================] - 1s 18us/step - loss: 0.5266 - acc: 0.8423\n",
            "Epoch 230/500\n",
            "42000/42000 [==============================] - 1s 18us/step - loss: 0.5255 - acc: 0.8424\n",
            "Epoch 231/500\n",
            "42000/42000 [==============================] - 1s 18us/step - loss: 0.5283 - acc: 0.8405\n",
            "Epoch 232/500\n",
            "42000/42000 [==============================] - 1s 18us/step - loss: 0.5267 - acc: 0.8419\n",
            "Epoch 233/500\n",
            "42000/42000 [==============================] - 1s 18us/step - loss: 0.5230 - acc: 0.8429\n",
            "Epoch 234/500\n",
            "42000/42000 [==============================] - 1s 18us/step - loss: 0.5226 - acc: 0.8422\n",
            "Epoch 235/500\n",
            "42000/42000 [==============================] - 1s 17us/step - loss: 0.5221 - acc: 0.8436\n",
            "Epoch 236/500\n",
            "42000/42000 [==============================] - 1s 18us/step - loss: 0.5184 - acc: 0.8437\n",
            "Epoch 237/500\n",
            "42000/42000 [==============================] - 1s 18us/step - loss: 0.5225 - acc: 0.8432\n",
            "Epoch 238/500\n",
            "42000/42000 [==============================] - 1s 19us/step - loss: 0.5210 - acc: 0.8445\n",
            "Epoch 239/500\n",
            "42000/42000 [==============================] - 1s 18us/step - loss: 0.5239 - acc: 0.8421\n",
            "Epoch 240/500\n",
            "42000/42000 [==============================] - 1s 17us/step - loss: 0.5245 - acc: 0.8429\n",
            "Epoch 241/500\n",
            "42000/42000 [==============================] - 1s 18us/step - loss: 0.5228 - acc: 0.8426\n",
            "Epoch 242/500\n",
            "42000/42000 [==============================] - 1s 18us/step - loss: 0.5221 - acc: 0.8430\n",
            "Epoch 243/500\n",
            "42000/42000 [==============================] - 1s 17us/step - loss: 0.5227 - acc: 0.8436\n",
            "Epoch 244/500\n",
            "42000/42000 [==============================] - 1s 18us/step - loss: 0.5196 - acc: 0.8426\n",
            "Epoch 245/500\n",
            "42000/42000 [==============================] - 1s 17us/step - loss: 0.5193 - acc: 0.8450\n",
            "Epoch 246/500\n",
            "42000/42000 [==============================] - 1s 18us/step - loss: 0.5207 - acc: 0.8432\n",
            "Epoch 247/500\n",
            "42000/42000 [==============================] - 1s 19us/step - loss: 0.5266 - acc: 0.8417\n",
            "Epoch 248/500\n",
            "42000/42000 [==============================] - 1s 18us/step - loss: 0.5212 - acc: 0.8434\n",
            "Epoch 249/500\n",
            "42000/42000 [==============================] - 1s 18us/step - loss: 0.5232 - acc: 0.8434\n",
            "Epoch 250/500\n",
            "42000/42000 [==============================] - 1s 17us/step - loss: 0.5211 - acc: 0.8419\n",
            "Epoch 251/500\n",
            "42000/42000 [==============================] - 1s 17us/step - loss: 0.5219 - acc: 0.8445\n",
            "Epoch 252/500\n",
            "42000/42000 [==============================] - 1s 17us/step - loss: 0.5215 - acc: 0.8441\n",
            "Epoch 253/500\n",
            "42000/42000 [==============================] - 1s 18us/step - loss: 0.5194 - acc: 0.8441\n",
            "Epoch 254/500\n",
            "42000/42000 [==============================] - 1s 18us/step - loss: 0.5195 - acc: 0.8446\n",
            "Epoch 255/500\n",
            "42000/42000 [==============================] - 1s 18us/step - loss: 0.5170 - acc: 0.8449\n",
            "Epoch 256/500\n",
            "42000/42000 [==============================] - 1s 18us/step - loss: 0.5191 - acc: 0.8438\n",
            "Epoch 257/500\n",
            "42000/42000 [==============================] - 1s 18us/step - loss: 0.5143 - acc: 0.8473\n",
            "Epoch 258/500\n",
            "42000/42000 [==============================] - 1s 17us/step - loss: 0.5160 - acc: 0.8448\n",
            "Epoch 259/500\n",
            "42000/42000 [==============================] - 1s 17us/step - loss: 0.5178 - acc: 0.8442\n",
            "Epoch 260/500\n",
            "42000/42000 [==============================] - 1s 17us/step - loss: 0.5199 - acc: 0.8434\n",
            "Epoch 261/500\n",
            "42000/42000 [==============================] - 1s 17us/step - loss: 0.5178 - acc: 0.8434\n",
            "Epoch 262/500\n",
            "42000/42000 [==============================] - 1s 17us/step - loss: 0.5131 - acc: 0.8468\n",
            "Epoch 263/500\n",
            "42000/42000 [==============================] - 1s 19us/step - loss: 0.5123 - acc: 0.8468\n",
            "Epoch 264/500\n",
            "42000/42000 [==============================] - 1s 18us/step - loss: 0.5106 - acc: 0.8473\n",
            "Epoch 265/500\n",
            "42000/42000 [==============================] - 1s 17us/step - loss: 0.5152 - acc: 0.8458\n",
            "Epoch 266/500\n",
            "42000/42000 [==============================] - 1s 17us/step - loss: 0.5178 - acc: 0.8439\n",
            "Epoch 267/500\n",
            "42000/42000 [==============================] - 1s 17us/step - loss: 0.5158 - acc: 0.8454\n",
            "Epoch 268/500\n",
            "42000/42000 [==============================] - 1s 17us/step - loss: 0.5172 - acc: 0.8447\n",
            "Epoch 269/500\n",
            "42000/42000 [==============================] - 1s 18us/step - loss: 0.5217 - acc: 0.8427\n",
            "Epoch 270/500\n",
            "42000/42000 [==============================] - 1s 17us/step - loss: 0.5149 - acc: 0.8448\n",
            "Epoch 271/500\n",
            "42000/42000 [==============================] - 1s 17us/step - loss: 0.5126 - acc: 0.8456\n",
            "Epoch 272/500\n",
            "42000/42000 [==============================] - 1s 18us/step - loss: 0.5142 - acc: 0.8456\n",
            "Epoch 273/500\n",
            "42000/42000 [==============================] - 1s 18us/step - loss: 0.5167 - acc: 0.8445\n",
            "Epoch 274/500\n",
            "42000/42000 [==============================] - 1s 18us/step - loss: 0.5105 - acc: 0.8469\n",
            "Epoch 275/500\n",
            "42000/42000 [==============================] - 1s 19us/step - loss: 0.5163 - acc: 0.8451\n",
            "Epoch 276/500\n",
            "42000/42000 [==============================] - 1s 18us/step - loss: 0.5148 - acc: 0.8463\n",
            "Epoch 277/500\n",
            "42000/42000 [==============================] - 1s 17us/step - loss: 0.5092 - acc: 0.8461\n",
            "Epoch 278/500\n",
            "42000/42000 [==============================] - 1s 18us/step - loss: 0.5122 - acc: 0.8463\n",
            "Epoch 279/500\n",
            "42000/42000 [==============================] - 1s 18us/step - loss: 0.5115 - acc: 0.8453\n",
            "Epoch 280/500\n",
            "42000/42000 [==============================] - 1s 17us/step - loss: 0.5117 - acc: 0.8465\n",
            "Epoch 281/500\n",
            "42000/42000 [==============================] - 1s 17us/step - loss: 0.5113 - acc: 0.8449\n",
            "Epoch 282/500\n",
            "42000/42000 [==============================] - 1s 18us/step - loss: 0.5110 - acc: 0.8468\n",
            "Epoch 283/500\n",
            "42000/42000 [==============================] - 1s 18us/step - loss: 0.5141 - acc: 0.8446\n",
            "Epoch 284/500\n",
            "42000/42000 [==============================] - 1s 18us/step - loss: 0.5110 - acc: 0.8455\n",
            "Epoch 285/500\n",
            "42000/42000 [==============================] - 1s 17us/step - loss: 0.5122 - acc: 0.8463\n",
            "Epoch 286/500\n",
            "42000/42000 [==============================] - 1s 19us/step - loss: 0.5094 - acc: 0.8476\n",
            "Epoch 287/500\n",
            "42000/42000 [==============================] - 1s 18us/step - loss: 0.5059 - acc: 0.8486\n",
            "Epoch 288/500\n",
            "42000/42000 [==============================] - 1s 17us/step - loss: 0.5088 - acc: 0.8473\n",
            "Epoch 289/500\n",
            "42000/42000 [==============================] - 1s 18us/step - loss: 0.5124 - acc: 0.8458\n",
            "Epoch 290/500\n",
            "42000/42000 [==============================] - 1s 19us/step - loss: 0.5134 - acc: 0.8461\n",
            "Epoch 291/500\n",
            "42000/42000 [==============================] - 1s 18us/step - loss: 0.5120 - acc: 0.8449\n",
            "Epoch 292/500\n",
            "42000/42000 [==============================] - 1s 17us/step - loss: 0.5108 - acc: 0.8480\n",
            "Epoch 293/500\n",
            "42000/42000 [==============================] - 1s 16us/step - loss: 0.5103 - acc: 0.8465\n",
            "Epoch 294/500\n",
            "42000/42000 [==============================] - 1s 17us/step - loss: 0.5099 - acc: 0.8473\n",
            "Epoch 295/500\n",
            "42000/42000 [==============================] - 1s 17us/step - loss: 0.5106 - acc: 0.8468\n",
            "Epoch 296/500\n",
            "42000/42000 [==============================] - 1s 17us/step - loss: 0.5104 - acc: 0.8460\n",
            "Epoch 297/500\n",
            "42000/42000 [==============================] - 1s 16us/step - loss: 0.5146 - acc: 0.8450\n",
            "Epoch 298/500\n",
            "42000/42000 [==============================] - 1s 18us/step - loss: 0.5059 - acc: 0.8494\n",
            "Epoch 299/500\n",
            "42000/42000 [==============================] - 1s 17us/step - loss: 0.5147 - acc: 0.8448\n",
            "Epoch 300/500\n",
            "42000/42000 [==============================] - 1s 18us/step - loss: 0.5080 - acc: 0.8470\n",
            "Epoch 301/500\n",
            "42000/42000 [==============================] - 1s 17us/step - loss: 0.5053 - acc: 0.8493\n",
            "Epoch 302/500\n",
            "42000/42000 [==============================] - 1s 18us/step - loss: 0.5078 - acc: 0.8477\n",
            "Epoch 303/500\n",
            "42000/42000 [==============================] - 1s 18us/step - loss: 0.5111 - acc: 0.8460\n",
            "Epoch 304/500\n",
            "42000/42000 [==============================] - 1s 18us/step - loss: 0.5069 - acc: 0.8481\n",
            "Epoch 305/500\n",
            "42000/42000 [==============================] - 1s 18us/step - loss: 0.5054 - acc: 0.8481\n",
            "Epoch 306/500\n",
            "42000/42000 [==============================] - 1s 18us/step - loss: 0.5105 - acc: 0.8474\n",
            "Epoch 307/500\n",
            "42000/42000 [==============================] - 1s 17us/step - loss: 0.5089 - acc: 0.8465\n",
            "Epoch 308/500\n",
            "42000/42000 [==============================] - 1s 17us/step - loss: 0.5070 - acc: 0.8470\n",
            "Epoch 309/500\n",
            "42000/42000 [==============================] - 1s 18us/step - loss: 0.5056 - acc: 0.8483\n",
            "Epoch 310/500\n",
            "42000/42000 [==============================] - 1s 19us/step - loss: 0.5061 - acc: 0.8471\n",
            "Epoch 311/500\n",
            "42000/42000 [==============================] - 1s 19us/step - loss: 0.5052 - acc: 0.8483\n",
            "Epoch 312/500\n",
            "42000/42000 [==============================] - 1s 18us/step - loss: 0.5029 - acc: 0.8481\n",
            "Epoch 313/500\n",
            "42000/42000 [==============================] - 1s 18us/step - loss: 0.5042 - acc: 0.8494\n",
            "Epoch 314/500\n",
            "42000/42000 [==============================] - 1s 17us/step - loss: 0.5042 - acc: 0.8482\n",
            "Epoch 315/500\n",
            "42000/42000 [==============================] - 1s 17us/step - loss: 0.5025 - acc: 0.8474\n",
            "Epoch 316/500\n",
            "42000/42000 [==============================] - 1s 19us/step - loss: 0.5013 - acc: 0.8482\n",
            "Epoch 317/500\n",
            "42000/42000 [==============================] - 1s 18us/step - loss: 0.5043 - acc: 0.8491\n",
            "Epoch 318/500\n",
            "42000/42000 [==============================] - 1s 18us/step - loss: 0.5081 - acc: 0.8477\n",
            "Epoch 319/500\n",
            "42000/42000 [==============================] - 1s 18us/step - loss: 0.5034 - acc: 0.8485\n",
            "Epoch 320/500\n",
            "42000/42000 [==============================] - 1s 17us/step - loss: 0.5079 - acc: 0.8473\n",
            "Epoch 321/500\n",
            "42000/42000 [==============================] - 1s 18us/step - loss: 0.5000 - acc: 0.8499\n",
            "Epoch 322/500\n",
            "42000/42000 [==============================] - 1s 17us/step - loss: 0.5075 - acc: 0.8461\n",
            "Epoch 323/500\n",
            "42000/42000 [==============================] - 1s 18us/step - loss: 0.5067 - acc: 0.8459\n",
            "Epoch 324/500\n",
            "42000/42000 [==============================] - 1s 18us/step - loss: 0.5006 - acc: 0.8500\n",
            "Epoch 325/500\n",
            "42000/42000 [==============================] - 1s 18us/step - loss: 0.5009 - acc: 0.8506\n",
            "Epoch 326/500\n",
            "42000/42000 [==============================] - 1s 18us/step - loss: 0.5037 - acc: 0.8495\n",
            "Epoch 327/500\n",
            "42000/42000 [==============================] - 1s 17us/step - loss: 0.4922 - acc: 0.8544\n",
            "Epoch 328/500\n",
            "42000/42000 [==============================] - 1s 18us/step - loss: 0.4993 - acc: 0.8503\n",
            "Epoch 329/500\n",
            "42000/42000 [==============================] - 1s 17us/step - loss: 0.4959 - acc: 0.8530\n",
            "Epoch 330/500\n",
            "42000/42000 [==============================] - 1s 18us/step - loss: 0.4991 - acc: 0.8516\n",
            "Epoch 331/500\n",
            "42000/42000 [==============================] - 1s 17us/step - loss: 0.5048 - acc: 0.8483\n",
            "Epoch 332/500\n",
            "42000/42000 [==============================] - 1s 18us/step - loss: 0.4947 - acc: 0.8516\n",
            "Epoch 333/500\n",
            "42000/42000 [==============================] - 1s 17us/step - loss: 0.4949 - acc: 0.8526\n",
            "Epoch 334/500\n",
            "42000/42000 [==============================] - 1s 17us/step - loss: 0.5077 - acc: 0.8469\n",
            "Epoch 335/500\n",
            "42000/42000 [==============================] - 1s 18us/step - loss: 0.5053 - acc: 0.8473\n",
            "Epoch 336/500\n",
            "42000/42000 [==============================] - 1s 17us/step - loss: 0.4989 - acc: 0.8489\n",
            "Epoch 337/500\n",
            "42000/42000 [==============================] - 1s 17us/step - loss: 0.4988 - acc: 0.8507\n",
            "Epoch 338/500\n",
            "42000/42000 [==============================] - 1s 17us/step - loss: 0.5000 - acc: 0.8490\n",
            "Epoch 339/500\n",
            "42000/42000 [==============================] - 1s 18us/step - loss: 0.5002 - acc: 0.8503\n",
            "Epoch 340/500\n",
            "42000/42000 [==============================] - 1s 17us/step - loss: 0.4975 - acc: 0.8499\n",
            "Epoch 341/500\n",
            "42000/42000 [==============================] - 1s 17us/step - loss: 0.5005 - acc: 0.8499\n",
            "Epoch 342/500\n",
            "42000/42000 [==============================] - 1s 17us/step - loss: 0.4974 - acc: 0.8507\n",
            "Epoch 343/500\n",
            "42000/42000 [==============================] - 1s 19us/step - loss: 0.4953 - acc: 0.8502\n",
            "Epoch 344/500\n",
            "42000/42000 [==============================] - 1s 18us/step - loss: 0.4988 - acc: 0.8500\n",
            "Epoch 345/500\n",
            "42000/42000 [==============================] - 1s 18us/step - loss: 0.4998 - acc: 0.8495\n",
            "Epoch 346/500\n",
            "42000/42000 [==============================] - 1s 18us/step - loss: 0.4962 - acc: 0.8511\n",
            "Epoch 347/500\n",
            "42000/42000 [==============================] - 1s 18us/step - loss: 0.5025 - acc: 0.8479\n",
            "Epoch 348/500\n",
            "42000/42000 [==============================] - 1s 18us/step - loss: 0.4973 - acc: 0.8512\n",
            "Epoch 349/500\n",
            "42000/42000 [==============================] - 1s 17us/step - loss: 0.4949 - acc: 0.8516\n",
            "Epoch 350/500\n",
            "42000/42000 [==============================] - 1s 18us/step - loss: 0.4955 - acc: 0.8523\n",
            "Epoch 351/500\n",
            "42000/42000 [==============================] - 1s 18us/step - loss: 0.4939 - acc: 0.8506\n",
            "Epoch 352/500\n",
            "42000/42000 [==============================] - 1s 18us/step - loss: 0.4987 - acc: 0.8494\n",
            "Epoch 353/500\n",
            "42000/42000 [==============================] - 1s 18us/step - loss: 0.4963 - acc: 0.8509\n",
            "Epoch 354/500\n",
            "42000/42000 [==============================] - 1s 18us/step - loss: 0.4982 - acc: 0.8497\n",
            "Epoch 355/500\n",
            "42000/42000 [==============================] - 1s 18us/step - loss: 0.4973 - acc: 0.8507\n",
            "Epoch 356/500\n",
            "42000/42000 [==============================] - 1s 18us/step - loss: 0.4943 - acc: 0.8510\n",
            "Epoch 357/500\n",
            "42000/42000 [==============================] - 1s 18us/step - loss: 0.4984 - acc: 0.8510\n",
            "Epoch 358/500\n",
            "42000/42000 [==============================] - 1s 18us/step - loss: 0.5002 - acc: 0.8484\n",
            "Epoch 359/500\n",
            "42000/42000 [==============================] - 1s 17us/step - loss: 0.4992 - acc: 0.8504\n",
            "Epoch 360/500\n",
            "42000/42000 [==============================] - 1s 17us/step - loss: 0.4994 - acc: 0.8506\n",
            "Epoch 361/500\n",
            "42000/42000 [==============================] - 1s 18us/step - loss: 0.4965 - acc: 0.8514\n",
            "Epoch 362/500\n",
            "42000/42000 [==============================] - 1s 18us/step - loss: 0.4938 - acc: 0.8527\n",
            "Epoch 363/500\n",
            "42000/42000 [==============================] - 1s 17us/step - loss: 0.4931 - acc: 0.8529\n",
            "Epoch 364/500\n",
            "42000/42000 [==============================] - 1s 18us/step - loss: 0.4975 - acc: 0.8498\n",
            "Epoch 365/500\n",
            "42000/42000 [==============================] - 1s 18us/step - loss: 0.4953 - acc: 0.8493\n",
            "Epoch 366/500\n",
            "42000/42000 [==============================] - 1s 18us/step - loss: 0.4932 - acc: 0.8515\n",
            "Epoch 367/500\n",
            "42000/42000 [==============================] - 1s 18us/step - loss: 0.4945 - acc: 0.8502\n",
            "Epoch 368/500\n",
            "42000/42000 [==============================] - 1s 18us/step - loss: 0.4938 - acc: 0.8507\n",
            "Epoch 369/500\n",
            "42000/42000 [==============================] - 1s 18us/step - loss: 0.4912 - acc: 0.8538\n",
            "Epoch 370/500\n",
            "42000/42000 [==============================] - 1s 18us/step - loss: 0.4912 - acc: 0.8532\n",
            "Epoch 371/500\n",
            "42000/42000 [==============================] - 1s 17us/step - loss: 0.4977 - acc: 0.8494\n",
            "Epoch 372/500\n",
            "42000/42000 [==============================] - 1s 17us/step - loss: 0.4968 - acc: 0.8515\n",
            "Epoch 373/500\n",
            "42000/42000 [==============================] - 1s 18us/step - loss: 0.4917 - acc: 0.8529\n",
            "Epoch 374/500\n",
            "42000/42000 [==============================] - 1s 18us/step - loss: 0.4906 - acc: 0.8543\n",
            "Epoch 375/500\n",
            "42000/42000 [==============================] - 1s 18us/step - loss: 0.4937 - acc: 0.8512\n",
            "Epoch 376/500\n",
            "42000/42000 [==============================] - 1s 18us/step - loss: 0.4910 - acc: 0.8517\n",
            "Epoch 377/500\n",
            "42000/42000 [==============================] - 1s 18us/step - loss: 0.5022 - acc: 0.8472\n",
            "Epoch 378/500\n",
            "42000/42000 [==============================] - 1s 18us/step - loss: 0.4953 - acc: 0.8512\n",
            "Epoch 379/500\n",
            "42000/42000 [==============================] - 1s 18us/step - loss: 0.4910 - acc: 0.8515\n",
            "Epoch 380/500\n",
            "42000/42000 [==============================] - 1s 18us/step - loss: 0.4906 - acc: 0.8534\n",
            "Epoch 381/500\n",
            "42000/42000 [==============================] - 1s 18us/step - loss: 0.4971 - acc: 0.8513\n",
            "Epoch 382/500\n",
            "42000/42000 [==============================] - 1s 18us/step - loss: 0.4910 - acc: 0.8518\n",
            "Epoch 383/500\n",
            "42000/42000 [==============================] - 1s 17us/step - loss: 0.4886 - acc: 0.8550\n",
            "Epoch 384/500\n",
            "42000/42000 [==============================] - 1s 17us/step - loss: 0.4942 - acc: 0.8503\n",
            "Epoch 385/500\n",
            "42000/42000 [==============================] - 1s 17us/step - loss: 0.4952 - acc: 0.8509\n",
            "Epoch 386/500\n",
            "42000/42000 [==============================] - 1s 17us/step - loss: 0.4927 - acc: 0.8522\n",
            "Epoch 387/500\n",
            "42000/42000 [==============================] - 1s 18us/step - loss: 0.4933 - acc: 0.8505\n",
            "Epoch 388/500\n",
            "42000/42000 [==============================] - 1s 18us/step - loss: 0.4911 - acc: 0.8530\n",
            "Epoch 389/500\n",
            "42000/42000 [==============================] - 1s 18us/step - loss: 0.4887 - acc: 0.8526\n",
            "Epoch 390/500\n",
            "42000/42000 [==============================] - 1s 18us/step - loss: 0.4943 - acc: 0.8508\n",
            "Epoch 391/500\n",
            "42000/42000 [==============================] - 1s 18us/step - loss: 0.4926 - acc: 0.8524\n",
            "Epoch 392/500\n",
            "42000/42000 [==============================] - 1s 17us/step - loss: 0.4926 - acc: 0.8538\n",
            "Epoch 393/500\n",
            "42000/42000 [==============================] - 1s 17us/step - loss: 0.4922 - acc: 0.8509\n",
            "Epoch 394/500\n",
            "42000/42000 [==============================] - 1s 17us/step - loss: 0.4939 - acc: 0.8517\n",
            "Epoch 395/500\n",
            "42000/42000 [==============================] - 1s 17us/step - loss: 0.4908 - acc: 0.8522\n",
            "Epoch 396/500\n",
            "42000/42000 [==============================] - 1s 18us/step - loss: 0.4898 - acc: 0.8503\n",
            "Epoch 397/500\n",
            "42000/42000 [==============================] - 1s 18us/step - loss: 0.4896 - acc: 0.8527\n",
            "Epoch 398/500\n",
            "42000/42000 [==============================] - 1s 19us/step - loss: 0.4934 - acc: 0.8507\n",
            "Epoch 399/500\n",
            "42000/42000 [==============================] - 1s 17us/step - loss: 0.4884 - acc: 0.8532\n",
            "Epoch 400/500\n",
            "42000/42000 [==============================] - 1s 17us/step - loss: 0.4854 - acc: 0.8543\n",
            "Epoch 401/500\n",
            "42000/42000 [==============================] - 1s 18us/step - loss: 0.4916 - acc: 0.8512\n",
            "Epoch 402/500\n",
            "42000/42000 [==============================] - 1s 17us/step - loss: 0.4927 - acc: 0.8524\n",
            "Epoch 403/500\n",
            "42000/42000 [==============================] - 1s 18us/step - loss: 0.4871 - acc: 0.8542\n",
            "Epoch 404/500\n",
            "42000/42000 [==============================] - 1s 17us/step - loss: 0.4893 - acc: 0.8531\n",
            "Epoch 405/500\n",
            "42000/42000 [==============================] - 1s 17us/step - loss: 0.4870 - acc: 0.8544\n",
            "Epoch 406/500\n",
            "42000/42000 [==============================] - 1s 18us/step - loss: 0.4838 - acc: 0.8555\n",
            "Epoch 407/500\n",
            "42000/42000 [==============================] - 1s 19us/step - loss: 0.4895 - acc: 0.8520\n",
            "Epoch 408/500\n",
            "42000/42000 [==============================] - 1s 18us/step - loss: 0.4921 - acc: 0.8519\n",
            "Epoch 409/500\n",
            "42000/42000 [==============================] - 1s 17us/step - loss: 0.4845 - acc: 0.8540\n",
            "Epoch 410/500\n",
            "42000/42000 [==============================] - 1s 17us/step - loss: 0.4864 - acc: 0.8527\n",
            "Epoch 411/500\n",
            "42000/42000 [==============================] - 1s 18us/step - loss: 0.4851 - acc: 0.8551\n",
            "Epoch 412/500\n",
            "42000/42000 [==============================] - 1s 17us/step - loss: 0.4867 - acc: 0.8523\n",
            "Epoch 413/500\n",
            "42000/42000 [==============================] - 1s 17us/step - loss: 0.4894 - acc: 0.8532\n",
            "Epoch 414/500\n",
            "42000/42000 [==============================] - 1s 18us/step - loss: 0.4892 - acc: 0.8526\n",
            "Epoch 415/500\n",
            "42000/42000 [==============================] - 1s 17us/step - loss: 0.4850 - acc: 0.8538\n",
            "Epoch 416/500\n",
            "42000/42000 [==============================] - 1s 18us/step - loss: 0.4853 - acc: 0.8541\n",
            "Epoch 417/500\n",
            "42000/42000 [==============================] - 1s 17us/step - loss: 0.4848 - acc: 0.8549\n",
            "Epoch 418/500\n",
            "42000/42000 [==============================] - 1s 17us/step - loss: 0.4888 - acc: 0.8541\n",
            "Epoch 419/500\n",
            "42000/42000 [==============================] - 1s 17us/step - loss: 0.4867 - acc: 0.8525\n",
            "Epoch 420/500\n",
            "42000/42000 [==============================] - 1s 18us/step - loss: 0.4840 - acc: 0.8541\n",
            "Epoch 421/500\n",
            "42000/42000 [==============================] - 1s 17us/step - loss: 0.4858 - acc: 0.8543\n",
            "Epoch 422/500\n",
            "42000/42000 [==============================] - 1s 18us/step - loss: 0.4832 - acc: 0.8552\n",
            "Epoch 423/500\n",
            "42000/42000 [==============================] - 1s 18us/step - loss: 0.4858 - acc: 0.8545\n",
            "Epoch 424/500\n",
            "42000/42000 [==============================] - 1s 17us/step - loss: 0.4825 - acc: 0.8550\n",
            "Epoch 425/500\n",
            "42000/42000 [==============================] - 1s 18us/step - loss: 0.4794 - acc: 0.8561\n",
            "Epoch 426/500\n",
            "42000/42000 [==============================] - 1s 18us/step - loss: 0.4879 - acc: 0.8530\n",
            "Epoch 427/500\n",
            "42000/42000 [==============================] - 1s 18us/step - loss: 0.4922 - acc: 0.8523\n",
            "Epoch 428/500\n",
            "42000/42000 [==============================] - 1s 19us/step - loss: 0.4869 - acc: 0.8529\n",
            "Epoch 429/500\n",
            "42000/42000 [==============================] - 1s 18us/step - loss: 0.4910 - acc: 0.8524\n",
            "Epoch 430/500\n",
            "42000/42000 [==============================] - 1s 17us/step - loss: 0.4842 - acc: 0.8545\n",
            "Epoch 431/500\n",
            "42000/42000 [==============================] - 1s 18us/step - loss: 0.4843 - acc: 0.8546\n",
            "Epoch 432/500\n",
            "42000/42000 [==============================] - 1s 18us/step - loss: 0.4846 - acc: 0.8555\n",
            "Epoch 433/500\n",
            "42000/42000 [==============================] - 1s 17us/step - loss: 0.4863 - acc: 0.8524\n",
            "Epoch 434/500\n",
            "42000/42000 [==============================] - 1s 18us/step - loss: 0.4841 - acc: 0.8550\n",
            "Epoch 435/500\n",
            "42000/42000 [==============================] - 1s 17us/step - loss: 0.4771 - acc: 0.8579\n",
            "Epoch 436/500\n",
            "42000/42000 [==============================] - 1s 18us/step - loss: 0.4836 - acc: 0.8537\n",
            "Epoch 437/500\n",
            "42000/42000 [==============================] - 1s 18us/step - loss: 0.4910 - acc: 0.8511\n",
            "Epoch 438/500\n",
            "42000/42000 [==============================] - 1s 18us/step - loss: 0.4838 - acc: 0.8544\n",
            "Epoch 439/500\n",
            "42000/42000 [==============================] - 1s 18us/step - loss: 0.4839 - acc: 0.8535\n",
            "Epoch 440/500\n",
            "42000/42000 [==============================] - 1s 18us/step - loss: 0.4827 - acc: 0.8546\n",
            "Epoch 441/500\n",
            "42000/42000 [==============================] - 1s 17us/step - loss: 0.4839 - acc: 0.8561\n",
            "Epoch 442/500\n",
            "42000/42000 [==============================] - 1s 18us/step - loss: 0.4798 - acc: 0.8555\n",
            "Epoch 443/500\n",
            "42000/42000 [==============================] - 1s 17us/step - loss: 0.4822 - acc: 0.8538\n",
            "Epoch 444/500\n",
            "42000/42000 [==============================] - 1s 18us/step - loss: 0.4848 - acc: 0.8536\n",
            "Epoch 445/500\n",
            "42000/42000 [==============================] - 1s 18us/step - loss: 0.4884 - acc: 0.8514\n",
            "Epoch 446/500\n",
            "42000/42000 [==============================] - 1s 17us/step - loss: 0.4819 - acc: 0.8557\n",
            "Epoch 447/500\n",
            "42000/42000 [==============================] - 1s 18us/step - loss: 0.4792 - acc: 0.8567\n",
            "Epoch 448/500\n",
            "42000/42000 [==============================] - 1s 18us/step - loss: 0.4875 - acc: 0.8531\n",
            "Epoch 449/500\n",
            "42000/42000 [==============================] - 1s 18us/step - loss: 0.4879 - acc: 0.8523\n",
            "Epoch 450/500\n",
            "42000/42000 [==============================] - 1s 18us/step - loss: 0.4799 - acc: 0.8559\n",
            "Epoch 451/500\n",
            "42000/42000 [==============================] - 1s 17us/step - loss: 0.4810 - acc: 0.8564\n",
            "Epoch 452/500\n",
            "42000/42000 [==============================] - 1s 18us/step - loss: 0.4844 - acc: 0.8540\n",
            "Epoch 453/500\n",
            "42000/42000 [==============================] - 1s 19us/step - loss: 0.4813 - acc: 0.8541\n",
            "Epoch 454/500\n",
            "42000/42000 [==============================] - 1s 17us/step - loss: 0.4785 - acc: 0.8562\n",
            "Epoch 455/500\n",
            "42000/42000 [==============================] - 1s 17us/step - loss: 0.4809 - acc: 0.8563\n",
            "Epoch 456/500\n",
            "42000/42000 [==============================] - 1s 18us/step - loss: 0.4762 - acc: 0.8558\n",
            "Epoch 457/500\n",
            "42000/42000 [==============================] - 1s 16us/step - loss: 0.4798 - acc: 0.8552\n",
            "Epoch 458/500\n",
            "42000/42000 [==============================] - 1s 17us/step - loss: 0.4829 - acc: 0.8549\n",
            "Epoch 459/500\n",
            "42000/42000 [==============================] - 1s 17us/step - loss: 0.4770 - acc: 0.8569\n",
            "Epoch 460/500\n",
            "42000/42000 [==============================] - 1s 18us/step - loss: 0.4781 - acc: 0.8573\n",
            "Epoch 461/500\n",
            "42000/42000 [==============================] - 1s 17us/step - loss: 0.4760 - acc: 0.8563\n",
            "Epoch 462/500\n",
            "42000/42000 [==============================] - 1s 17us/step - loss: 0.4757 - acc: 0.8563\n",
            "Epoch 463/500\n",
            "42000/42000 [==============================] - 1s 17us/step - loss: 0.4823 - acc: 0.8532\n",
            "Epoch 464/500\n",
            "42000/42000 [==============================] - 1s 17us/step - loss: 0.4742 - acc: 0.8583\n",
            "Epoch 465/500\n",
            "42000/42000 [==============================] - 1s 17us/step - loss: 0.4784 - acc: 0.8577\n",
            "Epoch 466/500\n",
            "42000/42000 [==============================] - 1s 18us/step - loss: 0.4789 - acc: 0.8554\n",
            "Epoch 467/500\n",
            "42000/42000 [==============================] - 1s 17us/step - loss: 0.4784 - acc: 0.8553\n",
            "Epoch 468/500\n",
            "42000/42000 [==============================] - 1s 17us/step - loss: 0.4849 - acc: 0.8540\n",
            "Epoch 469/500\n",
            "42000/42000 [==============================] - 1s 17us/step - loss: 0.4840 - acc: 0.8544\n",
            "Epoch 470/500\n",
            "42000/42000 [==============================] - 1s 17us/step - loss: 0.4807 - acc: 0.8552\n",
            "Epoch 471/500\n",
            "42000/42000 [==============================] - 1s 17us/step - loss: 0.4784 - acc: 0.8585\n",
            "Epoch 472/500\n",
            "42000/42000 [==============================] - 1s 17us/step - loss: 0.4790 - acc: 0.8562\n",
            "Epoch 473/500\n",
            "42000/42000 [==============================] - 1s 18us/step - loss: 0.4775 - acc: 0.8566\n",
            "Epoch 474/500\n",
            "42000/42000 [==============================] - 1s 17us/step - loss: 0.4760 - acc: 0.8568\n",
            "Epoch 475/500\n",
            "42000/42000 [==============================] - 1s 17us/step - loss: 0.4784 - acc: 0.8557\n",
            "Epoch 476/500\n",
            "42000/42000 [==============================] - 1s 19us/step - loss: 0.4773 - acc: 0.8561\n",
            "Epoch 477/500\n",
            "42000/42000 [==============================] - 1s 19us/step - loss: 0.4738 - acc: 0.8574\n",
            "Epoch 478/500\n",
            "42000/42000 [==============================] - 1s 17us/step - loss: 0.4754 - acc: 0.8565\n",
            "Epoch 479/500\n",
            "42000/42000 [==============================] - 1s 19us/step - loss: 0.4790 - acc: 0.8550\n",
            "Epoch 480/500\n",
            "42000/42000 [==============================] - 1s 18us/step - loss: 0.4751 - acc: 0.8560\n",
            "Epoch 481/500\n",
            "42000/42000 [==============================] - 1s 17us/step - loss: 0.4773 - acc: 0.8550\n",
            "Epoch 482/500\n",
            "42000/42000 [==============================] - 1s 18us/step - loss: 0.4762 - acc: 0.8565\n",
            "Epoch 483/500\n",
            "42000/42000 [==============================] - 1s 18us/step - loss: 0.4778 - acc: 0.8562\n",
            "Epoch 484/500\n",
            "42000/42000 [==============================] - 1s 18us/step - loss: 0.4776 - acc: 0.8566\n",
            "Epoch 485/500\n",
            "42000/42000 [==============================] - 1s 17us/step - loss: 0.4728 - acc: 0.8560\n",
            "Epoch 486/500\n",
            "42000/42000 [==============================] - 1s 18us/step - loss: 0.4781 - acc: 0.8551\n",
            "Epoch 487/500\n",
            "42000/42000 [==============================] - 1s 18us/step - loss: 0.4748 - acc: 0.8579\n",
            "Epoch 488/500\n",
            "42000/42000 [==============================] - 1s 18us/step - loss: 0.4762 - acc: 0.8572\n",
            "Epoch 489/500\n",
            "42000/42000 [==============================] - 1s 17us/step - loss: 0.4722 - acc: 0.8585\n",
            "Epoch 490/500\n",
            "42000/42000 [==============================] - 1s 18us/step - loss: 0.4829 - acc: 0.8530\n",
            "Epoch 491/500\n",
            "42000/42000 [==============================] - 1s 18us/step - loss: 0.4799 - acc: 0.8557\n",
            "Epoch 492/500\n",
            "42000/42000 [==============================] - 1s 18us/step - loss: 0.4773 - acc: 0.8566\n",
            "Epoch 493/500\n",
            "42000/42000 [==============================] - 1s 17us/step - loss: 0.4734 - acc: 0.8587\n",
            "Epoch 494/500\n",
            "42000/42000 [==============================] - 1s 18us/step - loss: 0.4732 - acc: 0.8576\n",
            "Epoch 495/500\n",
            "42000/42000 [==============================] - 1s 17us/step - loss: 0.4776 - acc: 0.8575\n",
            "Epoch 496/500\n",
            "42000/42000 [==============================] - 1s 17us/step - loss: 0.4737 - acc: 0.8573\n",
            "Epoch 497/500\n",
            "42000/42000 [==============================] - 1s 17us/step - loss: 0.4792 - acc: 0.8556\n",
            "Epoch 498/500\n",
            "42000/42000 [==============================] - 1s 17us/step - loss: 0.4736 - acc: 0.8569\n",
            "Epoch 499/500\n",
            "42000/42000 [==============================] - 1s 18us/step - loss: 0.4728 - acc: 0.8581\n",
            "Epoch 500/500\n",
            "42000/42000 [==============================] - 1s 18us/step - loss: 0.4711 - acc: 0.8602\n"
          ],
          "name": "stdout"
        },
        {
          "output_type": "execute_result",
          "data": {
            "text/plain": [
              "<keras.callbacks.History at 0x7f807a8cbc18>"
            ]
          },
          "metadata": {
            "tags": []
          },
          "execution_count": 147
        }
      ]
    },
    {
      "cell_type": "code",
      "metadata": {
        "id": "e1lq3o8d9wTH",
        "colab_type": "code",
        "colab": {}
      },
      "source": [
        "y_predict_scores = model.predict(X_val)"
      ],
      "execution_count": 0,
      "outputs": []
    },
    {
      "cell_type": "code",
      "metadata": {
        "colab_type": "code",
        "id": "AAmYwoFc-bHd",
        "colab": {
          "base_uri": "https://localhost:8080/",
          "height": 283
        },
        "outputId": "572ff968-a5a2-47b5-fbac-d54e2b6e888f"
      },
      "source": [
        "n = 31\n",
        "plt.imshow(X_val[n].reshape(32,32), cmap='gray')"
      ],
      "execution_count": 149,
      "outputs": [
        {
          "output_type": "execute_result",
          "data": {
            "text/plain": [
              "<matplotlib.image.AxesImage at 0x7f807a398f28>"
            ]
          },
          "metadata": {
            "tags": []
          },
          "execution_count": 149
        },
        {
          "output_type": "display_data",
          "data": {
            "image/png": "[encoded data removed]",
            "text/plain": [
              "<Figure size 432x288 with 1 Axes>"
            ]
          },
          "metadata": {
            "tags": []
          }
        }
      ]
    },
    {
      "cell_type": "code",
      "metadata": {
        "id": "wunkm3_UmaR6",
        "colab_type": "code",
        "colab": {
          "base_uri": "https://localhost:8080/",
          "height": 51
        },
        "outputId": "2a811293-119d-4eb0-f599-dd633897aaa5"
      },
      "source": [
        "print(\"Predicted Class:\", y_predict_scores[n].argmax())\n",
        "print(\"Original Class:\", y_val[n])"
      ],
      "execution_count": 150,
      "outputs": [
        {
          "output_type": "stream",
          "text": [
            "Predicted Class: 8\n",
            "Original Class: 8\n"
          ],
          "name": "stdout"
        }
      ]
    },
    {
      "cell_type": "code",
      "metadata": {
        "id": "Gq36e9CFk2fP",
        "colab_type": "code",
        "colab": {}
      },
      "source": [
        "#Getting the class value from the prediction scores returned by softmax of final layer in the network.\n",
        "y_predict = np.argmax(y_predict_scores, axis=1)"
      ],
      "execution_count": 0,
      "outputs": []
    },
    {
      "cell_type": "code",
      "metadata": {
        "id": "YxLQpeJ8lhei",
        "colab_type": "code",
        "colab": {
          "base_uri": "https://localhost:8080/",
          "height": 34
        },
        "outputId": "bd3baa78-054c-4fb7-87d4-60b547f39bfe"
      },
      "source": [
        "#displaying y_predict classes\n",
        "y_predict"
      ],
      "execution_count": 152,
      "outputs": [
        {
          "output_type": "execute_result",
          "data": {
            "text/plain": [
              "array([0, 7, 2, ..., 7, 9, 2])"
            ]
          },
          "metadata": {
            "tags": []
          },
          "execution_count": 152
        }
      ]
    },
    {
      "cell_type": "code",
      "metadata": {
        "id": "LErJaRY-CfRh",
        "colab_type": "code",
        "colab": {
          "base_uri": "https://localhost:8080/",
          "height": 187
        },
        "outputId": "4b4df0cc-aed0-4686-ef99-6a03d1cb88d3"
      },
      "source": [
        "#Checking the metrics for classification\n",
        "cm_Keras = confusion_matrix(y_val, y_predict)\n",
        "print(cm_Keras)"
      ],
      "execution_count": 153,
      "outputs": [
        {
          "output_type": "stream",
          "text": [
            "[[1614   41    9   20   25    5   27   20   17   36]\n",
            " [  65 1538   14   45   34    4   17   67   24   20]\n",
            " [  41   36 1444   52   24   12   12   98   31   53]\n",
            " [  30   35   30 1352   16  103   21   40   62   30]\n",
            " [  68   69   30   24 1456   14   44   21   43   43]\n",
            " [  29   22   10  106   12 1391   77   16   47   58]\n",
            " [  80   25   13   33   26   63 1437   12  113   30]\n",
            " [  37   77   55   30   15    6    9 1537   13   29]\n",
            " [  52   39   19   70   13   35   95   19 1407   63]\n",
            " [ 102   35   20   69   18   38   17   34   44 1427]]\n"
          ],
          "name": "stdout"
        }
      ]
    },
    {
      "cell_type": "markdown",
      "metadata": {
        "id": "SHihXSXCtVlr",
        "colab_type": "text"
      },
      "source": [
        "The diagonal values on the confusion matrix numbers are high, hence the majority of the records are predicted correctly."
      ]
    },
    {
      "cell_type": "code",
      "metadata": {
        "id": "5uHRNpgXteGJ",
        "colab_type": "code",
        "colab": {
          "base_uri": "https://localhost:8080/",
          "height": 85
        },
        "outputId": "12a4a9eb-48d9-45fd-a76b-f9c5ba3785ef"
      },
      "source": [
        "precision_Keras, recall_Keras,fscore_Keras,support_Keras = metrics.precision_recall_fscore_support(y_val, y_predict, average='weighted')\n",
        "print(\"Precision:\", precision_Keras, \"\\nRecall:\", recall_Keras, \"\\nfScore:\", fscore_Keras, \"\\nSupport: \" , support_Keras)"
      ],
      "execution_count": 154,
      "outputs": [
        {
          "output_type": "stream",
          "text": [
            "Precision: 0.8138356611551999 \n",
            "Recall: 0.8112777777777778 \n",
            "fScore: 0.8114577478793138 \n",
            "Support:  None\n"
          ],
          "name": "stdout"
        }
      ]
    },
    {
      "cell_type": "markdown",
      "metadata": {
        "id": "_n58qgrEuhdS",
        "colab_type": "text"
      },
      "source": [
        "#Metrics Comparision:"
      ]
    },
    {
      "cell_type": "code",
      "metadata": {
        "id": "feSH3B4qulv1",
        "colab_type": "code",
        "colab": {
          "base_uri": "https://localhost:8080/",
          "height": 306
        },
        "outputId": "612ae2ea-d77d-4b96-8ef7-574e41f1fb1e"
      },
      "source": [
        "print(\"K-Nearest:\\nPrecision:\", precision_Kmean, \"\\nRecall:\", recall_Kmean, \"\\nfScore:\", fscore_Kmean, \"\\nSupport: \" , support_Kmean)\n",
        "print()\n",
        "print(\"NeuralNetScratch:\\nPrecision:\", precision_NN, \"\\nRecall:\", recall_NN, \"\\nfScore:\", fscore_NN, \"\\nSupport: \" , support_NN)\n",
        "print()\n",
        "print(\"Keras:\\nPrecision:\", precision_Keras, \"\\nRecall:\", recall_Keras, \"\\nfScore:\", fscore_Keras, \"\\nSupport: \" , support_Keras)"
      ],
      "execution_count": 159,
      "outputs": [
        {
          "output_type": "stream",
          "text": [
            "K-Nearest:\n",
            "Precision: 0.46726604551888157 \n",
            "Recall: 0.464 \n",
            "fScore: 0.4629475447667764 \n",
            "Support:  None\n",
            "\n",
            "NeuralNetScratch:\n",
            "Precision: 0.8192233207566396 \n",
            "Recall: 0.8163333333333334 \n",
            "fScore: 0.8164957714639031 \n",
            "Support:  None\n",
            "\n",
            "Keras:\n",
            "Precision: 0.8138356611551999 \n",
            "Recall: 0.8112777777777778 \n",
            "fScore: 0.8114577478793138 \n",
            "Support:  None\n"
          ],
          "name": "stdout"
        }
      ]
    },
    {
      "cell_type": "markdown",
      "metadata": {
        "id": "7xKe8QSXu5Hm",
        "colab_type": "text"
      },
      "source": [
        "Confusion Matrix Comparision:"
      ]
    },
    {
      "cell_type": "code",
      "metadata": {
        "id": "GmaNDjY_u4Nv",
        "colab_type": "code",
        "colab": {
          "base_uri": "https://localhost:8080/",
          "height": 612
        },
        "outputId": "47d842fb-85ba-4e78-c9e6-455e597aa52f"
      },
      "source": [
        "print(\"K-Nearest:\\n\", cm_Kmean)\n",
        "print()\n",
        "print(\"NN from Scratch:\\n\", cm_NN)\n",
        "print()\n",
        "print(\"Keras:\\n\", cm_Keras)"
      ],
      "execution_count": 158,
      "outputs": [
        {
          "output_type": "stream",
          "text": [
            "K-Nearest:\n",
            " [[32  1  1  1  2  2  8  2  4  5]\n",
            " [ 0 34  6  3  7  5  2  0  2  2]\n",
            " [ 4  3 20  3  3  1  2  5  1  5]\n",
            " [ 3  3  2 26  4 11  5  2  5  3]\n",
            " [ 0  4  3  1 19  1  1  0  3  2]\n",
            " [ 3  3  1 10  2 15  5  1 10  2]\n",
            " [ 6  4  1  2  1  1 21  1  4  1]\n",
            " [ 0  7  4  2  0  1  1 21  1  1]\n",
            " [ 0  2  0  3  1  6  8  2 22  5]\n",
            " [13  2  2  1  3  3  4  2  3 22]]\n",
            "\n",
            "NN from Scratch:\n",
            " [[1502   33   16   18   15   11   52   45   26   96]\n",
            " [  22 1519   28   39   54   20   25   68   20   33]\n",
            " [   8   26 1514   38   25   19    9   75   25   64]\n",
            " [  19   34   38 1248   15  185   27   58   46   49]\n",
            " [  22   53   31   24 1509   35   54   12   13   59]\n",
            " [  11   21   20   68    9 1486   61   17   25   50]\n",
            " [  33   27   16   25   29   80 1518   12   67   25]\n",
            " [  18   66   48   17    7   22   16 1560    6   48]\n",
            " [  26   45   25   45   16   70  141   15 1342   87]\n",
            " [  42   29   27   36   20   66   22   37   29 1496]]\n",
            "\n",
            "Keras:\n",
            " [[1614   41    9   20   25    5   27   20   17   36]\n",
            " [  65 1538   14   45   34    4   17   67   24   20]\n",
            " [  41   36 1444   52   24   12   12   98   31   53]\n",
            " [  30   35   30 1352   16  103   21   40   62   30]\n",
            " [  68   69   30   24 1456   14   44   21   43   43]\n",
            " [  29   22   10  106   12 1391   77   16   47   58]\n",
            " [  80   25   13   33   26   63 1437   12  113   30]\n",
            " [  37   77   55   30   15    6    9 1537   13   29]\n",
            " [  52   39   19   70   13   35   95   19 1407   63]\n",
            " [ 102   35   20   69   18   38   17   34   44 1427]]\n"
          ],
          "name": "stdout"
        }
      ]
    },
    {
      "cell_type": "markdown",
      "metadata": {
        "id": "ffF2Y3---fY_",
        "colab_type": "text"
      },
      "source": [
        "Based on the metrics it is evident that Neural networks performs very well for the Image Classifications."
      ]
    }
  ]
}